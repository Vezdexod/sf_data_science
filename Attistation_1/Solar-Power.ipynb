{
 "cells": [
  {
   "cell_type": "markdown",
   "id": "25bb6bc5-fbd2-400a-9e01-cba18415fe9d",
   "metadata": {},
   "source": [
    "## <center> Аттестация. Практическое задание в Jupiter"
   ]
  },
  {
   "cell_type": "markdown",
   "id": "74c91391-dc17-4d6a-bbf8-489617260e61",
   "metadata": {},
   "source": [
    "В данном блоке вам предстоит решить задачу, которую автор когда-то решал на одном из своих собеседований.\n",
    "Вам предоставлена таблица с данными (скачать файл можно на платформе) о ежедневной выработке энергии солнечными батареями. Информация в ней содержится в двух столбцах: \n",
    "* date - дата наблюдения\n",
    "* cum_power - накопленная (кумулятивная) выработка энергии на указанный день\n",
    "\n",
    "То есть перед вами классический пример временного ряда: числовой показатель, зависящий от времени. Давайте с ним поработаем.\n"
   ]
  },
  {
   "cell_type": "code",
   "execution_count": 26,
   "id": "b3bad4ea-f1e8-47a4-a8f9-7c7ec263e5cb",
   "metadata": {},
   "outputs": [],
   "source": [
    "import pandas as pd\n",
    "import numpy as np"
   ]
  },
  {
   "cell_type": "markdown",
   "id": "d4014255-56cb-4ca8-9ebc-34003a9177d1",
   "metadata": {},
   "source": [
    "1. В нашем временном ряде есть несколько пропусков, они обозначены числом -1. Заполните пропуски средним арифметическим между двумя соседними наблюдениями: </p>\n",
    "    $$x^*_i  = \\frac{x_{i-1} - x_{i+1}}{2}$$ \n",
    "    \n",
    "Совет: проще всего будет сделать это, используя цикл по индексам элементов столбца cum_power, но вы можете предложить более изящное решение.\n"
   ]
  },
  {
   "cell_type": "code",
   "execution_count": 27,
   "id": "2787a04e-a9e1-42ab-a5d9-39077ec65174",
   "metadata": {},
   "outputs": [],
   "source": [
    "#Создадим DataFrame из csv файла\n",
    "solar_power_data = pd.read_csv('./solarpower.csv', sep=',')"
   ]
  },
  {
   "cell_type": "code",
   "execution_count": 28,
   "id": "033c33f4",
   "metadata": {},
   "outputs": [
    {
     "data": {
      "text/html": [
       "<div>\n",
       "<style scoped>\n",
       "    .dataframe tbody tr th:only-of-type {\n",
       "        vertical-align: middle;\n",
       "    }\n",
       "\n",
       "    .dataframe tbody tr th {\n",
       "        vertical-align: top;\n",
       "    }\n",
       "\n",
       "    .dataframe thead th {\n",
       "        text-align: right;\n",
       "    }\n",
       "</style>\n",
       "<table border=\"1\" class=\"dataframe\">\n",
       "  <thead>\n",
       "    <tr style=\"text-align: right;\">\n",
       "      <th></th>\n",
       "      <th>date</th>\n",
       "      <th>cum_power</th>\n",
       "    </tr>\n",
       "  </thead>\n",
       "  <tbody>\n",
       "    <tr>\n",
       "      <th>0</th>\n",
       "      <td>2017-01-01</td>\n",
       "      <td>20111.0</td>\n",
       "    </tr>\n",
       "    <tr>\n",
       "      <th>1</th>\n",
       "      <td>2017-01-02</td>\n",
       "      <td>20112.0</td>\n",
       "    </tr>\n",
       "    <tr>\n",
       "      <th>2</th>\n",
       "      <td>2017-01-03</td>\n",
       "      <td>20115.0</td>\n",
       "    </tr>\n",
       "    <tr>\n",
       "      <th>3</th>\n",
       "      <td>2017-01-04</td>\n",
       "      <td>20117.0</td>\n",
       "    </tr>\n",
       "    <tr>\n",
       "      <th>4</th>\n",
       "      <td>2017-01-05</td>\n",
       "      <td>20119.0</td>\n",
       "    </tr>\n",
       "  </tbody>\n",
       "</table>\n",
       "</div>"
      ],
      "text/plain": [
       "         date  cum_power\n",
       "0  2017-01-01    20111.0\n",
       "1  2017-01-02    20112.0\n",
       "2  2017-01-03    20115.0\n",
       "3  2017-01-04    20117.0\n",
       "4  2017-01-05    20119.0"
      ]
     },
     "metadata": {},
     "output_type": "display_data"
    },
    {
     "name": "stderr",
     "output_type": "stream",
     "text": [
      "C:\\Users\\mish9\\.conda\\envs\\sf\\lib\\site-packages\\pandas\\core\\indexing.py:1732: SettingWithCopyWarning: \n",
      "A value is trying to be set on a copy of a slice from a DataFrame\n",
      "\n",
      "See the caveats in the documentation: https://pandas.pydata.org/pandas-docs/stable/user_guide/indexing.html#returning-a-view-versus-a-copy\n",
      "  self._setitem_single_block(indexer, value, name)\n"
     ]
    },
    {
     "data": {
      "text/plain": [
       "24053.0    3\n",
       "24036.0    2\n",
       "24048.0    2\n",
       "24081.0    2\n",
       "20208.0    2\n",
       "          ..\n",
       "23080.0    1\n",
       "23083.0    1\n",
       "23103.0    1\n",
       "23108.0    1\n",
       "28120.0    1\n",
       "Name: cum_power, Length: 651, dtype: int64"
      ]
     },
     "metadata": {},
     "output_type": "display_data"
    }
   ],
   "source": [
    "sp_df = solar_power_data.copy()\n",
    "display(sp_df.head())\n",
    "\n",
    "#Заменим пропуски в накопленной энергии средним между 2-мя днями\n",
    "for i in range(sp_df.shape[0]):\n",
    "    if sp_df['cum_power'].iloc[i] == -1:\n",
    "        sp_df['cum_power'].iloc[i] = abs((sp_df['cum_power'].iloc[i-1]+sp_df['cum_power'].iloc[i+1])/2)\n",
    "        \n",
    "display(sp_df['cum_power'].value_counts())"
   ]
  },
  {
   "cell_type": "markdown",
   "id": "2fe6fd75-0332-4b3d-a89c-d96f42617c6e",
   "metadata": {},
   "source": [
    "2. Теперь, когда таблица заполнена, создайте столбец day_power - ежедневный прирост выработки солнечной энергии.\n",
    "\n",
    "    После чего создайте данные о ежемесячной выработке энергии на каждый год. \n",
    "    \n",
    "Совет: для того, чтобы выделить из даты год и месяц проще всего воспользоваться методом аксессора dt.to_period('M'), который позволяет выделять периоды, в данном случае 'М' - месяц."
   ]
  },
  {
   "cell_type": "code",
   "execution_count": 29,
   "id": "44690b98",
   "metadata": {},
   "outputs": [],
   "source": [
    "sp_df['day_power'] = np.NaN\n",
    "\n",
    "#Создадим признак накомпленной энергии за день\n",
    "for i in range(sp_df.shape[0]):\n",
    "    sp_df['day_power'].iloc[i] = sp_df['cum_power'].iloc[i] - sp_df['cum_power'].iloc[i-1]\n",
    "\n",
    "#Обнулим значение за 1 января, так как это день начала отсчёта\n",
    "sp_df['day_power'].iloc[0] = 0\n",
    "        \n",
    "#display(sp_df.head(20))\n",
    "\n",
    "#Выделим месяца из дат\n",
    "sp_df['mounth'] = pd.to_datetime(sp_df['date']).dt.to_period('M')\n",
    "#display(sp_df.head(20))\n",
    "\n",
    "#Получим суммарную выработку энергии по месяцы\n",
    "sp_mounth = sp_df.groupby(\n",
    "    by='mounth',\n",
    "    as_index=False\n",
    ")['day_power'].sum()\n",
    "\n",
    "#display(sp_mounth.info())\n",
    "#display(sp_mounth.head(30))"
   ]
  },
  {
   "cell_type": "markdown",
   "id": "1651a4e4-42d5-4dd2-94a2-2ae78030cbb7",
   "metadata": {},
   "source": [
    "3. Постройте график временного ряда - ежемесячной выработки солнечной энергии. Не забудьте подписать оси и сам график.\n",
    "Укажите в какие сезоны наблюдается подъем, а в какие спад?"
   ]
  },
  {
   "cell_type": "code",
   "execution_count": 30,
   "id": "2c70ec98",
   "metadata": {},
   "outputs": [
    {
     "data": {
      "image/png": "[encoded data removed]",
      "text/plain": [
       "<Figure size 1296x432 with 1 Axes>"
      ]
     },
     "metadata": {
      "needs_background": "light"
     },
     "output_type": "display_data"
    }
   ],
   "source": [
    "sp_mounth.plot(\n",
    "    x='mounth',\n",
    "    y='day_power',\n",
    "    kind='bar',\n",
    "    figsize=(18, 6),\n",
    "    title='Ежемесячная выработка солнечной энергии',\n",
    "    grid=True,\n",
    "    legend=False,\n",
    "    xlabel='Месяц',\n",
    "    ylabel='Энергия'\n",
    ");"
   ]
  },
  {
   "cell_type": "markdown",
   "id": "b6202e97",
   "metadata": {},
   "source": [
    "Судя по графику, можно сделать следующие выводы:\n",
    "* выработка энергии зависит от сезона;\n",
    "* выработанная мощность может отличаться в одном и том же месяце от года к году;\n",
    "* самая большая выработка наблюдается в период апрель-август, так как принимается больше солнечной энергии;\n",
    "* самая маленькая выработка наблюдается в период октябрь-февраль, так как принимается меньше солнечной энергии."
   ]
  }
 ],
 "metadata": {
  "kernelspec": {
   "display_name": "Python 3 (ipykernel)",
   "language": "python",
   "name": "python3"
  },
  "language_info": {
   "codemirror_mode": {
    "name": "ipython",
    "version": 3
   },
   "file_extension": ".py",
   "mimetype": "text/x-python",
   "name": "python",
   "nbconvert_exporter": "python",
   "pygments_lexer": "ipython3",
   "version": "3.8.11"
  }
 },
 "nbformat": 4,
 "nbformat_minor": 5
}
