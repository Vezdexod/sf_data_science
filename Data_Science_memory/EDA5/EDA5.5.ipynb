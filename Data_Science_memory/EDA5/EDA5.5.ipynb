{
 "cells": [
  {
   "cell_type": "code",
   "execution_count": 1,
   "metadata": {},
   "outputs": [],
   "source": [
    "import pandas as pd\n",
    "import matplotlib.pyplot as plt\n",
    "import seaborn as sns"
   ]
  },
  {
   "cell_type": "markdown",
   "metadata": {},
   "source": [
    "**00 hotel_address** — адрес отеля {нечисловой};\n",
    "\n",
    "**01 additional_number_of_scoring** — есть также некоторые гости, которые просто поставили оценку сервису, но не оставили отзыв. Это число указывает, сколько там действительных оценок без проверки {числовой};\n",
    "\n",
    "**02 review_date** — дата, когда рецензент разместил соответствующий отзыв {дата};\n",
    "\n",
    "**03 average_score** — средний балл отеля, рассчитанный на основе последнего комментария за последний год {числовой};\n",
    "\n",
    "**04 hotel_name** — название отеля {нечисловой};\n",
    "\n",
    "**05 reviewer_nationality** — страна рецензента {нечисловой};\n",
    "\n",
    "**06 negative_review** — отрицательный отзыв, который рецензент дал отелю {нечисловой};\n",
    "\n",
    "**07 review_total_negative_word_counts** — общее количество слов в отрицательном отзыве {числовой};\n",
    "\n",
    "**08 total_number_of_reviews** — общее количество действительных отзывов об отеле {числовой};\n",
    "\n",
    "**09 positive_review** — положительный отзыв, который рецензент дал отелю {нечисловой};\n",
    "\n",
    "**10 review_total_positive_word_counts** — общее количество слов в положительном отзыве {числовой};\n",
    "\n",
    "**11 total_number_of_reviews_reviewer_has_given** — количество отзывов, которые рецензенты дали в прошлом {числовой};\n",
    "\n",
    "**12 reviewer_score** — оценка, которую рецензент поставил отелю на основе своего опыта {числовой};\n",
    "\n",
    "**13 tags** — теги, которые рецензент дал отелю {нечисловой};\n",
    "\n",
    "**14 days_since_review** — количество дней между датой проверки и датой очистки {нечисловой};\n",
    "\n",
    "**15 lat** — географическая широта отеля {числовой};\n",
    "\n",
    "**16 lng** — географическая долгота отеля {числовой}."
   ]
  },
  {
   "cell_type": "code",
   "execution_count": null,
   "metadata": {},
   "outputs": [],
   "source": []
  },
  {
   "cell_type": "code",
   "execution_count": null,
   "metadata": {},
   "outputs": [],
   "source": []
  },
  {
   "cell_type": "code",
   "execution_count": null,
   "metadata": {},
   "outputs": [],
   "source": []
  },
  {
   "cell_type": "code",
   "execution_count": null,
   "metadata": {},
   "outputs": [],
   "source": []
  },
  {
   "cell_type": "code",
   "execution_count": null,
   "metadata": {},
   "outputs": [],
   "source": []
  },
  {
   "cell_type": "code",
   "execution_count": null,
   "metadata": {},
   "outputs": [],
   "source": []
  },
  {
   "cell_type": "code",
   "execution_count": null,
   "metadata": {},
   "outputs": [],
   "source": []
  },
  {
   "cell_type": "code",
   "execution_count": null,
   "metadata": {},
   "outputs": [],
   "source": []
  },
  {
   "cell_type": "code",
   "execution_count": null,
   "metadata": {},
   "outputs": [],
   "source": []
  },
  {
   "cell_type": "code",
   "execution_count": null,
   "metadata": {},
   "outputs": [],
   "source": []
  },
  {
   "cell_type": "code",
   "execution_count": null,
   "metadata": {},
   "outputs": [],
   "source": []
  },
  {
   "cell_type": "code",
   "execution_count": null,
   "metadata": {},
   "outputs": [],
   "source": []
  },
  {
   "cell_type": "code",
   "execution_count": null,
   "metadata": {},
   "outputs": [],
   "source": []
  },
  {
   "cell_type": "code",
   "execution_count": null,
   "metadata": {},
   "outputs": [],
   "source": []
  },
  {
   "cell_type": "code",
   "execution_count": null,
   "metadata": {},
   "outputs": [],
   "source": []
  },
  {
   "cell_type": "code",
   "execution_count": null,
   "metadata": {},
   "outputs": [],
   "source": []
  },
  {
   "cell_type": "code",
   "execution_count": null,
   "metadata": {},
   "outputs": [],
   "source": []
  },
  {
   "cell_type": "code",
   "execution_count": null,
   "metadata": {},
   "outputs": [],
   "source": []
  },
  {
   "cell_type": "code",
   "execution_count": null,
   "metadata": {},
   "outputs": [],
   "source": []
  }
 ],
 "metadata": {
  "interpreter": {
   "hash": "a0ee17f82dbdcb75f08a05abb4036aba74cc48f12b0e4c388beeedfd1810f8cf"
  },
  "kernelspec": {
   "display_name": "Python 3.8.11 ('sf')",
   "language": "python",
   "name": "python3"
  },
  "language_info": {
   "codemirror_mode": {
    "name": "ipython",
    "version": 3
   },
   "file_extension": ".py",
   "mimetype": "text/x-python",
   "name": "python",
   "nbconvert_exporter": "python",
   "pygments_lexer": "ipython3",
   "version": "3.8.11"
  },
  "orig_nbformat": 4
 },
 "nbformat": 4,
 "nbformat_minor": 2
}
