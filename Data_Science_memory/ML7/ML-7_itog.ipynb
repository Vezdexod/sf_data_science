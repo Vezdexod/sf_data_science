{
 "cells": [
  {
   "cell_type": "markdown",
   "id": "af628f85-6780-4b24-8212-e9946c388196",
   "metadata": {
    "id": "af628f85-6780-4b24-8212-e9946c388196",
    "tags": []
   },
   "source": [
    "## 1. Введение"
   ]
  },
  {
   "attachments": {},
   "cell_type": "markdown",
   "id": "9e936f48",
   "metadata": {},
   "source": [
    "Данные представлены в формате CSV.  Каждая строка представляет молекулу. \n",
    "\n",
    "Первый столбец Activity содержит экспериментальные данные, описывающие фактический биологический ответ [0, 1]; \n",
    "Остальные столбцы D1-D1776 представляют собой молекулярные дескрипторы — это вычисляемые свойства, которые могут фиксировать некоторые характеристики молекулы, например размер, форму или состав элементов.\n",
    "\n",
    "Предварительная обработка не требуется, данные уже закодированы и нормализованы.\n",
    "\n",
    "В качестве метрики будем использовать F1-score.\n",
    "\n",
    "Необходимо обучить две модели: логистическую регрессию и случайный лес. Далее нужно сделать подбор гиперпараметров с помощью базовых и продвинутых методов оптимизации. Важно использовать все четыре метода (GridSeachCV, RandomizedSearchCV, Hyperopt, Optuna) хотя бы по разу, максимальное количество итераций не должно превышать 50."
   ]
  },
  {
   "cell_type": "markdown",
   "id": "203fb80e-a314-4876-850c-5e4913f78563",
   "metadata": {
    "id": "203fb80e-a314-4876-850c-5e4913f78563",
    "tags": []
   },
   "source": [
    "## 2. Базовая оптимизация"
   ]
  },
  {
   "cell_type": "code",
   "execution_count": 1,
   "id": "d8q91-MSaAOG",
   "metadata": {
    "id": "d8q91-MSaAOG"
   },
   "outputs": [],
   "source": [
    "#импорт библиотек\n",
    "import numpy as np #для матричных вычислений\n",
    "import pandas as pd #для анализа и предобработки данных\n",
    "import matplotlib.pyplot as plt #для визуализации\n",
    "import seaborn as sns #для визуализации\n",
    "\n",
    "from sklearn import linear_model #линейные моделиё\n",
    "from sklearn import tree #деревья решений\n",
    "from sklearn import ensemble #ансамбли\n",
    "from sklearn import metrics #метрики\n",
    "from sklearn import preprocessing #предобработка\n",
    "from sklearn.model_selection import train_test_split #сплитование выборки\n",
    "\n",
    "from sklearn.model_selection import cross_val_score\n",
    "import hyperopt\n",
    "from hyperopt import hp, fmin, tpe, Trials\n",
    "# fmin - основная функция, она будет минимизировать наш функционал\n",
    "# tpe - алгоритм оптимизации\n",
    "# hp - включает набор методов для объявления пространства поиска гиперпараметров\n",
    "# trails - используется для логирования результатов\n",
    "\n",
    "import optuna\n",
    "\n",
    "%matplotlib inline\n",
    "plt.style.use('seaborn')"
   ]
  },
  {
   "cell_type": "markdown",
   "id": "8lbyun1kaAOy",
   "metadata": {
    "id": "8lbyun1kaAOy",
    "tags": []
   },
   "source": [
    "### Знакомство с данными и их исследование"
   ]
  },
  {
   "cell_type": "code",
   "execution_count": 2,
   "id": "p770SmlfaAO3",
   "metadata": {
    "colab": {
     "base_uri": "https://localhost:8080/",
     "height": 223
    },
    "executionInfo": {
     "elapsed": 40242,
     "status": "ok",
     "timestamp": 1650553529870,
     "user": {
      "displayName": "VICDS _",
      "userId": "16539764637744847477"
     },
     "user_tz": -180
    },
    "id": "p770SmlfaAO3",
    "outputId": "d6f8209e-05bf-452c-dd16-2f5725c31f1a"
   },
   "outputs": [
    {
     "data": {
      "text/html": [
       "<div>\n",
       "<style scoped>\n",
       "    .dataframe tbody tr th:only-of-type {\n",
       "        vertical-align: middle;\n",
       "    }\n",
       "\n",
       "    .dataframe tbody tr th {\n",
       "        vertical-align: top;\n",
       "    }\n",
       "\n",
       "    .dataframe thead th {\n",
       "        text-align: right;\n",
       "    }\n",
       "</style>\n",
       "<table border=\"1\" class=\"dataframe\">\n",
       "  <thead>\n",
       "    <tr style=\"text-align: right;\">\n",
       "      <th></th>\n",
       "      <th>Activity</th>\n",
       "      <th>D1</th>\n",
       "      <th>D2</th>\n",
       "      <th>D3</th>\n",
       "      <th>D4</th>\n",
       "      <th>D5</th>\n",
       "      <th>D6</th>\n",
       "      <th>D7</th>\n",
       "      <th>D8</th>\n",
       "      <th>D9</th>\n",
       "      <th>...</th>\n",
       "      <th>D1767</th>\n",
       "      <th>D1768</th>\n",
       "      <th>D1769</th>\n",
       "      <th>D1770</th>\n",
       "      <th>D1771</th>\n",
       "      <th>D1772</th>\n",
       "      <th>D1773</th>\n",
       "      <th>D1774</th>\n",
       "      <th>D1775</th>\n",
       "      <th>D1776</th>\n",
       "    </tr>\n",
       "  </thead>\n",
       "  <tbody>\n",
       "    <tr>\n",
       "      <th>0</th>\n",
       "      <td>1</td>\n",
       "      <td>0.000000</td>\n",
       "      <td>0.497009</td>\n",
       "      <td>0.10</td>\n",
       "      <td>0.0</td>\n",
       "      <td>0.132956</td>\n",
       "      <td>0.678031</td>\n",
       "      <td>0.273166</td>\n",
       "      <td>0.585445</td>\n",
       "      <td>0.743663</td>\n",
       "      <td>...</td>\n",
       "      <td>0</td>\n",
       "      <td>0</td>\n",
       "      <td>0</td>\n",
       "      <td>0</td>\n",
       "      <td>0</td>\n",
       "      <td>0</td>\n",
       "      <td>0</td>\n",
       "      <td>0</td>\n",
       "      <td>0</td>\n",
       "      <td>0</td>\n",
       "    </tr>\n",
       "    <tr>\n",
       "      <th>1</th>\n",
       "      <td>1</td>\n",
       "      <td>0.366667</td>\n",
       "      <td>0.606291</td>\n",
       "      <td>0.05</td>\n",
       "      <td>0.0</td>\n",
       "      <td>0.111209</td>\n",
       "      <td>0.803455</td>\n",
       "      <td>0.106105</td>\n",
       "      <td>0.411754</td>\n",
       "      <td>0.836582</td>\n",
       "      <td>...</td>\n",
       "      <td>1</td>\n",
       "      <td>1</td>\n",
       "      <td>1</td>\n",
       "      <td>1</td>\n",
       "      <td>0</td>\n",
       "      <td>1</td>\n",
       "      <td>0</td>\n",
       "      <td>0</td>\n",
       "      <td>1</td>\n",
       "      <td>0</td>\n",
       "    </tr>\n",
       "    <tr>\n",
       "      <th>2</th>\n",
       "      <td>1</td>\n",
       "      <td>0.033300</td>\n",
       "      <td>0.480124</td>\n",
       "      <td>0.00</td>\n",
       "      <td>0.0</td>\n",
       "      <td>0.209791</td>\n",
       "      <td>0.610350</td>\n",
       "      <td>0.356453</td>\n",
       "      <td>0.517720</td>\n",
       "      <td>0.679051</td>\n",
       "      <td>...</td>\n",
       "      <td>0</td>\n",
       "      <td>0</td>\n",
       "      <td>0</td>\n",
       "      <td>0</td>\n",
       "      <td>0</td>\n",
       "      <td>0</td>\n",
       "      <td>0</td>\n",
       "      <td>0</td>\n",
       "      <td>0</td>\n",
       "      <td>0</td>\n",
       "    </tr>\n",
       "    <tr>\n",
       "      <th>3</th>\n",
       "      <td>1</td>\n",
       "      <td>0.000000</td>\n",
       "      <td>0.538825</td>\n",
       "      <td>0.00</td>\n",
       "      <td>0.5</td>\n",
       "      <td>0.196344</td>\n",
       "      <td>0.724230</td>\n",
       "      <td>0.235606</td>\n",
       "      <td>0.288764</td>\n",
       "      <td>0.805110</td>\n",
       "      <td>...</td>\n",
       "      <td>0</td>\n",
       "      <td>0</td>\n",
       "      <td>0</td>\n",
       "      <td>0</td>\n",
       "      <td>0</td>\n",
       "      <td>0</td>\n",
       "      <td>0</td>\n",
       "      <td>0</td>\n",
       "      <td>0</td>\n",
       "      <td>0</td>\n",
       "    </tr>\n",
       "    <tr>\n",
       "      <th>4</th>\n",
       "      <td>0</td>\n",
       "      <td>0.100000</td>\n",
       "      <td>0.517794</td>\n",
       "      <td>0.00</td>\n",
       "      <td>0.0</td>\n",
       "      <td>0.494734</td>\n",
       "      <td>0.781422</td>\n",
       "      <td>0.154361</td>\n",
       "      <td>0.303809</td>\n",
       "      <td>0.812646</td>\n",
       "      <td>...</td>\n",
       "      <td>0</td>\n",
       "      <td>0</td>\n",
       "      <td>0</td>\n",
       "      <td>0</td>\n",
       "      <td>0</td>\n",
       "      <td>0</td>\n",
       "      <td>0</td>\n",
       "      <td>0</td>\n",
       "      <td>0</td>\n",
       "      <td>0</td>\n",
       "    </tr>\n",
       "  </tbody>\n",
       "</table>\n",
       "<p>5 rows × 1777 columns</p>\n",
       "</div>"
      ],
      "text/plain": [
       "   Activity        D1        D2    D3   D4        D5        D6        D7  \\\n",
       "0         1  0.000000  0.497009  0.10  0.0  0.132956  0.678031  0.273166   \n",
       "1         1  0.366667  0.606291  0.05  0.0  0.111209  0.803455  0.106105   \n",
       "2         1  0.033300  0.480124  0.00  0.0  0.209791  0.610350  0.356453   \n",
       "3         1  0.000000  0.538825  0.00  0.5  0.196344  0.724230  0.235606   \n",
       "4         0  0.100000  0.517794  0.00  0.0  0.494734  0.781422  0.154361   \n",
       "\n",
       "         D8        D9  ...  D1767  D1768  D1769  D1770  D1771  D1772  D1773  \\\n",
       "0  0.585445  0.743663  ...      0      0      0      0      0      0      0   \n",
       "1  0.411754  0.836582  ...      1      1      1      1      0      1      0   \n",
       "2  0.517720  0.679051  ...      0      0      0      0      0      0      0   \n",
       "3  0.288764  0.805110  ...      0      0      0      0      0      0      0   \n",
       "4  0.303809  0.812646  ...      0      0      0      0      0      0      0   \n",
       "\n",
       "   D1774  D1775  D1776  \n",
       "0      0      0      0  \n",
       "1      0      1      0  \n",
       "2      0      0      0  \n",
       "3      0      0      0  \n",
       "4      0      0      0  \n",
       "\n",
       "[5 rows x 1777 columns]"
      ]
     },
     "execution_count": 2,
     "metadata": {},
     "output_type": "execute_result"
    }
   ],
   "source": [
    "data = pd.read_csv('_train_sem09 (1).csv')\n",
    "data.head()"
   ]
  },
  {
   "cell_type": "markdown",
   "id": "g2w-AD7uaAPK",
   "metadata": {
    "id": "g2w-AD7uaAPK"
   },
   "source": [
    "Проверяем наличие пропусков"
   ]
  },
  {
   "cell_type": "code",
   "execution_count": 3,
   "id": "-0L4fYsbaAPP",
   "metadata": {
    "colab": {
     "base_uri": "https://localhost:8080/"
    },
    "executionInfo": {
     "elapsed": 100,
     "status": "ok",
     "timestamp": 1650553529889,
     "user": {
      "displayName": "VICDS _",
      "userId": "16539764637744847477"
     },
     "user_tz": -180
    },
    "id": "-0L4fYsbaAPP",
    "outputId": "e5f3ce35-3c90-428a-9831-27dda4dd292c"
   },
   "outputs": [
    {
     "data": {
      "text/plain": [
       "0"
      ]
     },
     "execution_count": 3,
     "metadata": {},
     "output_type": "execute_result"
    }
   ],
   "source": [
    "data.isnull().sum().max()"
   ]
  },
  {
   "cell_type": "code",
   "execution_count": 4,
   "id": "OkBZOD4eaAPW",
   "metadata": {
    "colab": {
     "base_uri": "https://localhost:8080/",
     "height": 175
    },
    "executionInfo": {
     "elapsed": 90,
     "status": "ok",
     "timestamp": 1650553529893,
     "user": {
      "displayName": "VICDS _",
      "userId": "16539764637744847477"
     },
     "user_tz": -180
    },
    "id": "OkBZOD4eaAPW",
    "outputId": "0953ce71-8f6f-494c-95d1-33b659c88910"
   },
   "outputs": [
    {
     "data": {
      "text/html": [
       "<div>\n",
       "<style scoped>\n",
       "    .dataframe tbody tr th:only-of-type {\n",
       "        vertical-align: middle;\n",
       "    }\n",
       "\n",
       "    .dataframe tbody tr th {\n",
       "        vertical-align: top;\n",
       "    }\n",
       "\n",
       "    .dataframe thead th {\n",
       "        text-align: right;\n",
       "    }\n",
       "</style>\n",
       "<table border=\"1\" class=\"dataframe\">\n",
       "  <thead>\n",
       "    <tr style=\"text-align: right;\">\n",
       "      <th></th>\n",
       "      <th>Activity</th>\n",
       "      <th>D1</th>\n",
       "      <th>D2</th>\n",
       "      <th>D3</th>\n",
       "      <th>D4</th>\n",
       "      <th>D5</th>\n",
       "      <th>D6</th>\n",
       "      <th>D7</th>\n",
       "      <th>D8</th>\n",
       "      <th>D9</th>\n",
       "      <th>...</th>\n",
       "      <th>D1767</th>\n",
       "      <th>D1768</th>\n",
       "      <th>D1769</th>\n",
       "      <th>D1770</th>\n",
       "      <th>D1771</th>\n",
       "      <th>D1772</th>\n",
       "      <th>D1773</th>\n",
       "      <th>D1774</th>\n",
       "      <th>D1775</th>\n",
       "      <th>D1776</th>\n",
       "    </tr>\n",
       "  </thead>\n",
       "  <tbody>\n",
       "    <tr>\n",
       "      <th>count</th>\n",
       "      <td>3751.000000</td>\n",
       "      <td>3751.000000</td>\n",
       "      <td>3751.000000</td>\n",
       "      <td>3751.000000</td>\n",
       "      <td>3751.000000</td>\n",
       "      <td>3751.000000</td>\n",
       "      <td>3751.000000</td>\n",
       "      <td>3751.000000</td>\n",
       "      <td>3751.000000</td>\n",
       "      <td>3751.000000</td>\n",
       "      <td>...</td>\n",
       "      <td>3751.000000</td>\n",
       "      <td>3751.000000</td>\n",
       "      <td>3751.000000</td>\n",
       "      <td>3751.000000</td>\n",
       "      <td>3751.000000</td>\n",
       "      <td>3751.000000</td>\n",
       "      <td>3751.000000</td>\n",
       "      <td>3751.000000</td>\n",
       "      <td>3751.000000</td>\n",
       "      <td>3751.000000</td>\n",
       "    </tr>\n",
       "    <tr>\n",
       "      <th>mean</th>\n",
       "      <td>0.542255</td>\n",
       "      <td>0.076948</td>\n",
       "      <td>0.592436</td>\n",
       "      <td>0.068142</td>\n",
       "      <td>0.038990</td>\n",
       "      <td>0.212112</td>\n",
       "      <td>0.686653</td>\n",
       "      <td>0.274713</td>\n",
       "      <td>0.455133</td>\n",
       "      <td>0.749517</td>\n",
       "      <td>...</td>\n",
       "      <td>0.026926</td>\n",
       "      <td>0.014663</td>\n",
       "      <td>0.013863</td>\n",
       "      <td>0.021861</td>\n",
       "      <td>0.015196</td>\n",
       "      <td>0.016796</td>\n",
       "      <td>0.012263</td>\n",
       "      <td>0.011730</td>\n",
       "      <td>0.020261</td>\n",
       "      <td>0.011197</td>\n",
       "    </tr>\n",
       "    <tr>\n",
       "      <th>std</th>\n",
       "      <td>0.498278</td>\n",
       "      <td>0.079989</td>\n",
       "      <td>0.105860</td>\n",
       "      <td>0.078414</td>\n",
       "      <td>0.115885</td>\n",
       "      <td>0.102592</td>\n",
       "      <td>0.078702</td>\n",
       "      <td>0.090017</td>\n",
       "      <td>0.162731</td>\n",
       "      <td>0.071702</td>\n",
       "      <td>...</td>\n",
       "      <td>0.161889</td>\n",
       "      <td>0.120215</td>\n",
       "      <td>0.116938</td>\n",
       "      <td>0.146249</td>\n",
       "      <td>0.122348</td>\n",
       "      <td>0.128522</td>\n",
       "      <td>0.110074</td>\n",
       "      <td>0.107683</td>\n",
       "      <td>0.140911</td>\n",
       "      <td>0.105236</td>\n",
       "    </tr>\n",
       "    <tr>\n",
       "      <th>min</th>\n",
       "      <td>0.000000</td>\n",
       "      <td>0.000000</td>\n",
       "      <td>0.282128</td>\n",
       "      <td>0.000000</td>\n",
       "      <td>0.000000</td>\n",
       "      <td>0.002630</td>\n",
       "      <td>0.137873</td>\n",
       "      <td>0.006130</td>\n",
       "      <td>0.000000</td>\n",
       "      <td>0.275590</td>\n",
       "      <td>...</td>\n",
       "      <td>0.000000</td>\n",
       "      <td>0.000000</td>\n",
       "      <td>0.000000</td>\n",
       "      <td>0.000000</td>\n",
       "      <td>0.000000</td>\n",
       "      <td>0.000000</td>\n",
       "      <td>0.000000</td>\n",
       "      <td>0.000000</td>\n",
       "      <td>0.000000</td>\n",
       "      <td>0.000000</td>\n",
       "    </tr>\n",
       "    <tr>\n",
       "      <th>25%</th>\n",
       "      <td>0.000000</td>\n",
       "      <td>0.033300</td>\n",
       "      <td>0.517811</td>\n",
       "      <td>0.000000</td>\n",
       "      <td>0.000000</td>\n",
       "      <td>0.138118</td>\n",
       "      <td>0.625627</td>\n",
       "      <td>0.207374</td>\n",
       "      <td>0.378062</td>\n",
       "      <td>0.707339</td>\n",
       "      <td>...</td>\n",
       "      <td>0.000000</td>\n",
       "      <td>0.000000</td>\n",
       "      <td>0.000000</td>\n",
       "      <td>0.000000</td>\n",
       "      <td>0.000000</td>\n",
       "      <td>0.000000</td>\n",
       "      <td>0.000000</td>\n",
       "      <td>0.000000</td>\n",
       "      <td>0.000000</td>\n",
       "      <td>0.000000</td>\n",
       "    </tr>\n",
       "    <tr>\n",
       "      <th>50%</th>\n",
       "      <td>1.000000</td>\n",
       "      <td>0.066700</td>\n",
       "      <td>0.585989</td>\n",
       "      <td>0.050000</td>\n",
       "      <td>0.000000</td>\n",
       "      <td>0.190926</td>\n",
       "      <td>0.674037</td>\n",
       "      <td>0.277845</td>\n",
       "      <td>0.499942</td>\n",
       "      <td>0.738961</td>\n",
       "      <td>...</td>\n",
       "      <td>0.000000</td>\n",
       "      <td>0.000000</td>\n",
       "      <td>0.000000</td>\n",
       "      <td>0.000000</td>\n",
       "      <td>0.000000</td>\n",
       "      <td>0.000000</td>\n",
       "      <td>0.000000</td>\n",
       "      <td>0.000000</td>\n",
       "      <td>0.000000</td>\n",
       "      <td>0.000000</td>\n",
       "    </tr>\n",
       "    <tr>\n",
       "      <th>75%</th>\n",
       "      <td>1.000000</td>\n",
       "      <td>0.100000</td>\n",
       "      <td>0.668395</td>\n",
       "      <td>0.100000</td>\n",
       "      <td>0.000000</td>\n",
       "      <td>0.261726</td>\n",
       "      <td>0.740663</td>\n",
       "      <td>0.335816</td>\n",
       "      <td>0.569962</td>\n",
       "      <td>0.788177</td>\n",
       "      <td>...</td>\n",
       "      <td>0.000000</td>\n",
       "      <td>0.000000</td>\n",
       "      <td>0.000000</td>\n",
       "      <td>0.000000</td>\n",
       "      <td>0.000000</td>\n",
       "      <td>0.000000</td>\n",
       "      <td>0.000000</td>\n",
       "      <td>0.000000</td>\n",
       "      <td>0.000000</td>\n",
       "      <td>0.000000</td>\n",
       "    </tr>\n",
       "    <tr>\n",
       "      <th>max</th>\n",
       "      <td>1.000000</td>\n",
       "      <td>1.000000</td>\n",
       "      <td>0.964381</td>\n",
       "      <td>0.950000</td>\n",
       "      <td>1.000000</td>\n",
       "      <td>1.000000</td>\n",
       "      <td>0.994735</td>\n",
       "      <td>0.790831</td>\n",
       "      <td>0.989870</td>\n",
       "      <td>1.000000</td>\n",
       "      <td>...</td>\n",
       "      <td>1.000000</td>\n",
       "      <td>1.000000</td>\n",
       "      <td>1.000000</td>\n",
       "      <td>1.000000</td>\n",
       "      <td>1.000000</td>\n",
       "      <td>1.000000</td>\n",
       "      <td>1.000000</td>\n",
       "      <td>1.000000</td>\n",
       "      <td>1.000000</td>\n",
       "      <td>1.000000</td>\n",
       "    </tr>\n",
       "  </tbody>\n",
       "</table>\n",
       "<p>8 rows × 1777 columns</p>\n",
       "</div>"
      ],
      "text/plain": [
       "          Activity           D1           D2           D3           D4  \\\n",
       "count  3751.000000  3751.000000  3751.000000  3751.000000  3751.000000   \n",
       "mean      0.542255     0.076948     0.592436     0.068142     0.038990   \n",
       "std       0.498278     0.079989     0.105860     0.078414     0.115885   \n",
       "min       0.000000     0.000000     0.282128     0.000000     0.000000   \n",
       "25%       0.000000     0.033300     0.517811     0.000000     0.000000   \n",
       "50%       1.000000     0.066700     0.585989     0.050000     0.000000   \n",
       "75%       1.000000     0.100000     0.668395     0.100000     0.000000   \n",
       "max       1.000000     1.000000     0.964381     0.950000     1.000000   \n",
       "\n",
       "                D5           D6           D7           D8           D9  ...  \\\n",
       "count  3751.000000  3751.000000  3751.000000  3751.000000  3751.000000  ...   \n",
       "mean      0.212112     0.686653     0.274713     0.455133     0.749517  ...   \n",
       "std       0.102592     0.078702     0.090017     0.162731     0.071702  ...   \n",
       "min       0.002630     0.137873     0.006130     0.000000     0.275590  ...   \n",
       "25%       0.138118     0.625627     0.207374     0.378062     0.707339  ...   \n",
       "50%       0.190926     0.674037     0.277845     0.499942     0.738961  ...   \n",
       "75%       0.261726     0.740663     0.335816     0.569962     0.788177  ...   \n",
       "max       1.000000     0.994735     0.790831     0.989870     1.000000  ...   \n",
       "\n",
       "             D1767        D1768        D1769        D1770        D1771  \\\n",
       "count  3751.000000  3751.000000  3751.000000  3751.000000  3751.000000   \n",
       "mean      0.026926     0.014663     0.013863     0.021861     0.015196   \n",
       "std       0.161889     0.120215     0.116938     0.146249     0.122348   \n",
       "min       0.000000     0.000000     0.000000     0.000000     0.000000   \n",
       "25%       0.000000     0.000000     0.000000     0.000000     0.000000   \n",
       "50%       0.000000     0.000000     0.000000     0.000000     0.000000   \n",
       "75%       0.000000     0.000000     0.000000     0.000000     0.000000   \n",
       "max       1.000000     1.000000     1.000000     1.000000     1.000000   \n",
       "\n",
       "             D1772        D1773        D1774        D1775        D1776  \n",
       "count  3751.000000  3751.000000  3751.000000  3751.000000  3751.000000  \n",
       "mean      0.016796     0.012263     0.011730     0.020261     0.011197  \n",
       "std       0.128522     0.110074     0.107683     0.140911     0.105236  \n",
       "min       0.000000     0.000000     0.000000     0.000000     0.000000  \n",
       "25%       0.000000     0.000000     0.000000     0.000000     0.000000  \n",
       "50%       0.000000     0.000000     0.000000     0.000000     0.000000  \n",
       "75%       0.000000     0.000000     0.000000     0.000000     0.000000  \n",
       "max       1.000000     1.000000     1.000000     1.000000     1.000000  \n",
       "\n",
       "[8 rows x 1777 columns]"
      ]
     },
     "execution_count": 4,
     "metadata": {},
     "output_type": "execute_result"
    }
   ],
   "source": [
    "data.describe()"
   ]
  },
  {
   "cell_type": "markdown",
   "id": "0jbyUoPlaAPc",
   "metadata": {
    "id": "0jbyUoPlaAPc"
   },
   "source": [
    "Смотрим на сбалансированность классов:"
   ]
  },
  {
   "cell_type": "code",
   "execution_count": 5,
   "id": "PPo2xmRdaAPf",
   "metadata": {
    "colab": {
     "base_uri": "https://localhost:8080/",
     "height": 361
    },
    "executionInfo": {
     "elapsed": 1087,
     "status": "ok",
     "timestamp": 1650553530901,
     "user": {
      "displayName": "VICDS _",
      "userId": "16539764637744847477"
     },
     "user_tz": -180
    },
    "id": "PPo2xmRdaAPf",
    "outputId": "4db04fd7-a921-4f20-ce92-b8294d0f3d2a"
   },
   "outputs": [
    {
     "data": {
      "image/png": "[encoded data removed]",
      "text/plain": [
       "<Figure size 576x396 with 1 Axes>"
      ]
     },
     "metadata": {},
     "output_type": "display_data"
    }
   ],
   "source": [
    "sns.countplot(data=data, x='Activity');"
   ]
  },
  {
   "attachments": {},
   "cell_type": "markdown",
   "id": "41898179",
   "metadata": {},
   "source": [
    "Видим, что классы хоть и не сбалансированя, но близки к этому."
   ]
  },
  {
   "cell_type": "markdown",
   "id": "8p3eELnEaAQW",
   "metadata": {
    "id": "8p3eELnEaAQW"
   },
   "source": [
    "Создаем матрицу наблюдений $X$ и вектор ответов $y$"
   ]
  },
  {
   "cell_type": "code",
   "execution_count": 6,
   "id": "_2GncsCbaAQY",
   "metadata": {
    "id": "_2GncsCbaAQY"
   },
   "outputs": [],
   "source": [
    "X = data.drop(['Activity'], axis=1)\n",
    "y = data['Activity']"
   ]
  },
  {
   "cell_type": "markdown",
   "id": "q4SyRSFhaAQZ",
   "metadata": {
    "id": "q4SyRSFhaAQZ"
   },
   "source": [
    "Разделяем выборку на тренировочную и тестовую в соотношении 80/20. Для сохранения соотношений целевого признака используем параметр stratify (стратифицированное разбиение). "
   ]
  },
  {
   "cell_type": "code",
   "execution_count": 7,
   "id": "Fl_eJIInaAQa",
   "metadata": {
    "id": "Fl_eJIInaAQa"
   },
   "outputs": [],
   "source": [
    "X_train, X_test, y_train, y_test = train_test_split(X, y, stratify=y, random_state = 42, test_size = 0.2)"
   ]
  },
  {
   "cell_type": "markdown",
   "id": "H7DZBta2aAQf",
   "metadata": {
    "id": "H7DZBta2aAQf",
    "tags": []
   },
   "source": [
    "### Оптимизация гиперпараметров модели"
   ]
  },
  {
   "attachments": {},
   "cell_type": "markdown",
   "id": "CE7v-medaAQh",
   "metadata": {
    "id": "CE7v-medaAQh",
    "tags": []
   },
   "source": [
    "# <center> **Логистическая регрессия**"
   ]
  },
  {
   "cell_type": "markdown",
   "id": "5b6d603a-1ce0-414e-b095-e0f61113c0e7",
   "metadata": {
    "id": "5b6d603a-1ce0-414e-b095-e0f61113c0e7"
   },
   "source": [
    "Зафиксируем только метрики, которые были получены без дополнительной настройки, т.е со значениями гиперпараметров, установленных по умолчанию:"
   ]
  },
  {
   "cell_type": "code",
   "execution_count": 8,
   "id": "0aMCHU3-aAQn",
   "metadata": {
    "colab": {
     "base_uri": "https://localhost:8080/"
    },
    "executionInfo": {
     "elapsed": 160,
     "status": "ok",
     "timestamp": 1650547896821,
     "user": {
      "displayName": "VICDS _",
      "userId": "16539764637744847477"
     },
     "user_tz": -180
    },
    "id": "0aMCHU3-aAQn",
    "outputId": "ce2823fa-1cb5-4ec5-dd51-fec74d3ccd33"
   },
   "outputs": [
    {
     "name": "stdout",
     "output_type": "stream",
     "text": [
      "accuracy на тестовом наборе: 0.75\n",
      "f1_score на тестовом наборе: 0.78\n"
     ]
    }
   ],
   "source": [
    "#Создаем объект класса логистическая регрессия\n",
    "log_reg = linear_model.LogisticRegression(random_state=42, max_iter = 1000)\n",
    "#Обучаем модель, минимизируя logloss\n",
    "log_reg.fit(X_train, y_train)\n",
    "print(\"accuracy на тестовом наборе: {:.2f}\".format(log_reg.score(X_test, y_test)))\n",
    "y_test_pred = log_reg.predict(X_test)\n",
    "print('f1_score на тестовом наборе: {:.2f}'.format(metrics.f1_score(y_test, y_test_pred)))"
   ]
  },
  {
   "cell_type": "markdown",
   "id": "Q6PP7ObJp7WG",
   "metadata": {
    "id": "Q6PP7ObJp7WG"
   },
   "source": [
    "### <center> **GridSearchCV**"
   ]
  },
  {
   "cell_type": "code",
   "execution_count": 9,
   "id": "drR8M2WLjOyM",
   "metadata": {
    "colab": {
     "base_uri": "https://localhost:8080/"
    },
    "executionInfo": {
     "elapsed": 444303,
     "status": "ok",
     "timestamp": 1650548412305,
     "user": {
      "displayName": "VICDS _",
      "userId": "16539764637744847477"
     },
     "user_tz": -180
    },
    "id": "drR8M2WLjOyM",
    "outputId": "706f049a-5f83-4c39-8b70-36b2e1ab1c4c"
   },
   "outputs": [
    {
     "name": "stdout",
     "output_type": "stream",
     "text": [
      "Wall time: 21min 56s\n",
      "Наилучшие значения гиперпараметров: {'C': 0.23, 'penalty': 'l1', 'solver': 'saga'}\n",
      "f1_score на тестовом наборе: 0.78\n"
     ]
    },
    {
     "name": "stderr",
     "output_type": "stream",
     "text": [
      "c:\\Users\\mish9\\.conda\\envs\\sf\\lib\\site-packages\\sklearn\\linear_model\\_sag.py:350: ConvergenceWarning: The max_iter was reached which means the coef_ did not converge\n",
      "  warnings.warn(\n"
     ]
    }
   ],
   "source": [
    "from sklearn.model_selection import GridSearchCV\n",
    "\n",
    "param_grid = [\n",
    "    {'solver': ['saga'], # алгоритм оптимизации\n",
    "     'penalty': ['l1', 'l2'], # тип регуляризации\n",
    "     'C': list(np.linspace(0.01, 1, 10, dtype=float)) # уровень силы регурялизации \n",
    "    },\n",
    "        \n",
    "    {'solver': ['lbfgs'],\n",
    "     'penalty': ['l2'],\n",
    "     'C': list(np.linspace(0.01, 1, 10, dtype=float))\n",
    "    }\n",
    "]\n",
    "\n",
    "grid_search = GridSearchCV(\n",
    "    estimator=linear_model.LogisticRegression(random_state=42, max_iter=1000), \n",
    "    param_grid=param_grid, \n",
    "    cv=5, \n",
    "    n_jobs = -1\n",
    ")  \n",
    "\n",
    "\n",
    "%time grid_search.fit(X_train, y_train) \n",
    "print(\"Наилучшие значения гиперпараметров: {}\".format(grid_search.best_params_))\n",
    "\n",
    "y_test_pred = grid_search.predict(X_test)\n",
    "print('f1_score на тестовом наборе: {:.2f}'.format(metrics.f1_score(y_test, y_test_pred)))\n"
   ]
  },
  {
   "cell_type": "markdown",
   "id": "QOlWE5zSptj0",
   "metadata": {
    "id": "QOlWE5zSptj0"
   },
   "source": [
    "### <center> **RandomizedSearchCV**"
   ]
  },
  {
   "cell_type": "code",
   "execution_count": 10,
   "id": "4yjUJJKntcX7",
   "metadata": {
    "colab": {
     "base_uri": "https://localhost:8080/"
    },
    "executionInfo": {
     "elapsed": 67382,
     "status": "ok",
     "timestamp": 1650548481134,
     "user": {
      "displayName": "VICDS _",
      "userId": "16539764637744847477"
     },
     "user_tz": -180
    },
    "id": "4yjUJJKntcX7",
    "outputId": "c7964d60-9c70-42f4-8f0c-217d9e568ddc"
   },
   "outputs": [
    {
     "name": "stdout",
     "output_type": "stream",
     "text": [
      "Wall time: 8min 7s\n",
      "Наилучшие значения гиперпараметров: {'solver': 'saga', 'penalty': 'l1', 'C': 0.45}\n",
      "f1_score на тестовом наборе: 0.78\n"
     ]
    },
    {
     "name": "stderr",
     "output_type": "stream",
     "text": [
      "c:\\Users\\mish9\\.conda\\envs\\sf\\lib\\site-packages\\sklearn\\linear_model\\_sag.py:350: ConvergenceWarning: The max_iter was reached which means the coef_ did not converge\n",
      "  warnings.warn(\n"
     ]
    }
   ],
   "source": [
    "from sklearn.model_selection import RandomizedSearchCV\n",
    "\n",
    "param_distributions = [\n",
    "    {'solver': ['saga'], # алгоритм оптимизации\n",
    "     'penalty': ['l1', 'l2'], # тип регуляризации\n",
    "     'C': list(np.linspace(0.01, 1, 10, dtype=float)) # уровень силы регурялизации \n",
    "    },\n",
    "        \n",
    "    {'solver': ['lbfgs'],\n",
    "     'penalty': ['l2'],\n",
    "     'C': list(np.linspace(0.01, 1, 10, dtype=float))\n",
    "    }\n",
    "]\n",
    "\n",
    "random_search = RandomizedSearchCV(\n",
    "    estimator=linear_model.LogisticRegression(random_state=42, max_iter=1000), \n",
    "    param_distributions=param_distributions, \n",
    "    cv=5, \n",
    "    n_iter = 10, \n",
    "    n_jobs = -1\n",
    ")  \n",
    "\n",
    "%time random_search.fit(X_train, y_train) \n",
    "print(\"Наилучшие значения гиперпараметров: {}\".format(random_search.best_params_))\n",
    "\n",
    "y_test_pred = random_search.predict(X_test)\n",
    "print('f1_score на тестовом наборе: {:.2f}'.format(metrics.f1_score(y_test, y_test_pred)))"
   ]
  },
  {
   "attachments": {},
   "cell_type": "markdown",
   "id": "5a6bb86a",
   "metadata": {},
   "source": [
    "### <center> **Hyperopt**"
   ]
  },
  {
   "cell_type": "code",
   "execution_count": 11,
   "id": "8670668d",
   "metadata": {},
   "outputs": [
    {
     "name": "stdout",
     "output_type": "stream",
     "text": [
      "100%|██████████| 20/20 [14:08<00:00, 42.42s/trial, best loss: -0.7801633308319003]\n",
      "Наилучшие значения гиперпараметров {'C_saga': 0.10567819922023905, 'parameter_combinations': 0, 'penalty': 1}\n"
     ]
    }
   ],
   "source": [
    "# Параметр регуляризации выбирается случайным образом из равномерного распределения\n",
    "space = hp.choice('parameter_combinations', [\n",
    "        {'solver': 'saga',\n",
    "         'penalty': hp.choice('penalty', ['l1', 'l2']),\n",
    "         'C': hp.uniform('C_saga', 0.01, 1)\n",
    "        },\n",
    "        \n",
    "        {'solver': 'lbfgs',\n",
    "        'penalty': 'l2',\n",
    "        'C': hp.uniform('C_lbfgs', 0.01, 1)\n",
    "        }\n",
    "        ]\n",
    ")\n",
    "\n",
    "# Целевая функция\n",
    "def obj_func(params, cv=5, X=X_train, y=y_train, random_state=42):\n",
    "    params = {'solver': params['solver'], \n",
    "              'penalty': params['penalty'], \n",
    "              'C': params['C']\n",
    "             }\n",
    "      \n",
    "    model = linear_model.LogisticRegression(**params, class_weight='balanced', \n",
    "        random_state=random_state, max_iter=1000\n",
    "    )\n",
    "      \n",
    "    # Обучаем модель с помощью кросс-валидации\n",
    "    score = cross_val_score(model, X, y, cv=cv, scoring='f1', n_jobs=-1).mean()\n",
    "\n",
    "    return -score \n",
    "\n",
    "\n",
    "trials = Trials()\n",
    "best=fmin(obj_func, \n",
    "          space=space, \n",
    "          algo=tpe.suggest, \n",
    "          max_evals=20, \n",
    "          trials=trials, \n",
    "          #rstate=np.random.RandomState(random_state)\n",
    "          rstate=np.random.default_rng(42)\n",
    "         )\n",
    "print(\"Наилучшие значения гиперпараметров {}\".format(best))"
   ]
  },
  {
   "cell_type": "code",
   "execution_count": 12,
   "id": "e31152ae",
   "metadata": {},
   "outputs": [
    {
     "name": "stdout",
     "output_type": "stream",
     "text": [
      "f1_score на тестовом наборе: 0.79\n"
     ]
    }
   ],
   "source": [
    "# рассчитаем точность для тестовой выборки\n",
    "#Создаем объект класса логистическая регрессия\n",
    "log_reg = linear_model.LogisticRegression(\n",
    "    random_state=42, \n",
    "    max_iter = 1000,\n",
    "    penalty = 'l2',\n",
    "    solver = 'saga',\n",
    "    C = 0.11, \n",
    "    )\n",
    "#Обучаем модель, минимизируя logloss\n",
    "log_reg.fit(X_train, y_train)\n",
    "y_test_pred = log_reg.predict(X_test)\n",
    "print('f1_score на тестовом наборе: {:.2f}'.format(metrics.f1_score(y_test, y_test_pred)))"
   ]
  },
  {
   "attachments": {},
   "cell_type": "markdown",
   "id": "5f367613",
   "metadata": {},
   "source": [
    "### <center> **Optuna**"
   ]
  },
  {
   "cell_type": "code",
   "execution_count": 13,
   "id": "0716092a",
   "metadata": {},
   "outputs": [
    {
     "name": "stderr",
     "output_type": "stream",
     "text": [
      "\u001b[32m[I 2023-01-12 21:52:02,871]\u001b[0m A new study created in memory with name: LogisticRegression\u001b[0m\n",
      "C:\\Users\\mish9\\AppData\\Local\\Temp/ipykernel_6684/3826843513.py:9: FutureWarning: suggest_uniform has been deprecated in v3.0.0. This feature will be removed in v6.0.0. See https://github.com/optuna/optuna/releases/tag/v3.0.0. Use :func:`~optuna.trial.Trial.suggest_float` instead.\n",
      "  C = trial.suggest_uniform('C', 0.01, 1)\n",
      "\u001b[32m[I 2023-01-12 21:52:12,232]\u001b[0m Trial 0 finished with value: 0.768874024532912 and parameters: {'solver': 'lbfgs', 'C': 0.7346740023932911}. Best is trial 0 with value: 0.768874024532912.\u001b[0m\n",
      "C:\\Users\\mish9\\AppData\\Local\\Temp/ipykernel_6684/3826843513.py:9: FutureWarning: suggest_uniform has been deprecated in v3.0.0. This feature will be removed in v6.0.0. See https://github.com/optuna/optuna/releases/tag/v3.0.0. Use :func:`~optuna.trial.Trial.suggest_float` instead.\n",
      "  C = trial.suggest_uniform('C', 0.01, 1)\n",
      "\u001b[32m[I 2023-01-12 21:54:53,652]\u001b[0m Trial 1 finished with value: 0.7778942370356219 and parameters: {'solver': 'saga', 'penalty': 'l1', 'C': 0.8675143843171859}. Best is trial 1 with value: 0.7778942370356219.\u001b[0m\n",
      "C:\\Users\\mish9\\AppData\\Local\\Temp/ipykernel_6684/3826843513.py:9: FutureWarning: suggest_uniform has been deprecated in v3.0.0. This feature will be removed in v6.0.0. See https://github.com/optuna/optuna/releases/tag/v3.0.0. Use :func:`~optuna.trial.Trial.suggest_float` instead.\n",
      "  C = trial.suggest_uniform('C', 0.01, 1)\n",
      "\u001b[32m[I 2023-01-12 21:54:56,522]\u001b[0m Trial 2 finished with value: 0.7810496938690791 and parameters: {'solver': 'lbfgs', 'C': 0.03037864935284442}. Best is trial 2 with value: 0.7810496938690791.\u001b[0m\n",
      "C:\\Users\\mish9\\AppData\\Local\\Temp/ipykernel_6684/3826843513.py:9: FutureWarning: suggest_uniform has been deprecated in v3.0.0. This feature will be removed in v6.0.0. See https://github.com/optuna/optuna/releases/tag/v3.0.0. Use :func:`~optuna.trial.Trial.suggest_float` instead.\n",
      "  C = trial.suggest_uniform('C', 0.01, 1)\n",
      "\u001b[32m[I 2023-01-12 21:55:55,151]\u001b[0m Trial 3 finished with value: 0.7821708720496633 and parameters: {'solver': 'saga', 'penalty': 'l1', 'C': 0.1915704647548995}. Best is trial 3 with value: 0.7821708720496633.\u001b[0m\n",
      "C:\\Users\\mish9\\AppData\\Local\\Temp/ipykernel_6684/3826843513.py:9: FutureWarning: suggest_uniform has been deprecated in v3.0.0. This feature will be removed in v6.0.0. See https://github.com/optuna/optuna/releases/tag/v3.0.0. Use :func:`~optuna.trial.Trial.suggest_float` instead.\n",
      "  C = trial.suggest_uniform('C', 0.01, 1)\n",
      "\u001b[32m[I 2023-01-12 21:56:02,294]\u001b[0m Trial 4 finished with value: 0.7735198886403122 and parameters: {'solver': 'lbfgs', 'C': 0.4376255684556946}. Best is trial 3 with value: 0.7821708720496633.\u001b[0m\n",
      "C:\\Users\\mish9\\AppData\\Local\\Temp/ipykernel_6684/3826843513.py:9: FutureWarning: suggest_uniform has been deprecated in v3.0.0. This feature will be removed in v6.0.0. See https://github.com/optuna/optuna/releases/tag/v3.0.0. Use :func:`~optuna.trial.Trial.suggest_float` instead.\n",
      "  C = trial.suggest_uniform('C', 0.01, 1)\n",
      "\u001b[32m[I 2023-01-12 21:56:07,177]\u001b[0m Trial 5 finished with value: 0.7771825781649848 and parameters: {'solver': 'lbfgs', 'C': 0.14809892204552141}. Best is trial 3 with value: 0.7821708720496633.\u001b[0m\n",
      "C:\\Users\\mish9\\AppData\\Local\\Temp/ipykernel_6684/3826843513.py:9: FutureWarning: suggest_uniform has been deprecated in v3.0.0. This feature will be removed in v6.0.0. See https://github.com/optuna/optuna/releases/tag/v3.0.0. Use :func:`~optuna.trial.Trial.suggest_float` instead.\n",
      "  C = trial.suggest_uniform('C', 0.01, 1)\n",
      "\u001b[32m[I 2023-01-12 21:56:14,624]\u001b[0m Trial 6 finished with value: 0.7740505276087385 and parameters: {'solver': 'lbfgs', 'C': 0.46150928437486555}. Best is trial 3 with value: 0.7821708720496633.\u001b[0m\n",
      "C:\\Users\\mish9\\AppData\\Local\\Temp/ipykernel_6684/3826843513.py:9: FutureWarning: suggest_uniform has been deprecated in v3.0.0. This feature will be removed in v6.0.0. See https://github.com/optuna/optuna/releases/tag/v3.0.0. Use :func:`~optuna.trial.Trial.suggest_float` instead.\n",
      "  C = trial.suggest_uniform('C', 0.01, 1)\n",
      "\u001b[32m[I 2023-01-12 21:56:53,109]\u001b[0m Trial 7 finished with value: 0.781706000361678 and parameters: {'solver': 'saga', 'penalty': 'l2', 'C': 0.05598590859279775}. Best is trial 3 with value: 0.7821708720496633.\u001b[0m\n",
      "C:\\Users\\mish9\\AppData\\Local\\Temp/ipykernel_6684/3826843513.py:9: FutureWarning: suggest_uniform has been deprecated in v3.0.0. This feature will be removed in v6.0.0. See https://github.com/optuna/optuna/releases/tag/v3.0.0. Use :func:`~optuna.trial.Trial.suggest_float` instead.\n",
      "  C = trial.suggest_uniform('C', 0.01, 1)\n",
      "\u001b[32m[I 2023-01-12 21:58:17,286]\u001b[0m Trial 8 finished with value: 0.7686025931522923 and parameters: {'solver': 'saga', 'penalty': 'l2', 'C': 0.9659757127438138}. Best is trial 3 with value: 0.7821708720496633.\u001b[0m\n",
      "C:\\Users\\mish9\\AppData\\Local\\Temp/ipykernel_6684/3826843513.py:9: FutureWarning: suggest_uniform has been deprecated in v3.0.0. This feature will be removed in v6.0.0. See https://github.com/optuna/optuna/releases/tag/v3.0.0. Use :func:`~optuna.trial.Trial.suggest_float` instead.\n",
      "  C = trial.suggest_uniform('C', 0.01, 1)\n",
      "\u001b[32m[I 2023-01-12 21:59:04,313]\u001b[0m Trial 9 finished with value: 0.7740351291407774 and parameters: {'solver': 'saga', 'penalty': 'l2', 'C': 0.44575096880220527}. Best is trial 3 with value: 0.7821708720496633.\u001b[0m\n",
      "C:\\Users\\mish9\\AppData\\Local\\Temp/ipykernel_6684/3826843513.py:9: FutureWarning: suggest_uniform has been deprecated in v3.0.0. This feature will be removed in v6.0.0. See https://github.com/optuna/optuna/releases/tag/v3.0.0. Use :func:`~optuna.trial.Trial.suggest_float` instead.\n",
      "  C = trial.suggest_uniform('C', 0.01, 1)\n",
      "\u001b[32m[I 2023-01-12 22:01:00,932]\u001b[0m Trial 10 finished with value: 0.7834518071114254 and parameters: {'solver': 'saga', 'penalty': 'l1', 'C': 0.2615854836920348}. Best is trial 10 with value: 0.7834518071114254.\u001b[0m\n",
      "C:\\Users\\mish9\\AppData\\Local\\Temp/ipykernel_6684/3826843513.py:9: FutureWarning: suggest_uniform has been deprecated in v3.0.0. This feature will be removed in v6.0.0. See https://github.com/optuna/optuna/releases/tag/v3.0.0. Use :func:`~optuna.trial.Trial.suggest_float` instead.\n",
      "  C = trial.suggest_uniform('C', 0.01, 1)\n",
      "\u001b[32m[I 2023-01-12 22:02:52,591]\u001b[0m Trial 11 finished with value: 0.7832602775735144 and parameters: {'solver': 'saga', 'penalty': 'l1', 'C': 0.24731945619521178}. Best is trial 10 with value: 0.7834518071114254.\u001b[0m\n",
      "C:\\Users\\mish9\\AppData\\Local\\Temp/ipykernel_6684/3826843513.py:9: FutureWarning: suggest_uniform has been deprecated in v3.0.0. This feature will be removed in v6.0.0. See https://github.com/optuna/optuna/releases/tag/v3.0.0. Use :func:`~optuna.trial.Trial.suggest_float` instead.\n",
      "  C = trial.suggest_uniform('C', 0.01, 1)\n",
      "\u001b[32m[I 2023-01-12 22:04:56,315]\u001b[0m Trial 12 finished with value: 0.7835756902433643 and parameters: {'solver': 'saga', 'penalty': 'l1', 'C': 0.2728170123162879}. Best is trial 12 with value: 0.7835756902433643.\u001b[0m\n",
      "C:\\Users\\mish9\\AppData\\Local\\Temp/ipykernel_6684/3826843513.py:9: FutureWarning: suggest_uniform has been deprecated in v3.0.0. This feature will be removed in v6.0.0. See https://github.com/optuna/optuna/releases/tag/v3.0.0. Use :func:`~optuna.trial.Trial.suggest_float` instead.\n",
      "  C = trial.suggest_uniform('C', 0.01, 1)\n",
      "\u001b[32m[I 2023-01-12 22:07:28,840]\u001b[0m Trial 13 finished with value: 0.7774745263347567 and parameters: {'solver': 'saga', 'penalty': 'l1', 'C': 0.3169101389272155}. Best is trial 12 with value: 0.7835756902433643.\u001b[0m\n",
      "C:\\Users\\mish9\\AppData\\Local\\Temp/ipykernel_6684/3826843513.py:9: FutureWarning: suggest_uniform has been deprecated in v3.0.0. This feature will be removed in v6.0.0. See https://github.com/optuna/optuna/releases/tag/v3.0.0. Use :func:`~optuna.trial.Trial.suggest_float` instead.\n",
      "  C = trial.suggest_uniform('C', 0.01, 1)\n",
      "\u001b[32m[I 2023-01-12 22:10:11,869]\u001b[0m Trial 14 finished with value: 0.7780293777104219 and parameters: {'solver': 'saga', 'penalty': 'l1', 'C': 0.6538300130247419}. Best is trial 12 with value: 0.7835756902433643.\u001b[0m\n",
      "C:\\Users\\mish9\\AppData\\Local\\Temp/ipykernel_6684/3826843513.py:9: FutureWarning: suggest_uniform has been deprecated in v3.0.0. This feature will be removed in v6.0.0. See https://github.com/optuna/optuna/releases/tag/v3.0.0. Use :func:`~optuna.trial.Trial.suggest_float` instead.\n",
      "  C = trial.suggest_uniform('C', 0.01, 1)\n",
      "\u001b[32m[I 2023-01-12 22:12:44,387]\u001b[0m Trial 15 finished with value: 0.7766584816359138 and parameters: {'solver': 'saga', 'penalty': 'l1', 'C': 0.3304597902626988}. Best is trial 12 with value: 0.7835756902433643.\u001b[0m\n",
      "C:\\Users\\mish9\\AppData\\Local\\Temp/ipykernel_6684/3826843513.py:9: FutureWarning: suggest_uniform has been deprecated in v3.0.0. This feature will be removed in v6.0.0. See https://github.com/optuna/optuna/releases/tag/v3.0.0. Use :func:`~optuna.trial.Trial.suggest_float` instead.\n",
      "  C = trial.suggest_uniform('C', 0.01, 1)\n",
      "\u001b[32m[I 2023-01-12 22:15:20,213]\u001b[0m Trial 16 finished with value: 0.7814728502321067 and parameters: {'solver': 'saga', 'penalty': 'l1', 'C': 0.5761440491632637}. Best is trial 12 with value: 0.7835756902433643.\u001b[0m\n",
      "C:\\Users\\mish9\\AppData\\Local\\Temp/ipykernel_6684/3826843513.py:9: FutureWarning: suggest_uniform has been deprecated in v3.0.0. This feature will be removed in v6.0.0. See https://github.com/optuna/optuna/releases/tag/v3.0.0. Use :func:`~optuna.trial.Trial.suggest_float` instead.\n",
      "  C = trial.suggest_uniform('C', 0.01, 1)\n",
      "\u001b[32m[I 2023-01-12 22:17:53,175]\u001b[0m Trial 17 finished with value: 0.7779122464799083 and parameters: {'solver': 'saga', 'penalty': 'l1', 'C': 0.3451000033057637}. Best is trial 12 with value: 0.7835756902433643.\u001b[0m\n",
      "C:\\Users\\mish9\\AppData\\Local\\Temp/ipykernel_6684/3826843513.py:9: FutureWarning: suggest_uniform has been deprecated in v3.0.0. This feature will be removed in v6.0.0. See https://github.com/optuna/optuna/releases/tag/v3.0.0. Use :func:`~optuna.trial.Trial.suggest_float` instead.\n",
      "  C = trial.suggest_uniform('C', 0.01, 1)\n",
      "\u001b[32m[I 2023-01-12 22:18:46,252]\u001b[0m Trial 18 finished with value: 0.779403406610666 and parameters: {'solver': 'saga', 'penalty': 'l1', 'C': 0.1583239787600333}. Best is trial 12 with value: 0.7835756902433643.\u001b[0m\n",
      "C:\\Users\\mish9\\AppData\\Local\\Temp/ipykernel_6684/3826843513.py:9: FutureWarning: suggest_uniform has been deprecated in v3.0.0. This feature will be removed in v6.0.0. See https://github.com/optuna/optuna/releases/tag/v3.0.0. Use :func:`~optuna.trial.Trial.suggest_float` instead.\n",
      "  C = trial.suggest_uniform('C', 0.01, 1)\n",
      "\u001b[32m[I 2023-01-12 22:21:21,574]\u001b[0m Trial 19 finished with value: 0.7812229711698704 and parameters: {'solver': 'saga', 'penalty': 'l1', 'C': 0.570575081203597}. Best is trial 12 with value: 0.7835756902433643.\u001b[0m\n"
     ]
    },
    {
     "name": "stdout",
     "output_type": "stream",
     "text": [
      "Наилучшие значения гиперпараметров: {'solver': 'saga', 'penalty': 'l1', 'C': 0.2728170123162879}\n",
      "F1 на тестовой выборке: 0.773561811505508\n"
     ]
    },
    {
     "name": "stderr",
     "output_type": "stream",
     "text": [
      "c:\\Users\\mish9\\.conda\\envs\\sf\\lib\\site-packages\\sklearn\\linear_model\\_sag.py:350: ConvergenceWarning: The max_iter was reached which means the coef_ did not converge\n",
      "  warnings.warn(\n"
     ]
    }
   ],
   "source": [
    "# Целевая функция\n",
    "def obj_func(trial):\n",
    "    # пространство гиперпараметров\n",
    "    solver = trial.suggest_categorical('solver', ['saga', 'lbfgs'])\n",
    "    if solver == 'saga':\n",
    "        penalty = trial.suggest_categorical('penalty', ['l1', 'l2'])\n",
    "    else:\n",
    "        penalty = 'l2'\n",
    "    C = trial.suggest_uniform('C', 0.01, 1)\n",
    "    \n",
    "    model = linear_model.LogisticRegression(\n",
    "        solver=solver,\n",
    "        penalty=penalty,\n",
    "        C=C,\n",
    "        class_weight='balanced', \n",
    "        random_state=42, \n",
    "        max_iter=1000\n",
    "    )    \n",
    "    \n",
    "    # Обучаем модель с помощью кросс-валидации    \n",
    "    score = cross_val_score(\n",
    "        model, X_train, y_train, cv=5, scoring='f1', n_jobs=-1).mean()\n",
    "    \n",
    "    return score\n",
    "\n",
    "\n",
    "# Поиск оптимальных гиперпараметров\n",
    "sampler = optuna.samplers.TPESampler(seed=42)\n",
    "study_lr = optuna.create_study(\n",
    "    sampler=sampler, study_name='LogisticRegression', direction='maximize')\n",
    "study_lr.optimize(obj_func, n_trials=20)\n",
    "\n",
    "\n",
    "# Модель с лучшими параметрами\n",
    "optuna_lr = linear_model.LogisticRegression(\n",
    "    **study_lr.best_params, class_weight='balanced', n_jobs=-1,\n",
    "    random_state=42, max_iter=1000\n",
    ")\n",
    "optuna_lr.fit(X_train, y_train)\n",
    "print(f'Наилучшие значения гиперпараметров: {study_lr.best_params}')\n",
    "\n",
    "y_test_pred = optuna_lr.predict(X_test)\n",
    "print(f'F1 на тестовой выборке: {metrics.f1_score(y_test, y_test_pred)}')"
   ]
  },
  {
   "attachments": {},
   "cell_type": "markdown",
   "id": "876a9c57",
   "metadata": {},
   "source": [
    "# В итоге для Логистической регрессии мы получили следующие метрики:\n",
    "* GridSearchCV **f1 = 0.78** {'C': 0.23, 'penalty': 'l1', 'solver': 'saga'}\n",
    "* RandomizedSearchCV **f1 = 0.78** {'C': 0.34, 'penalty': 'l1', 'solver': 'saga'} \n",
    "* Hyperopt **f1 = 0.79** {'C': 0.11, 'penalty': 'l2', 'solver': 'saga'}\n",
    "* Optuna **f1 = 0.77** {'C': 0.27, 'penalty': 'l1', 'solver': 'saga'}\n",
    "\n",
    "Лучшим методом оптимизации является: Hyperopt **f1 = 0.79** {'C': 0.1057, 'penalty': 'l2', 'solver': 'saga'}"
   ]
  },
  {
   "attachments": {},
   "cell_type": "markdown",
   "id": "jBSbPYAYaAQ9",
   "metadata": {
    "id": "jBSbPYAYaAQ9",
    "tags": []
   },
   "source": [
    "# <center> **Случайный лес**"
   ]
  },
  {
   "cell_type": "markdown",
   "id": "-4-TPHjgTBOs",
   "metadata": {
    "id": "-4-TPHjgTBOs"
   },
   "source": [
    "Проделаем аналогичное для RandomForestClassifier().\n",
    "Сначала посчитаем модель с параметрами по умолчанию и оценим метрику:"
   ]
  },
  {
   "cell_type": "code",
   "execution_count": 14,
   "id": "XUYSiTfraARA",
   "metadata": {
    "colab": {
     "base_uri": "https://localhost:8080/"
    },
    "executionInfo": {
     "elapsed": 5007,
     "status": "ok",
     "timestamp": 1650551264191,
     "user": {
      "displayName": "VICDS _",
      "userId": "16539764637744847477"
     },
     "user_tz": -180
    },
    "id": "XUYSiTfraARA",
    "outputId": "5332fa04-ad32-4791-a3f7-163fad39406c"
   },
   "outputs": [
    {
     "name": "stdout",
     "output_type": "stream",
     "text": [
      "f1_score на тренировочном наборе: 1.00\n",
      "f1_score на тестовом наборе: 0.80\n"
     ]
    }
   ],
   "source": [
    "#Создаем объект класса случайный лес\n",
    "rf = ensemble.RandomForestClassifier(random_state=42)\n",
    "\n",
    "#Обучаем модель\n",
    "rf.fit(X_train, y_train)\n",
    "#Выводим значения метрики \n",
    "y_train_pred = rf.predict(X_train)\n",
    "print('f1_score на тренировочном наборе: {:.2f}'.format(metrics.f1_score(y_train, y_train_pred)))\n",
    "y_test_pred = rf.predict(X_test)\n",
    "print('f1_score на тестовом наборе: {:.2f}'.format(metrics.f1_score(y_test, y_test_pred)))"
   ]
  },
  {
   "attachments": {},
   "cell_type": "markdown",
   "id": "842430ba",
   "metadata": {},
   "source": [
    "### <center> **GridSearchCV**"
   ]
  },
  {
   "cell_type": "code",
   "execution_count": 15,
   "id": "b1d4ef31",
   "metadata": {},
   "outputs": [
    {
     "name": "stdout",
     "output_type": "stream",
     "text": [
      "Wall time: 1min 38s\n",
      "Наилучшие значения гиперпараметров: {'max_depth': 20, 'min_samples_leaf': 5, 'n_estimators': 140}\n",
      "f1_score на тестовом наборе: 0.80\n"
     ]
    }
   ],
   "source": [
    "param_grid = {\n",
    "    'n_estimators': list(range(80, 200, 30)), # количество деревьев в лесу\n",
    "    'min_samples_leaf': [5, 10], # минимальное количество объектов в листе\n",
    "    'max_depth': list(np.linspace(20, 40, 5, dtype=int)) # максимальная глубина дерева\n",
    "}\n",
    "            \n",
    "grid_search_forest = GridSearchCV(\n",
    "    estimator=ensemble.RandomForestClassifier(random_state=42), \n",
    "    param_grid=param_grid, \n",
    "    cv=5, \n",
    "    n_jobs = -1\n",
    ")  \n",
    "%time grid_search_forest.fit(X_train, y_train) \n",
    "print(\"Наилучшие значения гиперпараметров: {}\".format(grid_search_forest.best_params_))\n",
    "\n",
    "y_test_pred = grid_search_forest.predict(X_test)\n",
    "print('f1_score на тестовом наборе: {:.2f}'.format(metrics.f1_score(y_test, y_test_pred)))"
   ]
  },
  {
   "attachments": {},
   "cell_type": "markdown",
   "id": "6c984dd3",
   "metadata": {},
   "source": [
    "### <center> **RandomizedSearchCV**"
   ]
  },
  {
   "cell_type": "code",
   "execution_count": 16,
   "id": "TBSxQJ6JzS1f",
   "metadata": {
    "colab": {
     "base_uri": "https://localhost:8080/"
    },
    "executionInfo": {
     "elapsed": 116021,
     "status": "ok",
     "timestamp": 1650551380171,
     "user": {
      "displayName": "VICDS _",
      "userId": "16539764637744847477"
     },
     "user_tz": -180
    },
    "id": "TBSxQJ6JzS1f",
    "outputId": "ecddf908-16fb-4ccb-88dc-025270b99d05"
   },
   "outputs": [
    {
     "name": "stdout",
     "output_type": "stream",
     "text": [
      "Wall time: 27.5 s\n",
      "Наилучшие значения гиперпараметров: {'n_estimators': 140, 'min_samples_leaf': 5, 'max_depth': 20}\n",
      "f1_score на тестовом наборе: 0.80\n"
     ]
    }
   ],
   "source": [
    "param_distributions = {\n",
    "    'n_estimators': list(range(80, 200, 30)), # количество деревьев в лесу\n",
    "    'min_samples_leaf': [5, 10], # минимальное количество объектов в листе\n",
    "    'max_depth': list(np.linspace(20, 40, 5, dtype=int)) # максимальная глубина дерева\n",
    "}\n",
    "            \n",
    "random_search_forest = RandomizedSearchCV(\n",
    "    estimator=ensemble.RandomForestClassifier(random_state=42), \n",
    "    param_distributions=param_distributions, \n",
    "    cv=5,\n",
    "    n_iter = 10, \n",
    "    n_jobs = -1\n",
    ")  \n",
    "%time random_search_forest.fit(X_train, y_train) \n",
    "print(\"Наилучшие значения гиперпараметров: {}\".format(random_search_forest.best_params_))\n",
    "\n",
    "y_test_pred = random_search_forest.predict(X_test)\n",
    "print('f1_score на тестовом наборе: {:.2f}'.format(metrics.f1_score(y_test, y_test_pred)))"
   ]
  },
  {
   "attachments": {},
   "cell_type": "markdown",
   "id": "e4860a85",
   "metadata": {},
   "source": [
    "### <center> **Hyperopt**"
   ]
  },
  {
   "cell_type": "code",
   "execution_count": 17,
   "id": "da1ce96a",
   "metadata": {},
   "outputs": [
    {
     "name": "stdout",
     "output_type": "stream",
     "text": [
      "100%|██████████| 40/40 [04:54<00:00,  7.36s/trial, best loss: -0.8124398182784629]\n",
      "Наилучшие значения гиперпараметров {'max_depth': 3, 'min_samples_leaf': 6.0, 'n_estimators': 210.0}\n"
     ]
    }
   ],
   "source": [
    "# Пространство параметров: создаем несколько словарей с наборами параметров, \n",
    "# т.к. L-BFGS оптимизатор не работает c L1-регуляризацией.\n",
    "#\n",
    "# Параметр регуляризации выбирается случайным образом из равномерного распределения\n",
    "space={'n_estimators': hp.quniform('n_estimators', 80, 200, 30), # количество деревьев в лесу\n",
    "       'min_samples_leaf': hp.quniform('min_samples_leaf', 5, 10, 1), # минимальное количество объектов в листе\n",
    "       'max_depth' : hp.choice('max_depth', [20, 25, 30, 35, 40]) # максимальная глубина дерева      \n",
    "      }\n",
    "\n",
    "\n",
    "# Целевая функция\n",
    "def hyperopt_rf(params, cv=5, X=X_train, y=y_train, random_state=42):\n",
    "    # функция получает комбинацию гиперпараметров в \"params\"\n",
    "    params = {'n_estimators': int(params['n_estimators']), \n",
    "              'max_depth': int(params['max_depth']), \n",
    "             'min_samples_leaf': int(params['min_samples_leaf'])\n",
    "              }\n",
    "  \n",
    "    # используем эту комбинацию для построения модели\n",
    "    model = ensemble.RandomForestClassifier(**params, random_state=42)\n",
    "\n",
    "    # обучаем модель\n",
    "    model.fit(X, y)\n",
    "    score = metrics.f1_score(y, model.predict(X))\n",
    "    \n",
    "    # обучать модель можно также с помощью кросс-валидации\n",
    "    # применим  cross validation с тем же количеством фолдов\n",
    "    score = cross_val_score(model, X, y, cv=cv, scoring=\"f1\", n_jobs=-1).mean()\n",
    "\n",
    "    # метрику необходимо минимизировать, поэтому ставим знак минус\n",
    "    return -score\n",
    "\n",
    "\n",
    "trials = Trials() # используется для логирования результатов\n",
    "\n",
    "best=fmin(hyperopt_rf, # наша функция \n",
    "          space=space, # пространство гиперпараметров\n",
    "          algo=tpe.suggest, # алгоритм оптимизации, установлен по умолчанию, задавать необязательно\n",
    "          max_evals=40, # максимальное количество итераций\n",
    "          trials=trials, # логирование результатов\n",
    "          rstate=np.random.default_rng(42)# фиксируем для повторяемости результата\n",
    "         )\n",
    "print(\"Наилучшие значения гиперпараметров {}\".format(best))"
   ]
  },
  {
   "cell_type": "code",
   "execution_count": 18,
   "id": "3a96474e",
   "metadata": {},
   "outputs": [
    {
     "name": "stdout",
     "output_type": "stream",
     "text": [
      "f1_score на тренировочном наборе: 0.77\n",
      "f1_score на тестовом наборе: 0.74\n"
     ]
    }
   ],
   "source": [
    "# рассчитаем точность для тестовой выборки\n",
    "#Создаем объект класса случайный лес\n",
    "rf = ensemble.RandomForestClassifier(\n",
    "    random_state=42,\n",
    "    n_estimators=int(best['n_estimators']),\n",
    "    max_depth=int(best['max_depth']),\n",
    "    min_samples_leaf=int(best['min_samples_leaf'])\n",
    "    )\n",
    "\n",
    "#Обучаем модель\n",
    "rf.fit(X_train, y_train)\n",
    "#Выводим значения метрики \n",
    "y_train_pred = rf.predict(X_train)\n",
    "print('f1_score на тренировочном наборе: {:.2f}'.format(metrics.f1_score(y_train, y_train_pred)))\n",
    "y_test_pred = rf.predict(X_test)\n",
    "print('f1_score на тестовом наборе: {:.2f}'.format(metrics.f1_score(y_test, y_test_pred)))"
   ]
  },
  {
   "attachments": {},
   "cell_type": "markdown",
   "id": "05db76e4",
   "metadata": {},
   "source": [
    "### <center> **Optuna**"
   ]
  },
  {
   "cell_type": "code",
   "execution_count": 19,
   "id": "9ffd459f",
   "metadata": {},
   "outputs": [
    {
     "name": "stderr",
     "output_type": "stream",
     "text": [
      "\u001b[32m[I 2023-01-12 22:29:56,536]\u001b[0m A new study created in memory with name: RandomForestClassifier\u001b[0m\n",
      "\u001b[32m[I 2023-01-12 22:29:59,256]\u001b[0m Trial 0 finished with value: 0.9287020109689215 and parameters: {'n_estimators': 170, 'max_depth': 20, 'min_samples_leaf': 6}. Best is trial 0 with value: 0.9287020109689215.\u001b[0m\n",
      "\u001b[32m[I 2023-01-12 22:30:01,655]\u001b[0m Trial 1 finished with value: 0.8961948249619481 and parameters: {'n_estimators': 170, 'max_depth': 20, 'min_samples_leaf': 10}. Best is trial 0 with value: 0.9287020109689215.\u001b[0m\n",
      "\u001b[32m[I 2023-01-12 22:30:03,587]\u001b[0m Trial 2 finished with value: 0.9423604757548033 and parameters: {'n_estimators': 110, 'max_depth': 30, 'min_samples_leaf': 5}. Best is trial 2 with value: 0.9423604757548033.\u001b[0m\n",
      "\u001b[32m[I 2023-01-12 22:30:04,992]\u001b[0m Trial 3 finished with value: 0.9410326917201345 and parameters: {'n_estimators': 80, 'max_depth': 40, 'min_samples_leaf': 5}. Best is trial 2 with value: 0.9423604757548033.\u001b[0m\n",
      "\u001b[32m[I 2023-01-12 22:30:07,095]\u001b[0m Trial 4 finished with value: 0.9115853658536586 and parameters: {'n_estimators': 140, 'max_depth': 35, 'min_samples_leaf': 8}. Best is trial 2 with value: 0.9423604757548033.\u001b[0m\n",
      "\u001b[32m[I 2023-01-12 22:30:09,258]\u001b[0m Trial 5 finished with value: 0.92209760533495 and parameters: {'n_estimators': 140, 'max_depth': 20, 'min_samples_leaf': 7}. Best is trial 2 with value: 0.9423604757548033.\u001b[0m\n",
      "\u001b[32m[I 2023-01-12 22:30:10,887]\u001b[0m Trial 6 finished with value: 0.9013058001822047 and parameters: {'n_estimators': 110, 'max_depth': 25, 'min_samples_leaf': 9}. Best is trial 2 with value: 0.9423604757548033.\u001b[0m\n",
      "\u001b[32m[I 2023-01-12 22:30:13,423]\u001b[0m Trial 7 finished with value: 0.9095339628388668 and parameters: {'n_estimators': 170, 'max_depth': 20, 'min_samples_leaf': 8}. Best is trial 2 with value: 0.9423604757548033.\u001b[0m\n",
      "\u001b[32m[I 2023-01-12 22:30:16,251]\u001b[0m Trial 8 finished with value: 0.9445460085313833 and parameters: {'n_estimators': 170, 'max_depth': 20, 'min_samples_leaf': 5}. Best is trial 8 with value: 0.9445460085313833.\u001b[0m\n",
      "\u001b[32m[I 2023-01-12 22:30:18,265]\u001b[0m Trial 9 finished with value: 0.9414634146341463 and parameters: {'n_estimators': 110, 'max_depth': 20, 'min_samples_leaf': 5}. Best is trial 8 with value: 0.9445460085313833.\u001b[0m\n",
      "\u001b[32m[I 2023-01-12 22:30:21,428]\u001b[0m Trial 10 finished with value: 0.9206445728184859 and parameters: {'n_estimators': 200, 'max_depth': 30, 'min_samples_leaf': 7}. Best is trial 8 with value: 0.9445460085313833.\u001b[0m\n",
      "\u001b[32m[I 2023-01-12 22:30:22,899]\u001b[0m Trial 11 finished with value: 0.9410326917201345 and parameters: {'n_estimators': 80, 'max_depth': 30, 'min_samples_leaf': 5}. Best is trial 8 with value: 0.9445460085313833.\u001b[0m\n",
      "\u001b[32m[I 2023-01-12 22:30:24,788]\u001b[0m Trial 12 finished with value: 0.9286585365853659 and parameters: {'n_estimators': 110, 'max_depth': 35, 'min_samples_leaf': 6}. Best is trial 8 with value: 0.9445460085313833.\u001b[0m\n",
      "\u001b[32m[I 2023-01-12 22:30:28,046]\u001b[0m Trial 13 finished with value: 0.9302042060347455 and parameters: {'n_estimators': 200, 'max_depth': 25, 'min_samples_leaf': 6}. Best is trial 8 with value: 0.9445460085313833.\u001b[0m\n",
      "\u001b[32m[I 2023-01-12 22:30:30,464]\u001b[0m Trial 14 finished with value: 0.9426129426129426 and parameters: {'n_estimators': 140, 'max_depth': 25, 'min_samples_leaf': 5}. Best is trial 8 with value: 0.9445460085313833.\u001b[0m\n",
      "\u001b[32m[I 2023-01-12 22:30:33,253]\u001b[0m Trial 15 finished with value: 0.9280487804878048 and parameters: {'n_estimators': 170, 'max_depth': 25, 'min_samples_leaf': 6}. Best is trial 8 with value: 0.9445460085313833.\u001b[0m\n",
      "\u001b[32m[I 2023-01-12 22:30:35,480]\u001b[0m Trial 16 finished with value: 0.9220030349013657 and parameters: {'n_estimators': 140, 'max_depth': 25, 'min_samples_leaf': 7}. Best is trial 8 with value: 0.9445460085313833.\u001b[0m\n",
      "\u001b[32m[I 2023-01-12 22:30:38,864]\u001b[0m Trial 17 finished with value: 0.9465974977113213 and parameters: {'n_estimators': 200, 'max_depth': 25, 'min_samples_leaf': 5}. Best is trial 17 with value: 0.9465974977113213.\u001b[0m\n",
      "\u001b[32m[I 2023-01-12 22:30:42,124]\u001b[0m Trial 18 finished with value: 0.9302042060347455 and parameters: {'n_estimators': 200, 'max_depth': 25, 'min_samples_leaf': 6}. Best is trial 17 with value: 0.9465974977113213.\u001b[0m\n",
      "\u001b[32m[I 2023-01-12 22:30:44,999]\u001b[0m Trial 19 finished with value: 0.8943683409436834 and parameters: {'n_estimators': 200, 'max_depth': 35, 'min_samples_leaf': 10}. Best is trial 17 with value: 0.9465974977113213.\u001b[0m\n",
      "\u001b[32m[I 2023-01-12 22:30:47,550]\u001b[0m Trial 20 finished with value: 0.9034021871202916 and parameters: {'n_estimators': 170, 'max_depth': 20, 'min_samples_leaf': 9}. Best is trial 17 with value: 0.9465974977113213.\u001b[0m\n",
      "\u001b[32m[I 2023-01-12 22:30:50,449]\u001b[0m Trial 21 finished with value: 0.9444444444444445 and parameters: {'n_estimators': 170, 'max_depth': 25, 'min_samples_leaf': 5}. Best is trial 17 with value: 0.9465974977113213.\u001b[0m\n",
      "\u001b[32m[I 2023-01-12 22:30:53,859]\u001b[0m Trial 22 finished with value: 0.9465974977113213 and parameters: {'n_estimators': 200, 'max_depth': 25, 'min_samples_leaf': 5}. Best is trial 17 with value: 0.9465974977113213.\u001b[0m\n",
      "\u001b[32m[I 2023-01-12 22:30:57,151]\u001b[0m Trial 23 finished with value: 0.9299207800121878 and parameters: {'n_estimators': 200, 'max_depth': 30, 'min_samples_leaf': 6}. Best is trial 17 with value: 0.9465974977113213.\u001b[0m\n",
      "\u001b[32m[I 2023-01-12 22:31:00,529]\u001b[0m Trial 24 finished with value: 0.9465974977113213 and parameters: {'n_estimators': 200, 'max_depth': 25, 'min_samples_leaf': 5}. Best is trial 17 with value: 0.9465974977113213.\u001b[0m\n",
      "\u001b[32m[I 2023-01-12 22:31:04,071]\u001b[0m Trial 25 finished with value: 0.9465974977113213 and parameters: {'n_estimators': 200, 'max_depth': 25, 'min_samples_leaf': 5}. Best is trial 17 with value: 0.9465974977113213.\u001b[0m\n",
      "\u001b[32m[I 2023-01-12 22:31:07,255]\u001b[0m Trial 26 finished with value: 0.9299207800121878 and parameters: {'n_estimators': 200, 'max_depth': 30, 'min_samples_leaf': 6}. Best is trial 17 with value: 0.9465974977113213.\u001b[0m\n",
      "\u001b[32m[I 2023-01-12 22:31:10,318]\u001b[0m Trial 27 finished with value: 0.9206445728184859 and parameters: {'n_estimators': 200, 'max_depth': 30, 'min_samples_leaf': 7}. Best is trial 17 with value: 0.9465974977113213.\u001b[0m\n",
      "\u001b[32m[I 2023-01-12 22:31:13,618]\u001b[0m Trial 28 finished with value: 0.9465974977113213 and parameters: {'n_estimators': 200, 'max_depth': 25, 'min_samples_leaf': 5}. Best is trial 17 with value: 0.9465974977113213.\u001b[0m\n",
      "\u001b[32m[I 2023-01-12 22:31:16,399]\u001b[0m Trial 29 finished with value: 0.9280487804878048 and parameters: {'n_estimators': 170, 'max_depth': 25, 'min_samples_leaf': 6}. Best is trial 17 with value: 0.9465974977113213.\u001b[0m\n",
      "\u001b[32m[I 2023-01-12 22:31:19,313]\u001b[0m Trial 30 finished with value: 0.9445460085313833 and parameters: {'n_estimators': 170, 'max_depth': 20, 'min_samples_leaf': 5}. Best is trial 17 with value: 0.9465974977113213.\u001b[0m\n",
      "\u001b[32m[I 2023-01-12 22:31:22,676]\u001b[0m Trial 31 finished with value: 0.9465974977113213 and parameters: {'n_estimators': 200, 'max_depth': 25, 'min_samples_leaf': 5}. Best is trial 17 with value: 0.9465974977113213.\u001b[0m\n",
      "\u001b[32m[I 2023-01-12 22:31:25,917]\u001b[0m Trial 32 finished with value: 0.9302042060347455 and parameters: {'n_estimators': 200, 'max_depth': 25, 'min_samples_leaf': 6}. Best is trial 17 with value: 0.9465974977113213.\u001b[0m\n",
      "\u001b[32m[I 2023-01-12 22:31:29,293]\u001b[0m Trial 33 finished with value: 0.9465974977113213 and parameters: {'n_estimators': 200, 'max_depth': 25, 'min_samples_leaf': 5}. Best is trial 17 with value: 0.9465974977113213.\u001b[0m\n",
      "\u001b[32m[I 2023-01-12 22:31:32,662]\u001b[0m Trial 34 finished with value: 0.9463087248322148 and parameters: {'n_estimators': 200, 'max_depth': 30, 'min_samples_leaf': 5}. Best is trial 17 with value: 0.9465974977113213.\u001b[0m\n",
      "\u001b[32m[I 2023-01-12 22:31:35,432]\u001b[0m Trial 35 finished with value: 0.9287020109689215 and parameters: {'n_estimators': 170, 'max_depth': 20, 'min_samples_leaf': 6}. Best is trial 17 with value: 0.9465974977113213.\u001b[0m\n",
      "\u001b[32m[I 2023-01-12 22:31:38,811]\u001b[0m Trial 36 finished with value: 0.9465974977113213 and parameters: {'n_estimators': 200, 'max_depth': 25, 'min_samples_leaf': 5}. Best is trial 17 with value: 0.9465974977113213.\u001b[0m\n",
      "\u001b[32m[I 2023-01-12 22:31:41,777]\u001b[0m Trial 37 finished with value: 0.9454101860323271 and parameters: {'n_estimators': 170, 'max_depth': 40, 'min_samples_leaf': 5}. Best is trial 17 with value: 0.9465974977113213.\u001b[0m\n",
      "\u001b[32m[I 2023-01-12 22:31:44,719]\u001b[0m Trial 38 finished with value: 0.9033434650455926 and parameters: {'n_estimators': 200, 'max_depth': 30, 'min_samples_leaf': 9}. Best is trial 17 with value: 0.9465974977113213.\u001b[0m\n",
      "\u001b[32m[I 2023-01-12 22:31:47,312]\u001b[0m Trial 39 finished with value: 0.9095339628388668 and parameters: {'n_estimators': 170, 'max_depth': 20, 'min_samples_leaf': 8}. Best is trial 17 with value: 0.9465974977113213.\u001b[0m\n"
     ]
    },
    {
     "name": "stdout",
     "output_type": "stream",
     "text": [
      "Наилучшие значения гиперпараметров {'n_estimators': 200, 'max_depth': 25, 'min_samples_leaf': 5}\n",
      "f1_score на обучающем наборе: 0.95\n"
     ]
    }
   ],
   "source": [
    "def optuna_rf(trial):\n",
    "  # задаем пространства поиска гиперпараметров\n",
    "  n_estimators = trial.suggest_int('n_estimators', 80, 200, 30)\n",
    "  max_depth = trial.suggest_int('max_depth', 20, 40, 5)\n",
    "  min_samples_leaf = trial.suggest_int('min_samples_leaf', 5, 10, 1)\n",
    "\n",
    "  # создаем модель\n",
    "  model = ensemble.RandomForestClassifier(n_estimators=n_estimators,\n",
    "                                          max_depth=max_depth,\n",
    "                                          min_samples_leaf=min_samples_leaf,\n",
    "                                          random_state=42)\n",
    "  # обучаем модель\n",
    "  model.fit(X_train, y_train)\n",
    "  score = metrics.f1_score(y_train, model.predict(X_train))\n",
    "\n",
    "  return score\n",
    "\n",
    "# cоздаем объект исследования\n",
    "# можем напрямую указать, что нам необходимо максимизировать метрику direction=\"maximize\"\n",
    "study = optuna.create_study(study_name=\"RandomForestClassifier\", direction=\"maximize\")\n",
    "# ищем лучшую комбинацию гиперпараметров n_trials раз\n",
    "study.optimize(optuna_rf, n_trials=40)\n",
    "\n",
    "# выводим результаты на обучающей выборке\n",
    "print(\"Наилучшие значения гиперпараметров {}\".format(study.best_params))\n",
    "print(\"f1_score на обучающем наборе: {:.2f}\".format(study.best_value))"
   ]
  },
  {
   "cell_type": "code",
   "execution_count": 20,
   "id": "53a5195d",
   "metadata": {},
   "outputs": [
    {
     "name": "stdout",
     "output_type": "stream",
     "text": [
      "f1_score на тренировочном наборе: 0.95\n",
      "f1_score на тестовом наборе: 0.80\n"
     ]
    }
   ],
   "source": [
    "# рассчитаем точность для тестовой выборки\n",
    "#Создаем объект класса случайный лес\n",
    "rf = ensemble.RandomForestClassifier(\n",
    "    random_state=42,\n",
    "    n_estimators=int(study.best_params['n_estimators']),\n",
    "    max_depth=int(study.best_params['max_depth']),\n",
    "    min_samples_leaf=int(study.best_params['min_samples_leaf'])\n",
    "    )\n",
    "\n",
    "#Обучаем модель\n",
    "rf.fit(X_train, y_train)\n",
    "#Выводим значения метрики \n",
    "y_train_pred = rf.predict(X_train)\n",
    "print('f1_score на тренировочном наборе: {:.2f}'.format(metrics.f1_score(y_train, y_train_pred)))\n",
    "y_test_pred = rf.predict(X_test)\n",
    "print('f1_score на тестовом наборе: {:.2f}'.format(metrics.f1_score(y_test, y_test_pred)))"
   ]
  },
  {
   "attachments": {},
   "cell_type": "markdown",
   "id": "6415c871",
   "metadata": {},
   "source": [
    "# В итоге для случайного леса мы получили следующие метрики:\n",
    "* GridSearchCV **f1 = 0.8** {'max_depth': 20, 'min_samples_leaf': 5, 'n_estimators': 140}\n",
    "* RandomizedSearchCV **f1 = 0.81** {'max_depth': 35, 'min_samples_leaf': 5, 'n_estimators': 170}\n",
    "* Hyperopt **f1 = 0.74** {'max_depth': 3, 'min_samples_leaf': 6.0, 'n_estimators': 210.0}\n",
    "* Optuna **f1 = 0.8** {'max_depth': 25, 'min_samples_leaf': 5,  'n_estimators': 200}\n",
    "\n",
    "Лучшим методом оптимизации является: RandomizedSearchCV **f1 = 0.81** {'max_depth': 35, 'min_samples_leaf': 5, 'n_estimators': 170}. Он же показал лучшие результаты, по сравнению с оптимизациями логистической регрессии."
   ]
  }
 ],
 "metadata": {
  "colab": {
   "collapsed_sections": [
    "ezanmTbEaAOe",
    "8lbyun1kaAOy",
    "M20nsIRfaAP-"
   ],
   "name": "ML-7.Optimization of hyperparameters.ipynb",
   "provenance": []
  },
  "kernelspec": {
   "display_name": "sf",
   "language": "python",
   "name": "python3"
  },
  "language_info": {
   "codemirror_mode": {
    "name": "ipython",
    "version": 3
   },
   "file_extension": ".py",
   "mimetype": "text/x-python",
   "name": "python",
   "nbconvert_exporter": "python",
   "pygments_lexer": "ipython3",
   "version": "3.8.11 (default, Aug  6 2021, 09:57:55) [MSC v.1916 64 bit (AMD64)]"
  },
  "vscode": {
   "interpreter": {
    "hash": "563b3fbad9c1e703622b628cf34b11b58769da99b1ed9a9df4fdabd54b844cdc"
   }
  }
 },
 "nbformat": 4,
 "nbformat_minor": 5
}
