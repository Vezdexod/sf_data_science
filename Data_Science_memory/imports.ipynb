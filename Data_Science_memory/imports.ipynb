{
 "cells": [
  {
   "attachments": {},
   "cell_type": "markdown",
   "metadata": {},
   "source": [
    "## ***ОПТИМИЗАЦИЯ ГИПЕРПАРАМЕТРОВ МОДЕЛИ***\n",
    "Параметры могут быть:\n",
    "* Внутренние (параметры модели):\n",
    "    * Подбираются во время обучения и определяют, как использовать входные данные для получения необходимого результата.\n",
    "    * Например, это веса (коэффициенты уравнения) в линейной/логистической регрессии.\n",
    "* Внешние (параметры алгоритма):\n",
    "    * Их принято называть гиперпараметрами. Внешние параметры могут быть произвольно установлены перед началом обучения и контролируют внутреннюю работу обучающего алгоритма.\n",
    "    * Например, это параметр регуляризации в линейной/логистической регрессии."
   ]
  }
 ],
 "metadata": {
  "kernelspec": {
   "display_name": "sf",
   "language": "python",
   "name": "python3"
  },
  "language_info": {
   "codemirror_mode": {
    "name": "ipython",
    "version": 3
   },
   "file_extension": ".py",
   "mimetype": "text/x-python",
   "name": "python",
   "nbconvert_exporter": "python",
   "pygments_lexer": "ipython3",
   "version": "3.8.11"
  },
  "orig_nbformat": 4,
  "vscode": {
   "interpreter": {
    "hash": "563b3fbad9c1e703622b628cf34b11b58769da99b1ed9a9df4fdabd54b844cdc"
   }
  }
 },
 "nbformat": 4,
 "nbformat_minor": 2
}
