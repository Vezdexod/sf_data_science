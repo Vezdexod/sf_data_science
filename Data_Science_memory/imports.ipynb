{
 "cells": [
  {
   "attachments": {},
   "cell_type": "markdown",
   "metadata": {},
   "source": [
    "## ***ОТБОР И СЕЛЕКЦИЯ ПРИЗНАКОВ***\n",
    "* ### КОДИРОВАНИЕ ПРИЗНАКОВ\n",
    "    * Типы кодировки:\n",
    "        * Порядковое кодирование    `LabelEncoder`\n",
    "        * Двоичное кодирование      `LabelBinarizer`\n",
    "        * Однократное кодирование   `OneHotEncoder`\n",
    "    * Применение:\n",
    "        ``` python\n",
    "            # Импорт кодировщика LabelEncoder\n",
    "            from sklearn.preprocessing import LabelEncoder\n",
    "            # Инициализация кодировщика\n",
    "            encoder = LabelEncoder()\n",
    "            # Обучение (подгонака) кодировщика на выбранном признаке\n",
    "            encoder.fit(data['признак'])\n",
    "            # Преобразование выбранного признака\n",
    "            encoder.transform(data['признак'])\n",
    "\n",
    "            # Можно сразу обучать и преобразовывать\n",
    "            data_LabelEncoder = encoder.fit_transform(data['признак'])\n",
    "        ```"
   ]
  }
 ],
 "metadata": {
  "kernelspec": {
   "display_name": "sf",
   "language": "python",
   "name": "python3"
  },
  "language_info": {
   "name": "python",
   "version": "3.8.11 (default, Aug  6 2021, 09:57:55) [MSC v.1916 64 bit (AMD64)]"
  },
  "orig_nbformat": 4,
  "vscode": {
   "interpreter": {
    "hash": "563b3fbad9c1e703622b628cf34b11b58769da99b1ed9a9df4fdabd54b844cdc"
   }
  }
 },
 "nbformat": 4,
 "nbformat_minor": 2
}
