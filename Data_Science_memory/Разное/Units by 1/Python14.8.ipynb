{
 "cells": [
  {
   "cell_type": "code",
   "execution_count": 149,
   "metadata": {},
   "outputs": [
    {
     "name": "stdout",
     "output_type": "stream",
     "text": [
      "5.3.1\n"
     ]
    }
   ],
   "source": [
    "import pandas as pd\n",
    "import plotly\n",
    "import seaborn as sns\n",
    "import matplotlib.pyplot as plt\n",
    "import numpy as np\n",
    "import plotly.express as px\n",
    "print(plotly.__version__)"
   ]
  },
  {
   "cell_type": "code",
   "execution_count": 150,
   "metadata": {},
   "outputs": [],
   "source": [
    "diabetes_data = pd.read_csv('C:/Python/PYTHON-14/diabetes_data.csv', sep=',')"
   ]
  },
  {
   "cell_type": "code",
   "execution_count": 151,
   "metadata": {},
   "outputs": [
    {
     "name": "stdout",
     "output_type": "stream",
     "text": [
      "<class 'pandas.core.frame.DataFrame'>\n",
      "RangeIndex: 778 entries, 0 to 777\n",
      "Data columns (total 10 columns):\n",
      " #   Column                    Non-Null Count  Dtype  \n",
      "---  ------                    --------------  -----  \n",
      " 0   Pregnancies               778 non-null    int64  \n",
      " 1   Glucose                   778 non-null    int64  \n",
      " 2   BloodPressure             778 non-null    int64  \n",
      " 3   SkinThickness             778 non-null    int64  \n",
      " 4   Insulin                   778 non-null    int64  \n",
      " 5   BMI                       778 non-null    float64\n",
      " 6   DiabetesPedigreeFunction  778 non-null    float64\n",
      " 7   Age                       778 non-null    int64  \n",
      " 8   Outcome                   778 non-null    int64  \n",
      " 9   Gender                    778 non-null    object \n",
      "dtypes: float64(2), int64(7), object(1)\n",
      "memory usage: 60.9+ KB\n"
     ]
    },
    {
     "data": {
      "text/plain": [
       "None"
      ]
     },
     "metadata": {},
     "output_type": "display_data"
    }
   ],
   "source": [
    "diabetes_df = diabetes_data.copy()\n",
    "display(diabetes_df.info())"
   ]
  },
  {
   "cell_type": "markdown",
   "metadata": {},
   "source": [
    "Glucose — концентрация глюкозы в плазме через два часа при пероральном тесте на толерантность к глюкозе.\n",
    "\n",
    "BloodPressure — диастолическое артериальное давление (мм рт. ст.).\n",
    "\n",
    "SkinThickness — толщина кожной складки трицепса (мм).\n",
    "\n",
    "Insulin — двухчасовой сывороточный инсулин (ме Ед/мл).\n",
    "\n",
    "BMI — индекс массы тела (\n",
    "в\n",
    "е\n",
    "с\n",
    "в\n",
    "к\n",
    "г\n",
    "р\n",
    "о\n",
    "с\n",
    "т\n",
    "в\n",
    "м\n",
    ").\n",
    "\n",
    "DiabetesPedigreeFunction — функция родословной диабета (чем она выше, тем выше шанс наследственной заболеваемости).\n",
    "\n",
    "Age — возраст.\n",
    "\n",
    "Outcome — наличие диабета (0 — нет, 1 — да)."
   ]
  },
  {
   "cell_type": "code",
   "execution_count": 152,
   "metadata": {},
   "outputs": [
    {
     "name": "stdout",
     "output_type": "stream",
     "text": [
      "<class 'pandas.core.frame.DataFrame'>\n",
      "Int64Index: 768 entries, 0 to 767\n",
      "Data columns (total 10 columns):\n",
      " #   Column                    Non-Null Count  Dtype  \n",
      "---  ------                    --------------  -----  \n",
      " 0   Pregnancies               768 non-null    int64  \n",
      " 1   Glucose                   768 non-null    int64  \n",
      " 2   BloodPressure             768 non-null    int64  \n",
      " 3   SkinThickness             768 non-null    int64  \n",
      " 4   Insulin                   768 non-null    int64  \n",
      " 5   BMI                       768 non-null    float64\n",
      " 6   DiabetesPedigreeFunction  768 non-null    float64\n",
      " 7   Age                       768 non-null    int64  \n",
      " 8   Outcome                   768 non-null    int64  \n",
      " 9   Gender                    768 non-null    object \n",
      "dtypes: float64(2), int64(7), object(1)\n",
      "memory usage: 66.0+ KB\n"
     ]
    },
    {
     "data": {
      "text/plain": [
       "None"
      ]
     },
     "metadata": {},
     "output_type": "display_data"
    },
    {
     "name": "stdout",
     "output_type": "stream",
     "text": [
      "Результирующее число признаков: 10\n"
     ]
    }
   ],
   "source": [
    "#14.8.1\n",
    "diabetes_df = diabetes_df.drop_duplicates()\n",
    "display(diabetes_df.info())\n",
    "print(f'Результирующее число признаков: {diabetes_df.shape[1]}')"
   ]
  },
  {
   "cell_type": "code",
   "execution_count": 153,
   "metadata": {},
   "outputs": [
    {
     "name": "stdout",
     "output_type": "stream",
     "text": [
      "Gender: 100.0% одинаковых значений\n",
      "Результирующее число признаков: 9\n"
     ]
    }
   ],
   "source": [
    "#14.8.2\n",
    "#создаем список неинформативных признаков\n",
    "low_information_cols = [] \n",
    "\n",
    "#цикл по всем столбцам\n",
    "for col in diabetes_df.columns:\n",
    "    #наибольшая относительная частота в признаке\n",
    "    top_freq = diabetes_df[col].value_counts(normalize=True).max()\n",
    "    #доля уникальных значений от размера признака\n",
    "    nunique_ratio = diabetes_df[col].nunique() / diabetes_df[col].count()\n",
    "    # сравниваем наибольшую частоту с порогом\n",
    "    if top_freq > 0.99:\n",
    "        low_information_cols.append(col)\n",
    "        print(f'{col}: {round(top_freq*100, 2)}% одинаковых значений')\n",
    "    # сравниваем долю уникальных значений с порогом\n",
    "    if nunique_ratio > 0.99:\n",
    "        low_information_cols.append(col)\n",
    "        print(f'{col}: {round(nunique_ratio*100, 2)}% уникальных значений')\n",
    "\n",
    "#Удалим неинформативные признаки\n",
    "diabetes_df = diabetes_df.drop(low_information_cols, axis=1)\n",
    "print(f'Результирующее число признаков: {diabetes_df.shape[1]}')"
   ]
  },
  {
   "cell_type": "code",
   "execution_count": 154,
   "metadata": {},
   "outputs": [
    {
     "name": "stdout",
     "output_type": "stream",
     "text": [
      "<class 'pandas.core.frame.DataFrame'>\n",
      "Int64Index: 768 entries, 0 to 767\n",
      "Data columns (total 9 columns):\n",
      " #   Column                    Non-Null Count  Dtype  \n",
      "---  ------                    --------------  -----  \n",
      " 0   Pregnancies               768 non-null    int64  \n",
      " 1   Glucose                   763 non-null    float64\n",
      " 2   BloodPressure             733 non-null    float64\n",
      " 3   SkinThickness             541 non-null    float64\n",
      " 4   Insulin                   394 non-null    float64\n",
      " 5   BMI                       757 non-null    float64\n",
      " 6   DiabetesPedigreeFunction  768 non-null    float64\n",
      " 7   Age                       768 non-null    int64  \n",
      " 8   Outcome                   768 non-null    int64  \n",
      "dtypes: float64(6), int64(3)\n",
      "memory usage: 60.0 KB\n"
     ]
    },
    {
     "data": {
      "text/plain": [
       "None"
      ]
     },
     "metadata": {},
     "output_type": "display_data"
    },
    {
     "name": "stdout",
     "output_type": "stream",
     "text": [
      "0.49\n",
      "Результирующее число признаков: 9\n"
     ]
    }
   ],
   "source": [
    "#14.8.3\n",
    "NANNING_LIST = ['Glucose', 'BloodPressure', 'SkinThickness', 'Insulin', 'BMI']\n",
    "\n",
    "#цикл по всем столбцам\n",
    "for col in NANNING_LIST:\n",
    "    diabetes_df[col] = diabetes_df[col].apply(lambda x: np.NaN if x == 0 else x)\n",
    "\n",
    "display(diabetes_df.info())\n",
    "\n",
    "nan_insulin = diabetes_df['Insulin'].isnull().sum()/diabetes_df['Insulin'].shape[0]\n",
    "print(round(nan_insulin,2))\n",
    "print(f'Результирующее число признаков: {diabetes_df.shape[1]}')"
   ]
  },
  {
   "cell_type": "code",
   "execution_count": 155,
   "metadata": {},
   "outputs": [
    {
     "name": "stdout",
     "output_type": "stream",
     "text": [
      "0.0\n",
      "0.01\n",
      "0.05\n",
      "0.3\n",
      "0.49\n",
      "0.01\n",
      "0.0\n",
      "0.0\n",
      "0.0\n"
     ]
    }
   ],
   "source": [
    "for col in diabetes_df.columns:\n",
    "    print(round(diabetes_df[col].isnull().sum()/diabetes_df[col].shape[0],2))\n"
   ]
  },
  {
   "cell_type": "code",
   "execution_count": 156,
   "metadata": {},
   "outputs": [
    {
     "name": "stdout",
     "output_type": "stream",
     "text": [
      "<class 'pandas.core.frame.DataFrame'>\n",
      "Int64Index: 768 entries, 0 to 767\n",
      "Data columns (total 8 columns):\n",
      " #   Column                    Non-Null Count  Dtype  \n",
      "---  ------                    --------------  -----  \n",
      " 0   Pregnancies               768 non-null    int64  \n",
      " 1   Glucose                   763 non-null    float64\n",
      " 2   BloodPressure             733 non-null    float64\n",
      " 3   SkinThickness             541 non-null    float64\n",
      " 4   BMI                       757 non-null    float64\n",
      " 5   DiabetesPedigreeFunction  768 non-null    float64\n",
      " 6   Age                       768 non-null    int64  \n",
      " 7   Outcome                   768 non-null    int64  \n",
      "dtypes: float64(5), int64(3)\n",
      "memory usage: 54.0 KB\n",
      "Результирующее число признаков: 8\n"
     ]
    }
   ],
   "source": [
    "#14.8.4\n",
    "\n",
    "#задаем минимальный порог: вычисляем 70% от числа строк\n",
    "thresh = diabetes_df.shape[0]*0.7\n",
    "#удаляем столбцы, в которых более 30% (100-70) пропусков\n",
    "diabetes_df = diabetes_df.dropna(thresh=thresh, axis=1)\n",
    "#отображаем результирующую долю пропусков\n",
    "diabetes_df.info()\n",
    "print(f'Результирующее число признаков: {diabetes_df.shape[1]}')"
   ]
  },
  {
   "cell_type": "code",
   "execution_count": 157,
   "metadata": {},
   "outputs": [
    {
     "name": "stdout",
     "output_type": "stream",
     "text": [
      "<class 'pandas.core.frame.DataFrame'>\n",
      "Int64Index: 761 entries, 0 to 767\n",
      "Data columns (total 8 columns):\n",
      " #   Column                    Non-Null Count  Dtype  \n",
      "---  ------                    --------------  -----  \n",
      " 0   Pregnancies               761 non-null    int64  \n",
      " 1   Glucose                   756 non-null    float64\n",
      " 2   BloodPressure             733 non-null    float64\n",
      " 3   SkinThickness             541 non-null    float64\n",
      " 4   BMI                       757 non-null    float64\n",
      " 5   DiabetesPedigreeFunction  761 non-null    float64\n",
      " 6   Age                       761 non-null    int64  \n",
      " 7   Outcome                   761 non-null    int64  \n",
      "dtypes: float64(5), int64(3)\n",
      "memory usage: 53.5 KB\n",
      "Результирующее число признаков: 8\n"
     ]
    }
   ],
   "source": [
    "#14.8.5\n",
    "\n",
    "'''axis — ось, по которой производится удаление (по умолчанию 0 — строки).\n",
    "    how — как производится удаление строк \n",
    "        (any — если хотя бы в одном из столбцов есть пропуск, стоит по умолчанию; \n",
    "        all — если во всех столбцах есть пропуски). \n",
    "    thresh — порог удаления. Определяет минимальное число непустых значений в строке/столбце, \n",
    "        при котором она/он сохраняется. Например, если мы установим thresh в значение 2, \n",
    "        то мы удалим строки, где число пропусков n-2  и более, где n — число признаков (если axis=0).'''\n",
    "\n",
    "#удаляем строки, в которых более 2х пропусков\n",
    "m = diabetes_df.shape[1]\n",
    "diabetes_df = diabetes_df.dropna(thresh=m-2, axis=0)\n",
    "#отображаем результирующую долю пропусков\n",
    "diabetes_df.info()\n",
    "print(f'Результирующее число признаков: {diabetes_df.shape[1]}')"
   ]
  },
  {
   "cell_type": "code",
   "execution_count": 158,
   "metadata": {},
   "outputs": [
    {
     "data": {
      "text/html": [
       "<div>\n",
       "<style scoped>\n",
       "    .dataframe tbody tr th:only-of-type {\n",
       "        vertical-align: middle;\n",
       "    }\n",
       "\n",
       "    .dataframe tbody tr th {\n",
       "        vertical-align: top;\n",
       "    }\n",
       "\n",
       "    .dataframe thead th {\n",
       "        text-align: right;\n",
       "    }\n",
       "</style>\n",
       "<table border=\"1\" class=\"dataframe\">\n",
       "  <thead>\n",
       "    <tr style=\"text-align: right;\">\n",
       "      <th></th>\n",
       "      <th>Pregnancies</th>\n",
       "      <th>Glucose</th>\n",
       "      <th>BloodPressure</th>\n",
       "      <th>SkinThickness</th>\n",
       "      <th>BMI</th>\n",
       "      <th>DiabetesPedigreeFunction</th>\n",
       "      <th>Age</th>\n",
       "      <th>Outcome</th>\n",
       "    </tr>\n",
       "  </thead>\n",
       "  <tbody>\n",
       "    <tr>\n",
       "      <th>0</th>\n",
       "      <td>6</td>\n",
       "      <td>98.0</td>\n",
       "      <td>58.0</td>\n",
       "      <td>33.0</td>\n",
       "      <td>34.0</td>\n",
       "      <td>0.430</td>\n",
       "      <td>43</td>\n",
       "      <td>0</td>\n",
       "    </tr>\n",
       "    <tr>\n",
       "      <th>1</th>\n",
       "      <td>2</td>\n",
       "      <td>112.0</td>\n",
       "      <td>75.0</td>\n",
       "      <td>32.0</td>\n",
       "      <td>35.7</td>\n",
       "      <td>0.148</td>\n",
       "      <td>21</td>\n",
       "      <td>0</td>\n",
       "    </tr>\n",
       "    <tr>\n",
       "      <th>2</th>\n",
       "      <td>2</td>\n",
       "      <td>108.0</td>\n",
       "      <td>64.0</td>\n",
       "      <td>NaN</td>\n",
       "      <td>30.8</td>\n",
       "      <td>0.158</td>\n",
       "      <td>21</td>\n",
       "      <td>0</td>\n",
       "    </tr>\n",
       "    <tr>\n",
       "      <th>3</th>\n",
       "      <td>8</td>\n",
       "      <td>107.0</td>\n",
       "      <td>80.0</td>\n",
       "      <td>NaN</td>\n",
       "      <td>24.6</td>\n",
       "      <td>0.856</td>\n",
       "      <td>34</td>\n",
       "      <td>0</td>\n",
       "    </tr>\n",
       "    <tr>\n",
       "      <th>4</th>\n",
       "      <td>7</td>\n",
       "      <td>136.0</td>\n",
       "      <td>90.0</td>\n",
       "      <td>NaN</td>\n",
       "      <td>29.9</td>\n",
       "      <td>0.210</td>\n",
       "      <td>50</td>\n",
       "      <td>0</td>\n",
       "    </tr>\n",
       "  </tbody>\n",
       "</table>\n",
       "</div>"
      ],
      "text/plain": [
       "   Pregnancies  Glucose  BloodPressure  SkinThickness   BMI  \\\n",
       "0            6     98.0           58.0           33.0  34.0   \n",
       "1            2    112.0           75.0           32.0  35.7   \n",
       "2            2    108.0           64.0            NaN  30.8   \n",
       "3            8    107.0           80.0            NaN  24.6   \n",
       "4            7    136.0           90.0            NaN  29.9   \n",
       "\n",
       "   DiabetesPedigreeFunction  Age  Outcome  \n",
       "0                     0.430   43        0  \n",
       "1                     0.148   21        0  \n",
       "2                     0.158   21        0  \n",
       "3                     0.856   34        0  \n",
       "4                     0.210   50        0  "
      ]
     },
     "metadata": {},
     "output_type": "display_data"
    }
   ],
   "source": [
    "display(diabetes_df.head())"
   ]
  },
  {
   "cell_type": "code",
   "execution_count": 159,
   "metadata": {},
   "outputs": [
    {
     "data": {
      "text/html": [
       "<div>\n",
       "<style scoped>\n",
       "    .dataframe tbody tr th:only-of-type {\n",
       "        vertical-align: middle;\n",
       "    }\n",
       "\n",
       "    .dataframe tbody tr th {\n",
       "        vertical-align: top;\n",
       "    }\n",
       "\n",
       "    .dataframe thead th {\n",
       "        text-align: right;\n",
       "    }\n",
       "</style>\n",
       "<table border=\"1\" class=\"dataframe\">\n",
       "  <thead>\n",
       "    <tr style=\"text-align: right;\">\n",
       "      <th></th>\n",
       "      <th>Pregnancies</th>\n",
       "      <th>Glucose</th>\n",
       "      <th>BloodPressure</th>\n",
       "      <th>SkinThickness</th>\n",
       "      <th>BMI</th>\n",
       "      <th>DiabetesPedigreeFunction</th>\n",
       "      <th>Age</th>\n",
       "      <th>Outcome</th>\n",
       "    </tr>\n",
       "  </thead>\n",
       "  <tbody>\n",
       "    <tr>\n",
       "      <th>0</th>\n",
       "      <td>6</td>\n",
       "      <td>98.0</td>\n",
       "      <td>58.0</td>\n",
       "      <td>33.0</td>\n",
       "      <td>34.0</td>\n",
       "      <td>0.430</td>\n",
       "      <td>43</td>\n",
       "      <td>0</td>\n",
       "    </tr>\n",
       "    <tr>\n",
       "      <th>1</th>\n",
       "      <td>2</td>\n",
       "      <td>112.0</td>\n",
       "      <td>75.0</td>\n",
       "      <td>32.0</td>\n",
       "      <td>35.7</td>\n",
       "      <td>0.148</td>\n",
       "      <td>21</td>\n",
       "      <td>0</td>\n",
       "    </tr>\n",
       "    <tr>\n",
       "      <th>2</th>\n",
       "      <td>2</td>\n",
       "      <td>108.0</td>\n",
       "      <td>64.0</td>\n",
       "      <td>29.0</td>\n",
       "      <td>30.8</td>\n",
       "      <td>0.158</td>\n",
       "      <td>21</td>\n",
       "      <td>0</td>\n",
       "    </tr>\n",
       "    <tr>\n",
       "      <th>3</th>\n",
       "      <td>8</td>\n",
       "      <td>107.0</td>\n",
       "      <td>80.0</td>\n",
       "      <td>29.0</td>\n",
       "      <td>24.6</td>\n",
       "      <td>0.856</td>\n",
       "      <td>34</td>\n",
       "      <td>0</td>\n",
       "    </tr>\n",
       "    <tr>\n",
       "      <th>4</th>\n",
       "      <td>7</td>\n",
       "      <td>136.0</td>\n",
       "      <td>90.0</td>\n",
       "      <td>29.0</td>\n",
       "      <td>29.9</td>\n",
       "      <td>0.210</td>\n",
       "      <td>50</td>\n",
       "      <td>0</td>\n",
       "    </tr>\n",
       "  </tbody>\n",
       "</table>\n",
       "</div>"
      ],
      "text/plain": [
       "   Pregnancies  Glucose  BloodPressure  SkinThickness   BMI  \\\n",
       "0            6     98.0           58.0           33.0  34.0   \n",
       "1            2    112.0           75.0           32.0  35.7   \n",
       "2            2    108.0           64.0           29.0  30.8   \n",
       "3            8    107.0           80.0           29.0  24.6   \n",
       "4            7    136.0           90.0           29.0  29.9   \n",
       "\n",
       "   DiabetesPedigreeFunction  Age  Outcome  \n",
       "0                     0.430   43        0  \n",
       "1                     0.148   21        0  \n",
       "2                     0.158   21        0  \n",
       "3                     0.856   34        0  \n",
       "4                     0.210   50        0  "
      ]
     },
     "metadata": {},
     "output_type": "display_data"
    },
    {
     "name": "stdout",
     "output_type": "stream",
     "text": [
      "29.1\n"
     ]
    }
   ],
   "source": [
    "#14.8.6\n",
    "#В оставшихся записях замените пропуски на медиану. Чему равно среднее значение в столбце SkinThickness? Ответ округлите до десятых.\n",
    "\n",
    "values = {\n",
    "    'Pregnancies':                  diabetes_df['Pregnancies'].median(),\n",
    "    'Glucose':                      diabetes_df['Glucose'].median(),\n",
    "    'BloodPressure':                diabetes_df['BloodPressure'].median(),\n",
    "    'SkinThickness':                diabetes_df['SkinThickness'].median(),\n",
    "    'BMI':                          diabetes_df['BMI'].median(),\n",
    "    'DiabetesPedigreeFunction':     diabetes_df['DiabetesPedigreeFunction'].median(),\n",
    "    'Age':                          diabetes_df['Age'].median(),\n",
    "    'Outcome':                      diabetes_df['Outcome'].median()\n",
    "}\n",
    "#заполняем пропуски в соответствии с заявленным словарем\n",
    "diabetes_df = diabetes_df.fillna(values)\n",
    "\n",
    "display(diabetes_df.head())\n",
    "\n",
    "#display(diabetes_df.info())\n",
    "\n",
    "mean_SkinThickness = diabetes_df['SkinThickness'].mean()\n",
    "print(round(mean_SkinThickness,1))\n"
   ]
  },
  {
   "cell_type": "code",
   "execution_count": 160,
   "metadata": {},
   "outputs": [
    {
     "name": "stdout",
     "output_type": "stream",
     "text": [
      "Vibrosi:  87\n",
      "Itogo zapisei:  674\n"
     ]
    }
   ],
   "source": [
    "#14.8.7\n",
    "#Сколько выбросов найдёт классический метод межквартильного размаха в признаке SkinThickness?\n",
    "\n",
    "def outliers_iqr(data, feature, left=1.5, right=1.5):    \n",
    "    x = data[feature]\n",
    "    quartile_1, quartile_3 = x.quantile(0.25), x.quantile(0.75),\n",
    "    iqr = quartile_3 - quartile_1\n",
    "    upper_bound = quartile_3 + (iqr * right)\n",
    "    lower_bound = quartile_1 - (iqr * left) \n",
    "    \n",
    "    outliers = data[(x<lower_bound) | (x > upper_bound)]\n",
    "    cleaned = data[(x>lower_bound) & (x < upper_bound)]\n",
    "    return outliers, cleaned\n",
    "\n",
    "outliers, cleaned = outliers_iqr(diabetes_df, 'SkinThickness', left=1.5, right=1.5)\n",
    "\n",
    "print('Vibrosi: ',outliers.shape[0])\n",
    "print('Itogo zapisei: ',cleaned.shape[0]) "
   ]
  },
  {
   "cell_type": "code",
   "execution_count": 161,
   "metadata": {},
   "outputs": [
    {
     "name": "stdout",
     "output_type": "stream",
     "text": [
      "Vibrosi:  4\n",
      "Itogo zapisei:  757\n"
     ]
    }
   ],
   "source": [
    "#14.8.8\n",
    "#Сколько выбросов найдёт классический метод z-отклонения в признаке SkinThickness?\n",
    "\n",
    "def outliers_z_score(data, feature, log_scale=False, left=3, right=3):    \n",
    "    if log_scale:\n",
    "        x = np.log(data[feature]+1)\n",
    "    else:\n",
    "        x = data[feature]\n",
    "    mu = x.mean()                   #Вычислим математическое ожидание (среднее)\n",
    "    sigma = x.std()                 #Вычислим стандартное отклонение для признака x\n",
    "    lower_bound = mu - left * sigma    #Вычислим нижнюю границу интервала\n",
    "    upper_bound = mu + right * sigma    #Вычислим верхнюю границу интервала\n",
    "    outliers = data[(x < lower_bound) | (x > upper_bound)]\n",
    "    cleaned = data[(x > lower_bound) & (x < upper_bound)]\n",
    "    return outliers, cleaned\n",
    "\n",
    "outliers, cleaned = outliers_z_score(diabetes_df, 'SkinThickness', log_scale=False, left=3, right=3)\n",
    "\n",
    "print('Vibrosi: ',outliers.shape[0])\n",
    "print('Itogo zapisei: ',cleaned.shape[0])"
   ]
  },
  {
   "cell_type": "code",
   "execution_count": 162,
   "metadata": {},
   "outputs": [
    {
     "name": "stdout",
     "output_type": "stream",
     "text": [
      "0.258    6\n",
      "0.254    6\n",
      "0.238    5\n",
      "0.259    5\n",
      "0.268    5\n",
      "        ..\n",
      "0.176    1\n",
      "0.352    1\n",
      "0.554    1\n",
      "0.821    1\n",
      "1.136    1\n",
      "Name: DiabetesPedigreeFunction, Length: 515, dtype: int64\n"
     ]
    }
   ],
   "source": [
    "print(diabetes_df['DiabetesPedigreeFunction'].value_counts())"
   ]
  },
  {
   "cell_type": "code",
   "execution_count": 163,
   "metadata": {},
   "outputs": [
    {
     "name": "stdout",
     "output_type": "stream",
     "text": [
      "-1.354796    6\n",
      "-1.370421    6\n",
      "-1.435485    5\n",
      "-1.350927    5\n",
      "-1.316768    5\n",
      "            ..\n",
      "-1.737271    1\n",
      "-1.044124    1\n",
      "-0.590591    1\n",
      "-0.197232    1\n",
      " 0.127513    1\n",
      "Name: DiabetesPedigreeFunction, Length: 515, dtype: int64\n"
     ]
    }
   ],
   "source": [
    "print(np.log(diabetes_df['DiabetesPedigreeFunction']).value_counts())"
   ]
  },
  {
   "cell_type": "code",
   "execution_count": 164,
   "metadata": {},
   "outputs": [
    {
     "name": "stdout",
     "output_type": "stream",
     "text": [
      "Vibrosi:  29\n",
      "Itogo zapisei:  732\n",
      "Raznitsa:  29\n"
     ]
    }
   ],
   "source": [
    "#14.8.9\n",
    "#Найдите сначала число выбросов в признаке DiabetesPedigreeFunction с помощью классического метода межквартильного размаха.\n",
    "\n",
    "def outliers_iqr(data, feature, log_scale=False, left=1.5, right=1.5):    \n",
    "    if log_scale:\n",
    "        x = np.log(data[feature])\n",
    "    else:\n",
    "        x = data[feature]\n",
    "    quartile_1, quartile_3 = x.quantile(0.25), x.quantile(0.75),\n",
    "    iqr = quartile_3 - quartile_1\n",
    "    upper_bound = quartile_3 + (iqr * right)\n",
    "    lower_bound = quartile_1 - (iqr * left) \n",
    "    \n",
    "    outliers = data[(x<lower_bound) | (x > upper_bound)]\n",
    "    cleaned = data[(x>lower_bound) & (x < upper_bound)]\n",
    "    return outliers, cleaned\n",
    "\n",
    "outliers, cleaned = outliers_iqr(diabetes_df, 'DiabetesPedigreeFunction')\n",
    "outliers_log, cleaned_log = outliers_iqr(diabetes_df, 'DiabetesPedigreeFunction', log_scale=True)\n",
    "\n",
    "print('Vibrosi: ',outliers.shape[0])\n",
    "print('Itogo zapisei: ',cleaned.shape[0])\n",
    "print('Raznitsa: ',outliers.shape[0]-outliers_log.shape[0])"
   ]
  },
  {
   "cell_type": "code",
   "execution_count": 165,
   "metadata": {},
   "outputs": [
    {
     "name": "stdout",
     "output_type": "stream",
     "text": [
      "29\n"
     ]
    }
   ],
   "source": [
    "def outliers_iqr_mod(data, feature, left=1.5, right=1.5, log_scale=False):\n",
    "    if log_scale:\n",
    "        x = np.log(data[feature])\n",
    "    else:\n",
    "        x= data[feature]\n",
    "    quartile_1, quartile_3 = x.quantile(0.25), x.quantile(0.75),\n",
    "    iqr = quartile_3 - quartile_1\n",
    "    lower_bound = quartile_1 - (iqr * left)\n",
    "    upper_bound = quartile_3 + (iqr * right)\n",
    "    outliers = data[(x<lower_bound) | (x > upper_bound)]\n",
    "    cleaned = data[(x>lower_bound) & (x < upper_bound)]\n",
    "    return outliers, cleaned\n",
    "outliers, _ = outliers_iqr_mod(diabetes_df, 'DiabetesPedigreeFunction')\n",
    "outliers_log, _ = outliers_iqr_mod(diabetes_df, 'DiabetesPedigreeFunction', log_scale=True)\n",
    "print(outliers.shape[0] - outliers_log.shape[0])"
   ]
  },
  {
   "cell_type": "code",
   "execution_count": 143,
   "metadata": {},
   "outputs": [
    {
     "name": "stdout",
     "output_type": "stream",
     "text": [
      "Vibrosi:  0\n",
      "Itogo zapisei:  761\n"
     ]
    }
   ],
   "source": [
    "#14.8.9\n",
    "#Затем найдите число выбросов в этом же признаке в логарифмическом масштабе (при логарифмировании единицу прибавлять не нужно!). \n",
    "# Какова разница между двумя этими числами (вычтите из первого второе)?\n",
    "\n",
    "def outliers_iqr(data, feature, log_scale=False, left=1.5, right=1.5):    \n",
    "    if log_scale:\n",
    "        x = np.log(data[feature])\n",
    "    else:\n",
    "        x = data[feature]\n",
    "    quartile_1, quartile_3 = x.quantile(0.25), x.quantile(0.75),\n",
    "    iqr = quartile_3 - quartile_1\n",
    "    upper_bound = quartile_3 + (iqr * right)\n",
    "    lower_bound = quartile_1 - (iqr * left) \n",
    "    \n",
    "    outliers = data[(x<lower_bound) | (x > upper_bound)]\n",
    "    cleaned = data[(x>lower_bound) & (x < upper_bound)]\n",
    "    return outliers, cleaned\n",
    "\n",
    "outliers, cleaned = outliers_iqr(diabetes_df, 'DiabetesPedigreeFunction', log_scale=True)\n",
    "\n",
    "print('Vibrosi: ',outliers.shape[0])\n",
    "print('Itogo zapisei: ',cleaned.shape[0])"
   ]
  },
  {
   "cell_type": "code",
   "execution_count": null,
   "metadata": {},
   "outputs": [],
   "source": []
  },
  {
   "cell_type": "code",
   "execution_count": null,
   "metadata": {},
   "outputs": [],
   "source": []
  }
 ],
 "metadata": {
  "interpreter": {
   "hash": "a0ee17f82dbdcb75f08a05abb4036aba74cc48f12b0e4c388beeedfd1810f8cf"
  },
  "kernelspec": {
   "display_name": "Python 3.8.11 64-bit ('sf': conda)",
   "language": "python",
   "name": "python3"
  },
  "language_info": {
   "codemirror_mode": {
    "name": "ipython",
    "version": 3
   },
   "file_extension": ".py",
   "mimetype": "text/x-python",
   "name": "python",
   "nbconvert_exporter": "python",
   "pygments_lexer": "ipython3",
   "version": "3.8.11"
  },
  "orig_nbformat": 4
 },
 "nbformat": 4,
 "nbformat_minor": 2
}
