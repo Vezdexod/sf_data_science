{
 "cells": [
  {
   "cell_type": "code",
   "execution_count": null,
   "metadata": {},
   "outputs": [],
   "source": [
    "import json # Импортируем модуль json\n",
    "from pprint import pprint # Импортируем функцию pprint()\n",
    "import pandas as pd # Импортируем модуль pandas"
   ]
  },
  {
   "cell_type": "code",
   "execution_count": null,
   "metadata": {},
   "outputs": [],
   "source": [
    " with open('recipes.json') as f: # Открываем файл и связываем его с объектом \"f\"\n",
    "    recipes = json.load(f) # Загружаем содержимое открытого файла в переменную recipes"
   ]
  },
  {
   "cell_type": "code",
   "execution_count": null,
   "metadata": {},
   "outputs": [],
   "source": [
    "pprint(recipes) # Выводим на экран содержимое переменной recipes, используя функция pprint()"
   ]
  },
  {
   "cell_type": "code",
   "execution_count": null,
   "metadata": {},
   "outputs": [],
   "source": [
    "len(recipes[0]['ingredients'])"
   ]
  },
  {
   "cell_type": "code",
   "execution_count": null,
   "metadata": {},
   "outputs": [],
   "source": [
    "for i in range(len(recipes)):\n",
    "    if recipes[i]['id'] == 13121:\n",
    "        print(recipes[i]['cuisine'])"
   ]
  },
  {
   "cell_type": "code",
   "execution_count": null,
   "metadata": {},
   "outputs": [],
   "source": [
    "set1 = set()\n",
    "for i in range(len(recipes)):\n",
    "    set1.add(recipes[i]['cuisine'])\n",
    "print(set1)"
   ]
  },
  {
   "cell_type": "code",
   "execution_count": null,
   "metadata": {},
   "outputs": [],
   "source": [
    "dict1 = {'british':0,\n",
    "        'korean':0,\n",
    "        'filipino':0,\n",
    "        'spanish':0,\n",
    "        'greek':0,\n",
    "        'moroccan':0,\n",
    "        'japanese':0,\n",
    "        'irish':0,\n",
    "        'jamaican':0,\n",
    "        'thai':0,\n",
    "        'mexican':0,\n",
    "        'southern_us':0,\n",
    "        'french':0,\n",
    "        'russian':0,\n",
    "        'chinese':0,\n",
    "        'brazilian':0,\n",
    "        'indian':0,\n",
    "        'italian':0,\n",
    "        'cajun_creole':0,\n",
    "        'vietnamese':0}\n",
    "\n",
    "print(dict1.keys())\n",
    "\n",
    "for i in range(len(recipes)):\n",
    "    for countri in dict1.keys():\n",
    "        if recipes[i]['cuisine'] == countri:\n",
    "            dict1[countri] += 1\n",
    "    \n",
    "print(dict1)"
   ]
  },
  {
   "cell_type": "code",
   "execution_count": null,
   "metadata": {},
   "outputs": [],
   "source": [
    "with open('recipes.json') as f: # Открываем файл и связываем его с объектом \"f\"\n",
    "    recipes = json.load(f) # Загружаем содержимое открытого файла в переменную recipes\n",
    "df = pd.DataFrame(recipes) # Создаём объект DataFrame из списка recipes\n",
    "display(df.head()) # Выводим на экран первые строки полученного DataFrame"
   ]
  },
  {
   "cell_type": "code",
   "execution_count": null,
   "metadata": {},
   "outputs": [],
   "source": [
    "df = pd.read_json('recipes.json') # Создаём объект DataFrame, загружая содержимое файла recipes.json\n",
    "display(df.head()) # Выводим на экран первые строки полученного DataFrame"
   ]
  },
  {
   "cell_type": "code",
   "execution_count": null,
   "metadata": {},
   "outputs": [],
   "source": [
    "df.shape"
   ]
  },
  {
   "cell_type": "code",
   "execution_count": null,
   "metadata": {},
   "outputs": [],
   "source": [
    "set2 = set()\n",
    "for i in range(df.shape[0]):\n",
    "    for j in range(len(df['ingredients'].iloc[i])):\n",
    "        set2.add(df['ingredients'].iloc[i][j])\n",
    "\n",
    "print(len(set2))"
   ]
  },
  {
   "cell_type": "code",
   "execution_count": null,
   "metadata": {},
   "outputs": [],
   "source": [
    "with open('recipes.json') as f: # Открываем файл и связываем его с объектом \"f\"\n",
    "    recipes = json.load(f) # Загружаем содержимое открытого файла в переменную recipes\n",
    "df = pd.DataFrame(recipes) # Создаём объект DataFrame из списка recipes\n",
    "display(df.head()) # Выводим на экран первые строки полученного DataFrame\n",
    "\n",
    "def contains(ingredient_list): # Определяем имя функции и передаваемые аргументы\n",
    "    if ingredient_name in ingredient_list: # Если ингредиент есть в текущем блюде,\n",
    "        return 1 # возвращаем значение 1\n",
    "    else: # Если ингредиента нет в текущем блюде,\n",
    "        return 0 # возвращаем значение 0\n",
    "    \n",
    "all_ingredients = set()\n",
    "\n",
    "for ingredient_name in all_ingredients: # Последовательно перебираем ингредиенты в реестре all_ingredients\n",
    "    df[ingredient_name] = df['ingredients'].apply(contains) # В DataFrame cоздаем столбец с именем текущего ингредиента и заполняем его единицами и нулями, используя ранее созданную функцию contains\n",
    "\n",
    "\n",
    "df['ingredients'] = df['ingredients'].apply(len) # Заменяем список ингредиентов в рецепте на их количество \n",
    "display(df) # Выводим содержимое полученного DataFrame на экран\n",
    "\n",
    "\n"
   ]
  },
  {
   "cell_type": "code",
   "execution_count": null,
   "metadata": {},
   "outputs": [],
   "source": [
    "print(all_ingredients)"
   ]
  },
  {
   "cell_type": "code",
   "execution_count": null,
   "metadata": {},
   "outputs": [],
   "source": [
    "df.to_csv('recipes.csv', index = False)"
   ]
  },
  {
   "cell_type": "code",
   "execution_count": null,
   "metadata": {},
   "outputs": [],
   "source": [
    "#16.7\n",
    "df = pd.read_csv('recipes.csv') # Создаём DataFrame, читаем данные из файла в переменную df"
   ]
  },
  {
   "cell_type": "code",
   "execution_count": null,
   "metadata": {},
   "outputs": [],
   "source": [
    "display(df.head())"
   ]
  },
  {
   "cell_type": "code",
   "execution_count": null,
   "metadata": {},
   "outputs": [],
   "source": [
    "all_id = list()\n",
    "for i in range(df.shape[0]):\n",
    "    all_id.append(df['id'].iloc[i])\n",
    "print(all_id)\n"
   ]
  },
  {
   "cell_type": "code",
   "execution_count": null,
   "metadata": {},
   "outputs": [],
   "source": [
    "df = pd.read_json('recipes.json') # Создаём объект DataFrame, загружая содержимое файла recipes.json\n",
    "display(df.head()) # Выводим на экран первые строки полученного DataFrame\n",
    "df.to_csv('recipes.csv', index = False)"
   ]
  },
  {
   "cell_type": "code",
   "execution_count": null,
   "metadata": {},
   "outputs": [],
   "source": [
    "df = pd.read_csv('recipes.csv')\n",
    "display(df)\n",
    "all_ingredients = set()\n",
    "for i in range(df.shape[0]):\n",
    "    for j in range(len(df['ingredients'].iloc[i])):\n",
    "        all_ingredients.add(df['ingredients'].iloc[i][j])\n",
    "        \n",
    "print(all_ingredients)        "
   ]
  },
  {
   "cell_type": "code",
   "execution_count": null,
   "metadata": {},
   "outputs": [],
   "source": [
    "df = pd.read_csv('recipes.csv')\n",
    "display(df.head())\n",
    "\n",
    "ingredients = list()\n",
    "\n",
    "for i in range(df.shape[0]):\n",
    "    for ing in (df['ingredients'].iloc[i]):                  \n",
    "        if not(ing in ingredients):\n",
    "            ingredients.append(ing)\n",
    "\n",
    "\n",
    "print(ingredients) "
   ]
  },
  {
   "cell_type": "code",
   "execution_count": null,
   "metadata": {},
   "outputs": [],
   "source": [
    "df = pd.read_csv('recipes.csv') # Читаем содержмиое файла и создаем объект df\n",
    "ingredients = list(df.columns)[3:] # Создаем список уникальных значений ингредиентов\n",
    "print(ingredients)"
   ]
  },
  {
   "cell_type": "code",
   "execution_count": null,
   "metadata": {},
   "outputs": [],
   "source": [
    "df = pd.read_csv('recipes.csv') # Читаем содержимое файла и создаем объект df\n",
    "ingredients = list(df.columns)[3:] # Создаем список уникальных значений ингредиентов\n",
    "\n",
    "def make_list(row): # Определяем имя функции и передаваемые аргументы\n",
    "    ingredient_list=[] # Создаем пустой список ингредиентов текущего блюда\n",
    "    for ingredient in ingredients: # Последовательно перебираем ингредиенты из реестра\n",
    "        if row[ingredient].item()==1: # Если текущий ингредиент входит в состав текущего блюда\n",
    "            ingredient_list.append(ingredient) # Добавляем ингредиент в список ингредиентов текущего блюда\n",
    "    return ingredient_list # Возвращаем сформированный список ингредиентов"
   ]
  }
 ],
 "metadata": {
  "interpreter": {
   "hash": "a0ee17f82dbdcb75f08a05abb4036aba74cc48f12b0e4c388beeedfd1810f8cf"
  },
  "kernelspec": {
   "display_name": "Python 3.8.11 64-bit ('sf': conda)",
   "language": "python",
   "name": "python3"
  },
  "language_info": {
   "codemirror_mode": {
    "name": "ipython",
    "version": 3
   },
   "file_extension": ".py",
   "mimetype": "text/x-python",
   "name": "python",
   "nbconvert_exporter": "python",
   "pygments_lexer": "ipython3",
   "version": "3.8.11"
  },
  "orig_nbformat": 4
 },
 "nbformat": 4,
 "nbformat_minor": 2
}
