{
 "cells": [
  {
   "cell_type": "code",
   "execution_count": null,
   "metadata": {},
   "outputs": [],
   "source": [
    "import numpy as np # для матричных вычислений\n",
    "import pandas as pd # для анализа и предобработки данных\n",
    "import matplotlib.pyplot as plt # для визуализации\n",
    "import seaborn as sns # для визуализации\n",
    "\n",
    "from sklearn import linear_model # линейные модели\n",
    "from sklearn import metrics # метрики\n",
    "\n",
    "from sklearn.model_selection import train_test_split # сплитование выборки\n",
    "from sklearn import preprocessing # предобработка\n",
    "%matplotlib inline\n",
    "plt.style.use('seaborn')"
   ]
  },
  {
   "cell_type": "code",
   "execution_count": null,
   "metadata": {},
   "outputs": [],
   "source": [
    "# Загрузим данные для образца\n",
    "from sklearn.datasets import load_boston \n",
    "\n",
    "boston = load_boston()\n",
    "# создаём DataFrame из загруженных numpy-матриц\n",
    "boston_data = pd.DataFrame(\n",
    "    data=boston.data, #данные\n",
    "    columns=boston.feature_names #наименования столбцов\n",
    ")\n",
    "# добавляем в таблицу столбец с целевой переменной\n",
    "boston_data['MEDV'] = boston.target\n",
    "boston_data.head()"
   ]
  },
  {
   "cell_type": "code",
   "execution_count": null,
   "metadata": {},
   "outputs": [],
   "source": [
    "X = boston_data.drop('MEDV', axis=1) #матрица наблюдений\n",
    "y = boston_data['MEDV'] #вектор правильных ответов"
   ]
  },
  {
   "cell_type": "markdown",
   "metadata": {},
   "source": [
    "# РАЗДЕЛЕНИЕ выборки"
   ]
  },
  {
   "cell_type": "code",
   "execution_count": null,
   "metadata": {},
   "outputs": [],
   "source": [
    "\n",
    "from sklearn.model_selection import train_test_split\n",
    "# Разделяем выборку на тренировочную и тестовую в соотношении 70/30\n",
    "\n",
    "# Устанавливаем random_state для воспроизводимости результатов \n",
    "X_train, X_test, y_train, y_test = train_test_split(X, y, test_size=0.3, shuffle=False, stratify=y, random_state=40)\n",
    "# X - матрица признаков (наблюдений)\n",
    "# y - вектор правильных ответов\n",
    "# test_size=0.3 - 30% данных идут в тестовую выборку\n",
    "# shuffle=False - По умолчанию True. Параметр перемешивания данных в выборке.\n",
    "# stratify=y - Стратифицированное разбиение - Одинаковое соотношение целевого признака \n",
    "# в тренировочной и тестовой выборке, не допускающее перекоса в обучении модели.\n",
    "# random_state=40 - гарантирует выдачу генератором одних и тех же случайных значений\n",
    "# \n",
    "\n",
    "\n",
    "# Выводим результирующие размеры таблиц\n",
    "print('Train:', X_train.shape, y_train.shape)\n",
    "print('Test:', X_test.shape, y_test.shape)"
   ]
  },
  {
   "cell_type": "markdown",
   "metadata": {},
   "source": [
    "# МЕТРИКИ РЕГРЕССИИ\n",
    "см ML2.ipynb"
   ]
  },
  {
   "cell_type": "code",
   "execution_count": null,
   "metadata": {},
   "outputs": [],
   "source": [
    "from sklearn import metrics\n",
    "\n",
    "# Делаем предсказание по всем признакам\n",
    "y_predict_full = lr_full.predict(boston_data[features])\n",
    "# Рассчитываем MAE - Средняя абсолютная ошибка\n",
    "print('MAE score: {:.3f} thou. $'.format(metrics.mean_absolute_error(y, y_predict_full)))\n",
    "# Рассчитываем RMSE - Корень из средней квадратической ошибки\n",
    "print('RMSE score: {:.3f} thou. $'.format(np.sqrt(metrics.mean_squared_error(y, y_predict_full))))\n",
    "# Рассчитываем MAPE - Средняя абсолютная ошибка в процентах\n",
    "print('MAPE score: {:.3f} %'.format(metrics.mean_absolute_percentage_error(y, y_predict_full) * 100))\n",
    "# Рассчитываем коэффициент детерминации Коэффициент детерминации (R2)\n",
    "print('R2 score: {:.3f}'.format(metrics.r2_score(y, y_predict_full)))"
   ]
  },
  {
   "cell_type": "markdown",
   "metadata": {},
   "source": [
    "# АНАЛИТИЧЕСКОЕ РЕШЕНИЕ \"РЕГРЕССИИ\" С ПОМОЩЬЮ NUMPY\n",
    "см ML2.ipynb"
   ]
  },
  {
   "cell_type": "code",
   "execution_count": null,
   "metadata": {},
   "outputs": [],
   "source": [
    "def linear_regression(X, y):\n",
    "    # Создаём вектор из единиц\n",
    "    ones = np.ones(X.shape[0])\n",
    "    # Добавляем вектор к таблице первым столбцом\n",
    "    X = np.column_stack([ones, X])\n",
    "    # Вычисляем обратную матрицу Q\n",
    "    Q = np.linalg.inv(X.T @ X)\n",
    "    # Вычисляем вектор коэффициентов\n",
    "    w = Q @ X.T @ y\n",
    "    return w\n",
    "# Вычисляем параметры линейной регрессии\n",
    "w = linear_regression(X, y)\n",
    "# Выводим вычисленные значения параметров в виде вектора\n",
    "print('Vector w: {}'.format(w))\n",
    "# Выводим параметры с точностью до двух знаков после запятой\n",
    "print('w0 = {:.2f}'.format(w[0]))\n",
    "print('w1 = {:.2f}'.format(w[1]))"
   ]
  },
  {
   "cell_type": "markdown",
   "metadata": {},
   "source": [
    "# НАЛИТИЧЕСКОЕ РЕШЕНИЕ \"РЕГРЕССИИ\" С ПОМОЩЬЮ SKLEARN\n",
    "см ML2.ipynb"
   ]
  },
  {
   "cell_type": "code",
   "execution_count": null,
   "metadata": {},
   "outputs": [],
   "source": [
    "# Создаём объект класса LinearRegression\n",
    "lr_full = linear_model.LinearRegression()\n",
    "\n",
    "# Обучаем модель — ищем параметры по МНК\n",
    "lr_full.fit(X, y) \n",
    "\n",
    "# Выводим полученные параметры\n",
    "print('w0 = {}'.format(lr_full.intercept_)) #свободный член w0\n",
    "print('w1 = {}'.format(lr_full.coef_)) #остальные параметры модели w1, w2, ..., wm\n",
    "\n",
    "# Предсказываем медианную цену для всех участков из набора данных\n",
    "y_predict = lr_full.predict(X)\n",
    "\n",
    "# Выводим предсказание\n",
    "# Составляем таблицу из признаков и их коэффициентов\n",
    "w_df = pd.DataFrame({'Features': X.columns, 'Coefficients': lr_full.coef_})\n",
    "# Составляем строку таблицы со свободным членом\n",
    "intercept_df =pd.DataFrame({'Features': ['INTERCEPT'], 'Coefficients': lr_full.intercept_})\n",
    "coef_df = pd.concat([w_df, intercept_df], ignore_index=True)\n",
    "display(coef_df)"
   ]
  },
  {
   "cell_type": "markdown",
   "metadata": {},
   "source": [
    "# ЧИСЛЕННОЕ РЕШЕНИЕ \"РЕГРЕССИИ\" С ПОМОЩЬЮ SKLEARN (SGD - градиентный спуск)\n",
    "см ML2.ipynb"
   ]
  },
  {
   "cell_type": "code",
   "execution_count": null,
   "metadata": {},
   "outputs": [],
   "source": [
    "# Создаём объект класса линейной регрессии с SGD\n",
    "sgd_lr_full = linear_model.SGDRegressor(random_state=42)\n",
    "# У класса SGDRegressor, помимо random_state, есть ещё множество различных внешних параметров, \n",
    "# которые можно настраивать. Со всем списком вы можете ознакомиться в документации. \n",
    "# А мы приведём несколько самых важных:\n",
    "\n",
    "# loss — функция потерь. По умолчанию используется squared_loss — уже привычная нам MSE. \n",
    "# Но могут использоваться и несколько других. Например, значение \"huber\" определяет функцию потерь Хьюбера. \n",
    "# Эта функция менее чувствительна к наличию выбросов, чем MSE.\n",
    "\n",
    "# max_iter — максимальное количество итераций, выделенное на сходимость. Значение по умолчанию — 1000.\n",
    "\n",
    "# learning_rate — режим управления темпом обучения. Значение по умолчанию — 'invscaling'. \n",
    "# Этот режим уменьшает темп обучения по формуле, которую мы рассматривали ранее: etat=eta0/t^p.\n",
    "# Есть ещё несколько режимов управления, о которых вы можете прочитать в документации.\n",
    "# Если вы не хотите, чтобы темп обучения менялся на протяжении всего обучения, \n",
    "# то можете выставить значение параметра на \"constant\".\n",
    "\n",
    "# eta0 — начальное значение темпа обучения . Значение по умолчанию — 0.01.\n",
    "# Если параметр learning_rate=\"constant\", то значение этого параметра \n",
    "# будет темпом обучения на протяжении всех итераций.\n",
    "\n",
    "# power_t — значение мощности уменьшения  в формуле etat=eta0/t^p . Значение по умолчанию — 0.25.\n",
    "\n",
    "\n",
    "# Обучаем модель — ищем параметры по методу SGD\n",
    "sgd_lr_full.fit(X, y)\n",
    "\n",
    "# Выводим полученные параметры\n",
    "print('w0: {}'.format(sgd_lr_full.intercept_)) #свободный член w0\n",
    "print('w1: {}'.format(sgd_lr_full.coef_)) #остальные параметры модели w1, w2, ..., wm\n",
    "\n",
    "#Предсказываем медианную цену для всех участков из набора данных\n",
    "y_predict = sgd_lr_full.predict(X)\n",
    "\n",
    "# Выводим предсказание\n",
    "# Составляем таблицу из признаков и их коэффициентов\n",
    "w_df = pd.DataFrame({'Features': X.columns, 'Coefficients': lr_full.coef_})\n",
    "# Составляем строку таблицы со свободным членом\n",
    "intercept_df =pd.DataFrame({'Features': ['INTERCEPT'], 'Coefficients': lr_full.intercept_})\n",
    "coef_df = pd.concat([w_df, intercept_df], ignore_index=True)\n",
    "display(coef_df)"
   ]
  },
  {
   "cell_type": "markdown",
   "metadata": {},
   "source": [
    "# СМЕЩЕНИЕ (НЕДООБУЧЕНИЕ) И РАЗБРОС (ПЕРЕОБУЧЕНИЕ)\n",
    "см ML2.ipynb"
   ]
  },
  {
   "cell_type": "code",
   "execution_count": null,
   "metadata": {},
   "outputs": [],
   "source": []
  },
  {
   "cell_type": "code",
   "execution_count": null,
   "metadata": {},
   "outputs": [],
   "source": []
  },
  {
   "cell_type": "code",
   "execution_count": null,
   "metadata": {},
   "outputs": [],
   "source": []
  },
  {
   "cell_type": "code",
   "execution_count": null,
   "metadata": {},
   "outputs": [],
   "source": []
  },
  {
   "cell_type": "code",
   "execution_count": null,
   "metadata": {},
   "outputs": [],
   "source": []
  },
  {
   "cell_type": "code",
   "execution_count": null,
   "metadata": {},
   "outputs": [],
   "source": []
  },
  {
   "cell_type": "code",
   "execution_count": null,
   "metadata": {},
   "outputs": [],
   "source": []
  },
  {
   "cell_type": "code",
   "execution_count": null,
   "metadata": {},
   "outputs": [],
   "source": []
  },
  {
   "cell_type": "code",
   "execution_count": null,
   "metadata": {},
   "outputs": [],
   "source": []
  }
 ],
 "metadata": {
  "kernelspec": {
   "display_name": "Python 3.9.12 64-bit",
   "language": "python",
   "name": "python3"
  },
  "language_info": {
   "codemirror_mode": {
    "name": "ipython",
    "version": 3
   },
   "file_extension": ".py",
   "mimetype": "text/x-python",
   "name": "python",
   "nbconvert_exporter": "python",
   "pygments_lexer": "ipython3",
   "version": "3.9.12"
  },
  "orig_nbformat": 4,
  "vscode": {
   "interpreter": {
    "hash": "397704579725e15f5c7cb49fe5f0341eb7531c82d19f2c29d197e8b64ab5776b"
   }
  }
 },
 "nbformat": 4,
 "nbformat_minor": 2
}
