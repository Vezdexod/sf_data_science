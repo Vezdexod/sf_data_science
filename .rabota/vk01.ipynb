{
 "cells": [
  {
   "attachments": {},
   "cell_type": "markdown",
   "metadata": {},
   "source": [
    "# <center> Данный скрипт осуществляет выгрузку данных с комментариями и пользователями,  для их дальнейшего анализа"
   ]
  },
  {
   "cell_type": "code",
   "execution_count": 1,
   "metadata": {},
   "outputs": [],
   "source": [
    "# Для выгрузки данных с ВК\n",
    "import requests\n",
    "import json\n",
    "import os\n",
    "from auth_data import token # сервисный токен\n",
    "from auth_data import tokenbgd # личный токен\n",
    "\n",
    "# Для обработки полученных данных\n",
    "import pandas as pd\n",
    "import numpy as np"
   ]
  },
  {
   "attachments": {},
   "cell_type": "markdown",
   "metadata": {},
   "source": [
    "# <center> Получаем данные постов группы"
   ]
  },
  {
   "cell_type": "code",
   "execution_count": 116,
   "metadata": {},
   "outputs": [
    {
     "name": "stdout",
     "output_type": "stream",
     "text": [
      "Директория с именем atheism уже существует!\n",
      "Директория с именем varlamov уже существует!\n",
      "Директория с именем sandy_mustache_vk уже существует!\n",
      "Директория с именем rocknrofl уже существует!\n",
      "Директория с именем agnpage уже существует!\n",
      "Директория с именем pinklamborghini уже существует!\n",
      "Директория с именем irkdtp уже существует!\n",
      "id постов: {'atheism': [2797570, 2797520, 2797453, 2797383, 2796891, 2796777, 2796572, 2796375, 2796085, 2795927, 2795851, 2795799, 2795705, 2795657, 2795524, 2795466, 2795430, 2795162, 2794790, 2794407, 2794126, 2793803, 2793651, 2793616, 2793544, 2793477, 2793427, 2793321, 2793191, 2793003, 2792911, 2792632, 2792491, 2792311, 2792101, 2792039, 2791899, 2791772, 2791621, 2791384], 'varlamov': [2364754, 2365696, 2365605, 2365553, 2365377, 2365274, 2365218, 2365039, 2365022, 2365006, 2364855, 2364792, 2364788, 2364719, 2364654, 2364500, 2363995, 2363976, 2363946, 2363885, 2363863, 2363826, 2363778, 2363738, 2363697, 2363675, 2363660, 2363587, 2363537, 2363456, 2363396, 2363380, 2363330, 2363286, 2363268, 2363264, 2363208, 2363191, 2363147, 2363131], 'sandy_mustache_vk': [2498665, 2498421, 2497996, 2497416, 2497263, 2497088, 2495949, 2494374, 2493853, 2493589, 2493156, 2492724, 2491602, 2491040, 2490150, 2490052, 2489791, 2489306, 2488001, 2487749, 2487652, 2487493, 2486629, 2486220, 2485875, 2485349, 2484204, 2483999, 2483597, 2482711, 2482068, 2480324, 2479734, 2479638, 2479443, 2479306, 2479138, 2478621, 2476472, 2476175], 'rocknrofl': [86572, 89324, 89069, 88954, 88812, 88611, 88496, 88403, 88263, 88246, 88241, 88196, 88169, 88152, 88130, 88036, 88002, 87927, 87764, 87718, 87670, 87657, 87598, 87580, 87538, 87526, 87441, 87368, 87308, 87240, 87183, 87162, 87129, 87092, 86882, 86817, 86795, 86713, 86571, 86532], 'agnpage': [1303, 1328, 1327, 1249, 1248, 1247, 1246, 1244, 1242, 1241, 1240, 1238, 1237, 1236, 1234, 1233, 1231, 1230, 1229, 1228, 1227, 1226, 1224, 1223, 1213, 1212, 1211, 1210, 1209, 1205, 1203, 1202, 1201, 1200, 1199, 1197, 1196, 1195, 1194, 1193], 'pinklamborghini': [6239, 6256, 6253, 6241, 6240, 6232, 6230, 6216, 6213, 6212, 6209, 6204, 6203, 6195, 6194, 6185, 6181, 6170, 6163, 6155, 6154, 6151, 6145, 6143, 6135, 6128, 6125, 6124, 6117, 6112, 6107, 6098, 6097, 6096, 6089, 6084, 6082, 6081, 6079, 6077], 'irkdtp': [2951553, 2952657, 2952564, 2952541, 2952521, 2952461, 2952427, 2952426, 2952415, 2952413, 2952341, 2952321, 2952309, 2952305, 2952300, 2952281, 2952264, 2952261, 2952217, 2952206, 2952203, 2952200, 2952195, 2952160, 2952068, 2952009, 2951968, 2951898, 2951895, 2951857, 2951724, 2951717, 2951667, 2951656, 2951653, 2951649, 2951620, 2951617, 2951579, 2951575]}\n"
     ]
    }
   ],
   "source": [
    "# Запрашиваемые параметры\n",
    "group_name = [# Название группы взятое из ссылки\n",
    "    'atheism',\n",
    "    'varlamov',\n",
    "    'sandy_mustache_vk',\n",
    "    'rocknrofl',\n",
    "    'agnpage', \n",
    "    'pinklamborghini',\n",
    "    'irkdtp' \n",
    "]\n",
    "count_last_posts = 40 # Число последних постов\n",
    "\n",
    "# Создаем список с id номерами постов группы\n",
    "group_json = list()\n",
    "post_id_dict = dict()\n",
    "\n",
    "for j in range(len(group_name)):\n",
    "    # Производим запрос\n",
    "    url_group = f\"https://api.vk.com/method/wall.get?domain={group_name[j]}&count={count_last_posts}&access_token={token}&v=5.81\"\n",
    "    req = requests.get(url_group)\n",
    "    group_json.append(req.json())\n",
    "    post_id_list = list()\n",
    "    for i in range(len(group_json[j]['response']['items'])):\n",
    "        post_id_list.append(group_json[j]['response']['items'][i]['id'])\n",
    "        # Проверяем существует ли директория с именем группы\n",
    "    if os.path.exists(f\"groups/{group_name[j]}\"):\n",
    "        print(f\"Директория с именем {group_name[j]} уже существует!\")\n",
    "    else:\n",
    "        os.makedirs(f\"groups/{group_name[j]}\")\n",
    "        # сохраняем данные в json файл, чтобы видеть структуру\n",
    "    post_id_dict.update({group_name[j]:post_id_list})\n",
    "        \n",
    "    with open(f\"groups/{group_name[j]}/{group_name[j]}.json\", \"w\", encoding=\"utf-8\") as file:\n",
    "        json.dump(group_json, file, indent=4, ensure_ascii=False)\n",
    "\n",
    "print(\"id постов:\",post_id_dict)"
   ]
  },
  {
   "attachments": {},
   "cell_type": "markdown",
   "metadata": {},
   "source": [
    "# <center> Получение комментариев"
   ]
  },
  {
   "cell_type": "code",
   "execution_count": 117,
   "metadata": {},
   "outputs": [],
   "source": [
    "# Создаем списки с пользователями и текстом комментариев\n",
    "groups_id = list()\n",
    "text = list()\n",
    "post_id_json = list()\n",
    "\n",
    "for i in range(len(group_name)):\n",
    "    groups_id.append(group_json[i]['response']['items'][0]['from_id'])\n",
    "\n",
    "for m in range(len(groups_id)):\n",
    "    for j in range(len(post_id_dict[group_name[m]])):\n",
    "        # Производим запрос\n",
    "        url_posts = f\"https://api.vk.com/method/wall.getComments?owner_id={groups_id[m]}&post_id={post_id_dict[group_name[m]][j]}&count=100&access_token={token}&v=5.81\"\n",
    "        req = requests.get(url_posts)\n",
    "        post_id_json.append(req.json())\n",
    "        for i in range(len(post_id_json[j]['response']['items'])):\n",
    "            text.append([\n",
    "                groups_id[m],                                               # id группы\n",
    "                post_id_dict[group_name[m]][j],                                        # id поста\n",
    "                post_id_json[j]['response']['items'][i]['from_id'],     # id пользователя \n",
    "                post_id_json[j]['response']['items'][i]['text']],       # текст комментария            \n",
    "            )\n",
    "\n",
    "## Проверяем существует ли директория с именем группы\n",
    "#if os.path.exists(f\"groups/{group_name}/{groups_id}/{groups_id}_text\")==False:\n",
    "#    os.makedirs(f\"groups/{group_name}/{groups_id}/{groups_id}_text\")\n",
    "\n",
    "## Сохраняем данные в json файл, чтобы видеть структуру       \n",
    "#with open(f\"groups/{group_name}/{groups_id}/{groups_id}_text/{groups_id}_text.json\", \"w\", encoding=\"utf-8\") as file:\n",
    "#    json.dump(text, file, indent=4, ensure_ascii=False)\n"
   ]
  },
  {
   "attachments": {},
   "cell_type": "markdown",
   "metadata": {},
   "source": [
    "# <center> Создаем таблицу, куда будем вносить данные о комментариях и пользователях"
   ]
  },
  {
   "cell_type": "code",
   "execution_count": 133,
   "metadata": {},
   "outputs": [],
   "source": [
    "users_data = pd.DataFrame(\n",
    "    data = text,\n",
    "    columns= ['id_группы', 'id_поста', 'id_пользователя', 'Комментарий']\n",
    ")"
   ]
  },
  {
   "cell_type": "code",
   "execution_count": 134,
   "metadata": {},
   "outputs": [
    {
     "data": {
      "text/html": [
       "<div>\n",
       "<style scoped>\n",
       "    .dataframe tbody tr th:only-of-type {\n",
       "        vertical-align: middle;\n",
       "    }\n",
       "\n",
       "    .dataframe tbody tr th {\n",
       "        vertical-align: top;\n",
       "    }\n",
       "\n",
       "    .dataframe thead th {\n",
       "        text-align: right;\n",
       "    }\n",
       "</style>\n",
       "<table border=\"1\" class=\"dataframe\">\n",
       "  <thead>\n",
       "    <tr style=\"text-align: right;\">\n",
       "      <th></th>\n",
       "      <th>id_группы</th>\n",
       "      <th>id_поста</th>\n",
       "      <th>id_пользователя</th>\n",
       "      <th>Комментарий</th>\n",
       "    </tr>\n",
       "  </thead>\n",
       "  <tbody>\n",
       "    <tr>\n",
       "      <th>0</th>\n",
       "      <td>-63683472</td>\n",
       "      <td>2797570</td>\n",
       "      <td>4819218</td>\n",
       "      <td>Галкин против власти, но не против баблишка</td>\n",
       "    </tr>\n",
       "    <tr>\n",
       "      <th>1</th>\n",
       "      <td>-63683472</td>\n",
       "      <td>2797570</td>\n",
       "      <td>583369270</td>\n",
       "      <td></td>\n",
       "    </tr>\n",
       "    <tr>\n",
       "      <th>2</th>\n",
       "      <td>-63683472</td>\n",
       "      <td>2797570</td>\n",
       "      <td>6348835</td>\n",
       "      <td>хотел подьебать власть,а подьебал себя</td>\n",
       "    </tr>\n",
       "    <tr>\n",
       "      <th>3</th>\n",
       "      <td>-63683472</td>\n",
       "      <td>2797570</td>\n",
       "      <td>178652403</td>\n",
       "      <td>Первый раз с ним согласен</td>\n",
       "    </tr>\n",
       "    <tr>\n",
       "      <th>4</th>\n",
       "      <td>-63683472</td>\n",
       "      <td>2797570</td>\n",
       "      <td>182375107</td>\n",
       "      <td>[id4819218|Виталий], ну это как наши чиновники...</td>\n",
       "    </tr>\n",
       "  </tbody>\n",
       "</table>\n",
       "</div>"
      ],
      "text/plain": [
       "   id_группы  id_поста  id_пользователя  \\\n",
       "0  -63683472   2797570          4819218   \n",
       "1  -63683472   2797570        583369270   \n",
       "2  -63683472   2797570          6348835   \n",
       "3  -63683472   2797570        178652403   \n",
       "4  -63683472   2797570        182375107   \n",
       "\n",
       "                                         Комментарий  \n",
       "0        Галкин против власти, но не против баблишка  \n",
       "1                                                     \n",
       "2             хотел подьебать власть,а подьебал себя  \n",
       "3                          Первый раз с ним согласен  \n",
       "4  [id4819218|Виталий], ну это как наши чиновники...  "
      ]
     },
     "execution_count": 134,
     "metadata": {},
     "output_type": "execute_result"
    }
   ],
   "source": [
    "users_data.head()"
   ]
  },
  {
   "cell_type": "code",
   "execution_count": 135,
   "metadata": {},
   "outputs": [
    {
     "name": "stdout",
     "output_type": "stream",
     "text": [
      "Получены данные о 21406 комментариях!\n"
     ]
    }
   ],
   "source": [
    "print(f\"Получены данные о {users_data.shape[0]} комментариях!\")"
   ]
  },
  {
   "cell_type": "code",
   "execution_count": 136,
   "metadata": {},
   "outputs": [
    {
     "name": "stdout",
     "output_type": "stream",
     "text": [
      "<class 'pandas.core.frame.DataFrame'>\n",
      "RangeIndex: 21406 entries, 0 to 21405\n",
      "Data columns (total 4 columns):\n",
      " #   Column           Non-Null Count  Dtype \n",
      "---  ------           --------------  ----- \n",
      " 0   id_группы        21406 non-null  int64 \n",
      " 1   id_поста         21406 non-null  int64 \n",
      " 2   id_пользователя  21406 non-null  int64 \n",
      " 3   Комментарий      21406 non-null  object\n",
      "dtypes: int64(3), object(1)\n",
      "memory usage: 669.1+ KB\n"
     ]
    }
   ],
   "source": [
    "users_data.info()"
   ]
  },
  {
   "attachments": {},
   "cell_type": "markdown",
   "metadata": {},
   "source": [
    "# <center> Добавление данных об имени, фамилии, дате рождения, закрытости и городе пользователя"
   ]
  },
  {
   "cell_type": "code",
   "execution_count": 137,
   "metadata": {},
   "outputs": [],
   "source": [
    "# Напишем функцию, возвращающую имя пользователя\n",
    "def user_info(user_id, token=token): \n",
    "    # Производим запрос\n",
    "    url_posts = f\"https://api.vk.com/method/users.get?user_ids={user_id}&fields=city,bdate,is_closed&access_token={token}&v=5.81\"\n",
    "    req = requests.get(url_posts)\n",
    "    users_info_json = req.json()    \n",
    "\n",
    "    try:\n",
    "        first_name  = users_info_json['response'][0]['first_name']\n",
    "        last_name   = users_info_json['response'][0]['last_name']\n",
    "        try:\n",
    "            birthday    = users_info_json['response'][0]['bdate']\n",
    "        except KeyError:\n",
    "            birthday = 0\n",
    "        try:\n",
    "            zakritost   = users_info_json['response'][0]['is_closed']\n",
    "        except KeyError:\n",
    "            zakritost = 0\n",
    "        try:\n",
    "            city        = users_info_json['response'][0]['city']['title']         \n",
    "        except KeyError:\n",
    "            city = 0  \n",
    "    #except UnboundLocalError:\n",
    "    #    return [first_name, last_name, '', city]\n",
    "    except IndexError:\n",
    "        return 0, 0, 0, 0, 0\n",
    "\n",
    "    return [first_name, last_name, birthday, zakritost, city]"
   ]
  },
  {
   "cell_type": "code",
   "execution_count": 138,
   "metadata": {},
   "outputs": [
    {
     "data": {
      "text/html": [
       "<div>\n",
       "<style scoped>\n",
       "    .dataframe tbody tr th:only-of-type {\n",
       "        vertical-align: middle;\n",
       "    }\n",
       "\n",
       "    .dataframe tbody tr th {\n",
       "        vertical-align: top;\n",
       "    }\n",
       "\n",
       "    .dataframe thead th {\n",
       "        text-align: right;\n",
       "    }\n",
       "</style>\n",
       "<table border=\"1\" class=\"dataframe\">\n",
       "  <thead>\n",
       "    <tr style=\"text-align: right;\">\n",
       "      <th></th>\n",
       "      <th>id_пользователя</th>\n",
       "      <th>Имя</th>\n",
       "      <th>Фамилия</th>\n",
       "      <th>Дата_рождения</th>\n",
       "      <th>Закрытость профиля</th>\n",
       "      <th>Город</th>\n",
       "    </tr>\n",
       "  </thead>\n",
       "  <tbody>\n",
       "    <tr>\n",
       "      <th>0</th>\n",
       "      <td>4819218</td>\n",
       "      <td>Vitaly</td>\n",
       "      <td>Vasilchenko</td>\n",
       "      <td>13.1</td>\n",
       "      <td>0</td>\n",
       "      <td>Rostov-on-Don</td>\n",
       "    </tr>\n",
       "    <tr>\n",
       "      <th>1</th>\n",
       "      <td>583369270</td>\n",
       "      <td>Martin</td>\n",
       "      <td>Ulrikh</td>\n",
       "      <td>0</td>\n",
       "      <td>0</td>\n",
       "      <td>0</td>\n",
       "    </tr>\n",
       "  </tbody>\n",
       "</table>\n",
       "</div>"
      ],
      "text/plain": [
       "   id_пользователя     Имя      Фамилия Дата_рождения Закрытость профиля  \\\n",
       "0          4819218  Vitaly  Vasilchenko          13.1                  0   \n",
       "1        583369270  Martin       Ulrikh             0                  0   \n",
       "\n",
       "           Город  \n",
       "0  Rostov-on-Don  \n",
       "1              0  "
      ]
     },
     "execution_count": 138,
     "metadata": {},
     "output_type": "execute_result"
    }
   ],
   "source": [
    "user_info_df = pd.DataFrame()\n",
    "user_info_df['id_пользователя'] = users_data['id_пользователя'].unique()\n",
    "user_info_df['Инфо'] = user_info_df['id_пользователя'].apply(user_info)\n",
    "\n",
    "user_info_df['Имя'] = user_info_df['Инфо'].apply(lambda x: x[0])\n",
    "user_info_df['Фамилия'] = user_info_df['Инфо'].apply(lambda x: x[1])\n",
    "user_info_df['Дата_рождения'] = user_info_df['Инфо'].apply(lambda x: x[2])\n",
    "user_info_df['Закрытость профиля'] = user_info_df['Инфо'].apply(lambda x: x[3])\n",
    "user_info_df['Город'] = user_info_df['Инфо'].apply(lambda x: x[4])\n",
    "\n",
    "user_info_df = user_info_df.drop(['Инфо'], axis=1) \n",
    "\n",
    "user_info_df.head(2)"
   ]
  },
  {
   "attachments": {},
   "cell_type": "markdown",
   "metadata": {},
   "source": [
    "#### <center> Берем данные о пользователях из \"**user_info_df**\" и дополняем ими таблицу с данными о комментариях \"**users_data**\"."
   ]
  },
  {
   "cell_type": "code",
   "execution_count": 139,
   "metadata": {},
   "outputs": [
    {
     "name": "stdout",
     "output_type": "stream",
     "text": [
      "Получены данные о 830 пользователях!\n"
     ]
    }
   ],
   "source": [
    "print(f\"Получены данные о {user_info_df.shape[0]} пользователях!\")"
   ]
  },
  {
   "cell_type": "code",
   "execution_count": 140,
   "metadata": {},
   "outputs": [
    {
     "data": {
      "text/html": [
       "<div>\n",
       "<style scoped>\n",
       "    .dataframe tbody tr th:only-of-type {\n",
       "        vertical-align: middle;\n",
       "    }\n",
       "\n",
       "    .dataframe tbody tr th {\n",
       "        vertical-align: top;\n",
       "    }\n",
       "\n",
       "    .dataframe thead th {\n",
       "        text-align: right;\n",
       "    }\n",
       "</style>\n",
       "<table border=\"1\" class=\"dataframe\">\n",
       "  <thead>\n",
       "    <tr style=\"text-align: right;\">\n",
       "      <th></th>\n",
       "      <th>id_группы</th>\n",
       "      <th>id_поста</th>\n",
       "      <th>id_пользователя</th>\n",
       "      <th>Комментарий</th>\n",
       "      <th>Имя</th>\n",
       "      <th>Фамилия</th>\n",
       "      <th>Дата_рождения</th>\n",
       "      <th>Закрытость профиля</th>\n",
       "      <th>Город</th>\n",
       "    </tr>\n",
       "  </thead>\n",
       "  <tbody>\n",
       "    <tr>\n",
       "      <th>0</th>\n",
       "      <td>-63683472</td>\n",
       "      <td>2797570</td>\n",
       "      <td>4819218</td>\n",
       "      <td>Галкин против власти, но не против баблишка</td>\n",
       "      <td>Vitaly</td>\n",
       "      <td>Vasilchenko</td>\n",
       "      <td>13.1</td>\n",
       "      <td>0</td>\n",
       "      <td>Rostov-on-Don</td>\n",
       "    </tr>\n",
       "    <tr>\n",
       "      <th>1</th>\n",
       "      <td>-63683472</td>\n",
       "      <td>2797570</td>\n",
       "      <td>583369270</td>\n",
       "      <td></td>\n",
       "      <td>Martin</td>\n",
       "      <td>Ulrikh</td>\n",
       "      <td>0</td>\n",
       "      <td>0</td>\n",
       "      <td>0</td>\n",
       "    </tr>\n",
       "    <tr>\n",
       "      <th>2</th>\n",
       "      <td>-63683472</td>\n",
       "      <td>2797570</td>\n",
       "      <td>6348835</td>\n",
       "      <td>хотел подьебать власть,а подьебал себя</td>\n",
       "      <td>Roma</td>\n",
       "      <td>Cherny</td>\n",
       "      <td>1.6</td>\n",
       "      <td>0</td>\n",
       "      <td>0</td>\n",
       "    </tr>\n",
       "  </tbody>\n",
       "</table>\n",
       "</div>"
      ],
      "text/plain": [
       "   id_группы  id_поста  id_пользователя  \\\n",
       "0  -63683472   2797570          4819218   \n",
       "1  -63683472   2797570        583369270   \n",
       "2  -63683472   2797570          6348835   \n",
       "\n",
       "                                   Комментарий     Имя      Фамилия  \\\n",
       "0  Галкин против власти, но не против баблишка  Vitaly  Vasilchenko   \n",
       "1                                               Martin       Ulrikh   \n",
       "2       хотел подьебать власть,а подьебал себя    Roma       Cherny   \n",
       "\n",
       "  Дата_рождения Закрытость профиля          Город  \n",
       "0          13.1                  0  Rostov-on-Don  \n",
       "1             0                  0              0  \n",
       "2           1.6                  0              0  "
      ]
     },
     "execution_count": 140,
     "metadata": {},
     "output_type": "execute_result"
    }
   ],
   "source": [
    "users_data = users_data.merge(\n",
    "    user_info_df,\n",
    "    on='id_пользователя',\n",
    "    how='left'\n",
    ")\n",
    "users_data.head(3)"
   ]
  },
  {
   "cell_type": "code",
   "execution_count": null,
   "metadata": {},
   "outputs": [],
   "source": [
    "https://vk.com/irkdtp?w=wall-37432351_2951579"
   ]
  },
  {
   "cell_type": "code",
   "execution_count": 154,
   "metadata": {},
   "outputs": [
    {
     "data": {
      "text/plain": [
       "['atheism',\n",
       " 'varlamov',\n",
       " 'sandy_mustache_vk',\n",
       " 'rocknrofl',\n",
       " 'agnpage',\n",
       " 'pinklamborghini',\n",
       " 'irkdtp']"
      ]
     },
     "execution_count": 154,
     "metadata": {},
     "output_type": "execute_result"
    }
   ],
   "source": [
    "group_name"
   ]
  },
  {
   "cell_type": "code",
   "execution_count": 155,
   "metadata": {},
   "outputs": [
    {
     "data": {
      "text/plain": [
       "[-63683472, -24946565, -76677520, -169538908, -93574769, -182169856, -37432351]"
      ]
     },
     "execution_count": 155,
     "metadata": {},
     "output_type": "execute_result"
    }
   ],
   "source": [
    "groups_id"
   ]
  },
  {
   "cell_type": "code",
   "execution_count": 151,
   "metadata": {},
   "outputs": [
    {
     "name": "stderr",
     "output_type": "stream",
     "text": [
      "c:\\Users\\mish9\\.conda\\envs\\sf\\lib\\site-packages\\pandas\\core\\indexing.py:1732: SettingWithCopyWarning: \n",
      "A value is trying to be set on a copy of a slice from a DataFrame\n",
      "\n",
      "See the caveats in the documentation: https://pandas.pydata.org/pandas-docs/stable/user_guide/indexing.html#returning-a-view-versus-a-copy\n",
      "  self._setitem_single_block(indexer, value, name)\n"
     ]
    }
   ],
   "source": [
    "# Генерируем ссылку на пост с комментариями\n",
    "def url_to_post(id_group, id_post):\n",
    "    return f\"https://vk.com/{id_group}?w=wall{id_group}_{id_post}\"\n",
    "\n",
    "users_data['Ссылка_на_пост'] = 0\n",
    "for i in range(users_data.shape[0]):\n",
    "    id_group = users_data['id_группы'].iloc[i]\n",
    "    id_post = users_data['id_поста'].iloc[i]\n",
    "    users_data['Ссылка_на_пост'].iloc[i] = url_to_post(id_group, id_post)"
   ]
  },
  {
   "cell_type": "code",
   "execution_count": 142,
   "metadata": {},
   "outputs": [],
   "source": [
    "# Генерируем ссылку на аккаунт пользователя\n",
    "def url_to_user(id_user):\n",
    "    return f\"https://vk.com/id{id_user}\"\n",
    "\n",
    "users_data['Ссылка_на_пользователя'] = users_data['id_пользователя'].apply(url_to_user)"
   ]
  },
  {
   "cell_type": "code",
   "execution_count": 152,
   "metadata": {},
   "outputs": [
    {
     "data": {
      "text/html": [
       "<div>\n",
       "<style scoped>\n",
       "    .dataframe tbody tr th:only-of-type {\n",
       "        vertical-align: middle;\n",
       "    }\n",
       "\n",
       "    .dataframe tbody tr th {\n",
       "        vertical-align: top;\n",
       "    }\n",
       "\n",
       "    .dataframe thead th {\n",
       "        text-align: right;\n",
       "    }\n",
       "</style>\n",
       "<table border=\"1\" class=\"dataframe\">\n",
       "  <thead>\n",
       "    <tr style=\"text-align: right;\">\n",
       "      <th></th>\n",
       "      <th>id_группы</th>\n",
       "      <th>id_поста</th>\n",
       "      <th>id_пользователя</th>\n",
       "      <th>Комментарий</th>\n",
       "      <th>Имя</th>\n",
       "      <th>Фамилия</th>\n",
       "      <th>Дата_рождения</th>\n",
       "      <th>Закрытость профиля</th>\n",
       "      <th>Город</th>\n",
       "      <th>Ссылка_на_пост</th>\n",
       "      <th>Ссылка_на_пользователя</th>\n",
       "    </tr>\n",
       "  </thead>\n",
       "  <tbody>\n",
       "    <tr>\n",
       "      <th>0</th>\n",
       "      <td>-63683472</td>\n",
       "      <td>2797570</td>\n",
       "      <td>4819218</td>\n",
       "      <td>Галкин против власти, но не против баблишка</td>\n",
       "      <td>Vitaly</td>\n",
       "      <td>Vasilchenko</td>\n",
       "      <td>13.1</td>\n",
       "      <td>0</td>\n",
       "      <td>Rostov-on-Don</td>\n",
       "      <td>https://vk.com/-63683472?w=wall-63683472_2797570</td>\n",
       "      <td>https://vk.com/id4819218</td>\n",
       "    </tr>\n",
       "    <tr>\n",
       "      <th>1</th>\n",
       "      <td>-63683472</td>\n",
       "      <td>2797570</td>\n",
       "      <td>583369270</td>\n",
       "      <td></td>\n",
       "      <td>Martin</td>\n",
       "      <td>Ulrikh</td>\n",
       "      <td>0</td>\n",
       "      <td>0</td>\n",
       "      <td>0</td>\n",
       "      <td>https://vk.com/-63683472?w=wall-63683472_2797570</td>\n",
       "      <td>https://vk.com/id583369270</td>\n",
       "    </tr>\n",
       "    <tr>\n",
       "      <th>2</th>\n",
       "      <td>-63683472</td>\n",
       "      <td>2797570</td>\n",
       "      <td>6348835</td>\n",
       "      <td>хотел подьебать власть,а подьебал себя</td>\n",
       "      <td>Roma</td>\n",
       "      <td>Cherny</td>\n",
       "      <td>1.6</td>\n",
       "      <td>0</td>\n",
       "      <td>0</td>\n",
       "      <td>https://vk.com/-63683472?w=wall-63683472_2797570</td>\n",
       "      <td>https://vk.com/id6348835</td>\n",
       "    </tr>\n",
       "    <tr>\n",
       "      <th>3</th>\n",
       "      <td>-63683472</td>\n",
       "      <td>2797570</td>\n",
       "      <td>178652403</td>\n",
       "      <td>Первый раз с ним согласен</td>\n",
       "      <td>Kirill</td>\n",
       "      <td>Ermolov</td>\n",
       "      <td>4.5.1984</td>\n",
       "      <td>0</td>\n",
       "      <td>Balashikha</td>\n",
       "      <td>https://vk.com/-63683472?w=wall-63683472_2797570</td>\n",
       "      <td>https://vk.com/id178652403</td>\n",
       "    </tr>\n",
       "    <tr>\n",
       "      <th>4</th>\n",
       "      <td>-63683472</td>\n",
       "      <td>2797570</td>\n",
       "      <td>182375107</td>\n",
       "      <td>[id4819218|Виталий], ну это как наши чиновники...</td>\n",
       "      <td>Kirochka</td>\n",
       "      <td>Dmitrieva</td>\n",
       "      <td>22.9</td>\n",
       "      <td>0</td>\n",
       "      <td>Chelyabinsk</td>\n",
       "      <td>https://vk.com/-63683472?w=wall-63683472_2797570</td>\n",
       "      <td>https://vk.com/id182375107</td>\n",
       "    </tr>\n",
       "  </tbody>\n",
       "</table>\n",
       "</div>"
      ],
      "text/plain": [
       "   id_группы  id_поста  id_пользователя  \\\n",
       "0  -63683472   2797570          4819218   \n",
       "1  -63683472   2797570        583369270   \n",
       "2  -63683472   2797570          6348835   \n",
       "3  -63683472   2797570        178652403   \n",
       "4  -63683472   2797570        182375107   \n",
       "\n",
       "                                         Комментарий       Имя      Фамилия  \\\n",
       "0        Галкин против власти, но не против баблишка    Vitaly  Vasilchenko   \n",
       "1                                                       Martin       Ulrikh   \n",
       "2             хотел подьебать власть,а подьебал себя      Roma       Cherny   \n",
       "3                          Первый раз с ним согласен    Kirill      Ermolov   \n",
       "4  [id4819218|Виталий], ну это как наши чиновники...  Kirochka    Dmitrieva   \n",
       "\n",
       "  Дата_рождения Закрытость профиля          Город  \\\n",
       "0          13.1                  0  Rostov-on-Don   \n",
       "1             0                  0              0   \n",
       "2           1.6                  0              0   \n",
       "3      4.5.1984                  0     Balashikha   \n",
       "4          22.9                  0    Chelyabinsk   \n",
       "\n",
       "                                     Ссылка_на_пост  \\\n",
       "0  https://vk.com/-63683472?w=wall-63683472_2797570   \n",
       "1  https://vk.com/-63683472?w=wall-63683472_2797570   \n",
       "2  https://vk.com/-63683472?w=wall-63683472_2797570   \n",
       "3  https://vk.com/-63683472?w=wall-63683472_2797570   \n",
       "4  https://vk.com/-63683472?w=wall-63683472_2797570   \n",
       "\n",
       "       Ссылка_на_пользователя  \n",
       "0    https://vk.com/id4819218  \n",
       "1  https://vk.com/id583369270  \n",
       "2    https://vk.com/id6348835  \n",
       "3  https://vk.com/id178652403  \n",
       "4  https://vk.com/id182375107  "
      ]
     },
     "execution_count": 152,
     "metadata": {},
     "output_type": "execute_result"
    }
   ],
   "source": [
    "users_data.head()"
   ]
  },
  {
   "attachments": {},
   "cell_type": "markdown",
   "metadata": {},
   "source": [
    "# <center> Отфильтровываем данные по пользователям из Иркутской области"
   ]
  },
  {
   "cell_type": "code",
   "execution_count": 145,
   "metadata": {},
   "outputs": [
    {
     "name": "stderr",
     "output_type": "stream",
     "text": [
      "C:\\Users\\mish9\\AppData\\Local\\Temp/ipykernel_14384/1471147315.py:1: DtypeWarning: Columns (9,10,11) have mixed types.Specify dtype option on import or set low_memory=False.\n",
      "  from goroda import Irk_obl_list\n"
     ]
    }
   ],
   "source": [
    "from goroda import Irk_obl_list"
   ]
  },
  {
   "cell_type": "code",
   "execution_count": 153,
   "metadata": {},
   "outputs": [
    {
     "data": {
      "text/html": [
       "<div>\n",
       "<style scoped>\n",
       "    .dataframe tbody tr th:only-of-type {\n",
       "        vertical-align: middle;\n",
       "    }\n",
       "\n",
       "    .dataframe tbody tr th {\n",
       "        vertical-align: top;\n",
       "    }\n",
       "\n",
       "    .dataframe thead th {\n",
       "        text-align: right;\n",
       "    }\n",
       "</style>\n",
       "<table border=\"1\" class=\"dataframe\">\n",
       "  <thead>\n",
       "    <tr style=\"text-align: right;\">\n",
       "      <th></th>\n",
       "      <th>id_группы</th>\n",
       "      <th>id_поста</th>\n",
       "      <th>id_пользователя</th>\n",
       "      <th>Комментарий</th>\n",
       "      <th>Имя</th>\n",
       "      <th>Фамилия</th>\n",
       "      <th>Дата_рождения</th>\n",
       "      <th>Закрытость профиля</th>\n",
       "      <th>Город</th>\n",
       "      <th>Ссылка_на_пост</th>\n",
       "      <th>Ссылка_на_пользователя</th>\n",
       "    </tr>\n",
       "  </thead>\n",
       "  <tbody>\n",
       "    <tr>\n",
       "      <th>108</th>\n",
       "      <td>-63683472</td>\n",
       "      <td>2797520</td>\n",
       "      <td>69546585</td>\n",
       "      <td>🤣</td>\n",
       "      <td>Kristina</td>\n",
       "      <td>Kopytova</td>\n",
       "      <td>2.8</td>\n",
       "      <td>0</td>\n",
       "      <td>Rybinsk</td>\n",
       "      <td>https://vk.com/-63683472?w=wall-63683472_2797520</td>\n",
       "      <td>https://vk.com/id69546585</td>\n",
       "    </tr>\n",
       "    <tr>\n",
       "      <th>222</th>\n",
       "      <td>-63683472</td>\n",
       "      <td>2796891</td>\n",
       "      <td>29533610</td>\n",
       "      <td>[id40370025|Александр], кто про что а кремлебо...</td>\n",
       "      <td>Alexander</td>\n",
       "      <td>Bolshunov</td>\n",
       "      <td>25.2</td>\n",
       "      <td>0</td>\n",
       "      <td>Kirov</td>\n",
       "      <td>https://vk.com/-63683472?w=wall-63683472_2796891</td>\n",
       "      <td>https://vk.com/id29533610</td>\n",
       "    </tr>\n",
       "    <tr>\n",
       "      <th>269</th>\n",
       "      <td>-63683472</td>\n",
       "      <td>2796891</td>\n",
       "      <td>305433238</td>\n",
       "      <td>[id231159725|Ольга], а может лучше пускай никт...</td>\n",
       "      <td>Rewverz</td>\n",
       "      <td>Rewverz</td>\n",
       "      <td>13.7.1988</td>\n",
       "      <td>0</td>\n",
       "      <td>Samara</td>\n",
       "      <td>https://vk.com/-63683472?w=wall-63683472_2796891</td>\n",
       "      <td>https://vk.com/id305433238</td>\n",
       "    </tr>\n",
       "    <tr>\n",
       "      <th>277</th>\n",
       "      <td>-63683472</td>\n",
       "      <td>2796891</td>\n",
       "      <td>305433238</td>\n",
       "      <td>[id231159725|Ольга], 2022 Российское вторжение...</td>\n",
       "      <td>Rewverz</td>\n",
       "      <td>Rewverz</td>\n",
       "      <td>13.7.1988</td>\n",
       "      <td>0</td>\n",
       "      <td>Samara</td>\n",
       "      <td>https://vk.com/-63683472?w=wall-63683472_2796891</td>\n",
       "      <td>https://vk.com/id305433238</td>\n",
       "    </tr>\n",
       "    <tr>\n",
       "      <th>290</th>\n",
       "      <td>-63683472</td>\n",
       "      <td>2796891</td>\n",
       "      <td>305433238</td>\n",
       "      <td>[id231159725|Ольга], а если бы Германия первой...</td>\n",
       "      <td>Rewverz</td>\n",
       "      <td>Rewverz</td>\n",
       "      <td>13.7.1988</td>\n",
       "      <td>0</td>\n",
       "      <td>Samara</td>\n",
       "      <td>https://vk.com/-63683472?w=wall-63683472_2796891</td>\n",
       "      <td>https://vk.com/id305433238</td>\n",
       "    </tr>\n",
       "    <tr>\n",
       "      <th>...</th>\n",
       "      <td>...</td>\n",
       "      <td>...</td>\n",
       "      <td>...</td>\n",
       "      <td>...</td>\n",
       "      <td>...</td>\n",
       "      <td>...</td>\n",
       "      <td>...</td>\n",
       "      <td>...</td>\n",
       "      <td>...</td>\n",
       "      <td>...</td>\n",
       "      <td>...</td>\n",
       "    </tr>\n",
       "    <tr>\n",
       "      <th>20286</th>\n",
       "      <td>-37432351</td>\n",
       "      <td>2952160</td>\n",
       "      <td>57574596</td>\n",
       "      <td>[id426871262|Омич], вранье</td>\n",
       "      <td>Onatoly</td>\n",
       "      <td>Zotov</td>\n",
       "      <td>28.4</td>\n",
       "      <td>0</td>\n",
       "      <td>Samara</td>\n",
       "      <td>https://vk.com/-37432351?w=wall-37432351_2952160</td>\n",
       "      <td>https://vk.com/id57574596</td>\n",
       "    </tr>\n",
       "    <tr>\n",
       "      <th>20414</th>\n",
       "      <td>-37432351</td>\n",
       "      <td>2951968</td>\n",
       "      <td>266884711</td>\n",
       "      <td>[id322498964|Sergey], российский народ намного...</td>\n",
       "      <td>Pavel</td>\n",
       "      <td>Khadanov</td>\n",
       "      <td>3.1.1986</td>\n",
       "      <td>0</td>\n",
       "      <td>Ulan-Ude</td>\n",
       "      <td>https://vk.com/-37432351?w=wall-37432351_2951968</td>\n",
       "      <td>https://vk.com/id266884711</td>\n",
       "    </tr>\n",
       "    <tr>\n",
       "      <th>21113</th>\n",
       "      <td>-37432351</td>\n",
       "      <td>2951617</td>\n",
       "      <td>757271800</td>\n",
       "      <td>Это он замеряет диаметр очка ,в которое летит ...</td>\n",
       "      <td>German</td>\n",
       "      <td>Ivanov</td>\n",
       "      <td>8.9.1985</td>\n",
       "      <td>0</td>\n",
       "      <td>Samara</td>\n",
       "      <td>https://vk.com/-37432351?w=wall-37432351_2951617</td>\n",
       "      <td>https://vk.com/id757271800</td>\n",
       "    </tr>\n",
       "    <tr>\n",
       "      <th>21208</th>\n",
       "      <td>-37432351</td>\n",
       "      <td>2951579</td>\n",
       "      <td>87736548</td>\n",
       "      <td>Военная авантюра нашего фюрера путина и его др...</td>\n",
       "      <td>Eduard</td>\n",
       "      <td>Trubacheev</td>\n",
       "      <td>0</td>\n",
       "      <td>0</td>\n",
       "      <td>Ulan-Ude</td>\n",
       "      <td>https://vk.com/-37432351?w=wall-37432351_2951579</td>\n",
       "      <td>https://vk.com/id87736548</td>\n",
       "    </tr>\n",
       "    <tr>\n",
       "      <th>21323</th>\n",
       "      <td>-37432351</td>\n",
       "      <td>2951575</td>\n",
       "      <td>32091813</td>\n",
       "      <td>Хорошая инициатива</td>\n",
       "      <td>Anton</td>\n",
       "      <td>Zavolzhsky</td>\n",
       "      <td>26.5.1995</td>\n",
       "      <td>0</td>\n",
       "      <td>Ulan-Ude</td>\n",
       "      <td>https://vk.com/-37432351?w=wall-37432351_2951575</td>\n",
       "      <td>https://vk.com/id32091813</td>\n",
       "    </tr>\n",
       "  </tbody>\n",
       "</table>\n",
       "<p>301 rows × 11 columns</p>\n",
       "</div>"
      ],
      "text/plain": [
       "       id_группы  id_поста  id_пользователя  \\\n",
       "108    -63683472   2797520         69546585   \n",
       "222    -63683472   2796891         29533610   \n",
       "269    -63683472   2796891        305433238   \n",
       "277    -63683472   2796891        305433238   \n",
       "290    -63683472   2796891        305433238   \n",
       "...          ...       ...              ...   \n",
       "20286  -37432351   2952160         57574596   \n",
       "20414  -37432351   2951968        266884711   \n",
       "21113  -37432351   2951617        757271800   \n",
       "21208  -37432351   2951579         87736548   \n",
       "21323  -37432351   2951575         32091813   \n",
       "\n",
       "                                             Комментарий        Имя  \\\n",
       "108                                                    🤣   Kristina   \n",
       "222    [id40370025|Александр], кто про что а кремлебо...  Alexander   \n",
       "269    [id231159725|Ольга], а может лучше пускай никт...    Rewverz   \n",
       "277    [id231159725|Ольга], 2022 Российское вторжение...    Rewverz   \n",
       "290    [id231159725|Ольга], а если бы Германия первой...    Rewverz   \n",
       "...                                                  ...        ...   \n",
       "20286                         [id426871262|Омич], вранье    Onatoly   \n",
       "20414  [id322498964|Sergey], российский народ намного...      Pavel   \n",
       "21113  Это он замеряет диаметр очка ,в которое летит ...     German   \n",
       "21208  Военная авантюра нашего фюрера путина и его др...     Eduard   \n",
       "21323                                 Хорошая инициатива      Anton   \n",
       "\n",
       "          Фамилия Дата_рождения Закрытость профиля     Город  \\\n",
       "108      Kopytova           2.8                  0   Rybinsk   \n",
       "222     Bolshunov          25.2                  0     Kirov   \n",
       "269       Rewverz     13.7.1988                  0    Samara   \n",
       "277       Rewverz     13.7.1988                  0    Samara   \n",
       "290       Rewverz     13.7.1988                  0    Samara   \n",
       "...           ...           ...                ...       ...   \n",
       "20286       Zotov          28.4                  0    Samara   \n",
       "20414    Khadanov      3.1.1986                  0  Ulan-Ude   \n",
       "21113      Ivanov      8.9.1985                  0    Samara   \n",
       "21208  Trubacheev             0                  0  Ulan-Ude   \n",
       "21323  Zavolzhsky     26.5.1995                  0  Ulan-Ude   \n",
       "\n",
       "                                         Ссылка_на_пост  \\\n",
       "108    https://vk.com/-63683472?w=wall-63683472_2797520   \n",
       "222    https://vk.com/-63683472?w=wall-63683472_2796891   \n",
       "269    https://vk.com/-63683472?w=wall-63683472_2796891   \n",
       "277    https://vk.com/-63683472?w=wall-63683472_2796891   \n",
       "290    https://vk.com/-63683472?w=wall-63683472_2796891   \n",
       "...                                                 ...   \n",
       "20286  https://vk.com/-37432351?w=wall-37432351_2952160   \n",
       "20414  https://vk.com/-37432351?w=wall-37432351_2951968   \n",
       "21113  https://vk.com/-37432351?w=wall-37432351_2951617   \n",
       "21208  https://vk.com/-37432351?w=wall-37432351_2951579   \n",
       "21323  https://vk.com/-37432351?w=wall-37432351_2951575   \n",
       "\n",
       "           Ссылка_на_пользователя  \n",
       "108     https://vk.com/id69546585  \n",
       "222     https://vk.com/id29533610  \n",
       "269    https://vk.com/id305433238  \n",
       "277    https://vk.com/id305433238  \n",
       "290    https://vk.com/id305433238  \n",
       "...                           ...  \n",
       "20286   https://vk.com/id57574596  \n",
       "20414  https://vk.com/id266884711  \n",
       "21113  https://vk.com/id757271800  \n",
       "21208   https://vk.com/id87736548  \n",
       "21323   https://vk.com/id32091813  \n",
       "\n",
       "[301 rows x 11 columns]"
      ]
     },
     "execution_count": 153,
     "metadata": {},
     "output_type": "execute_result"
    }
   ],
   "source": [
    "# Отфильтровываем только пользователей из списка интересующих городов\n",
    "Irkutsk = users_data[users_data['Город'].apply(lambda x: x in Irk_obl_list)]\n",
    "Irkutsk"
   ]
  },
  {
   "cell_type": "code",
   "execution_count": 150,
   "metadata": {},
   "outputs": [
    {
     "data": {
      "text/plain": [
       "'Военная авантюра нашего фюрера путина и его дружков олигархов терпит полный крах на Украине... Все  разговоры, что мы кого- то защищаем, гроша ломаного не стоят... Люди начинают осознавать ложь, про НАТО( сейчас  мы не воюем  с НАТО , но с января НАТО официально начнут помогать Украине, авиацией и ракетами), нацистов(у нас в России нациков в разы больше чем в Украине) и биолаборатории(пока ни одной ещё не нашли)... Мы не право Социализма несём на Украину... Не Советскую власть восстанавливаем...Это спор разных хозяйствующих буржуазных субъектов за деньги, власть, влияние...\\nОн положит всех спасая свой полированный зад...'"
      ]
     },
     "execution_count": 150,
     "metadata": {},
     "output_type": "execute_result"
    }
   ],
   "source": [
    "Irkutsk.loc[21208]['Комментарий']"
   ]
  },
  {
   "cell_type": "code",
   "execution_count": 96,
   "metadata": {},
   "outputs": [],
   "source": [
    "#users_data.to_csv('users_data.csv', sep=';', decimal='.', index=False)"
   ]
  }
 ],
 "metadata": {
  "kernelspec": {
   "display_name": "sf",
   "language": "python",
   "name": "python3"
  },
  "language_info": {
   "codemirror_mode": {
    "name": "ipython",
    "version": 3
   },
   "file_extension": ".py",
   "mimetype": "text/x-python",
   "name": "python",
   "nbconvert_exporter": "python",
   "pygments_lexer": "ipython3",
   "version": "3.8.11"
  },
  "orig_nbformat": 4,
  "vscode": {
   "interpreter": {
    "hash": "563b3fbad9c1e703622b628cf34b11b58769da99b1ed9a9df4fdabd54b844cdc"
   }
  }
 },
 "nbformat": 4,
 "nbformat_minor": 2
}
