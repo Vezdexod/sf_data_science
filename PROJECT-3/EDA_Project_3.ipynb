{
 "cells": [
  {
   "cell_type": "markdown",
   "metadata": {},
   "source": [
    "Задачу, которая стоит перед вами, можно свести к пяти пунктам:\n",
    "\n",
    "**Удаление строковых значений.** Вам необходимо удалить из набора данных столбцы, данные в которых представлены не числами.\n",
    "\n",
    "**Очистка от пропущенных значений.** На предыдущем шаге мы делали это самым грубым из всех возможных способов, сейчас попробуйте подойти к процессу более гибко.\n",
    "\n",
    "**Создание новых признаков.** Мы попробуем создать новые столбцы с данными из существующих данных или с использованием внешних источников.\n",
    "\n",
    "**Преобразование признаков.** Применим различные преобразования над признаками вроде нормализации, стандартизации.\n",
    "\n",
    "**Отбор признаков.** Используем анализ мультиколлинеарности как шаг отбора признаков для модели."
   ]
  },
  {
   "cell_type": "code",
   "execution_count": 52,
   "metadata": {},
   "outputs": [],
   "source": [
    "# Добавить графики\n",
    "\n",
    "# Добавить гипотезы и работу с ними\n",
    "# Проверка мультиколлинеарности\n",
    "# Отбор признаков\n",
    "#\n",
    "#\n",
    "#\n",
    "\n"
   ]
  },
  {
   "cell_type": "code",
   "execution_count": 54,
   "metadata": {},
   "outputs": [],
   "source": [
    "import pandas as pd\n",
    "import numpy as np\n",
    "import re\n",
    "import plotly.express as px\n",
    "import seaborn as sns # импортируем seaborn для построения графиков\n",
    "import category_encoders as ce"
   ]
  },
  {
   "cell_type": "code",
   "execution_count": 2,
   "metadata": {},
   "outputs": [],
   "source": [
    "hotels = pd.read_csv('hotels.csv')"
   ]
  },
  {
   "cell_type": "code",
   "execution_count": 3,
   "metadata": {},
   "outputs": [
    {
     "data": {
      "text/html": [
       "<div>\n",
       "<style scoped>\n",
       "    .dataframe tbody tr th:only-of-type {\n",
       "        vertical-align: middle;\n",
       "    }\n",
       "\n",
       "    .dataframe tbody tr th {\n",
       "        vertical-align: top;\n",
       "    }\n",
       "\n",
       "    .dataframe thead th {\n",
       "        text-align: right;\n",
       "    }\n",
       "</style>\n",
       "<table border=\"1\" class=\"dataframe\">\n",
       "  <thead>\n",
       "    <tr style=\"text-align: right;\">\n",
       "      <th></th>\n",
       "      <th>hotel_address</th>\n",
       "      <th>additional_number_of_scoring</th>\n",
       "      <th>review_date</th>\n",
       "      <th>average_score</th>\n",
       "      <th>hotel_name</th>\n",
       "      <th>reviewer_nationality</th>\n",
       "      <th>negative_review</th>\n",
       "      <th>review_total_negative_word_counts</th>\n",
       "      <th>total_number_of_reviews</th>\n",
       "      <th>positive_review</th>\n",
       "      <th>review_total_positive_word_counts</th>\n",
       "      <th>total_number_of_reviews_reviewer_has_given</th>\n",
       "      <th>reviewer_score</th>\n",
       "      <th>tags</th>\n",
       "      <th>days_since_review</th>\n",
       "      <th>lat</th>\n",
       "      <th>lng</th>\n",
       "    </tr>\n",
       "  </thead>\n",
       "  <tbody>\n",
       "    <tr>\n",
       "      <th>0</th>\n",
       "      <td>Stratton Street Mayfair Westminster Borough Lo...</td>\n",
       "      <td>581</td>\n",
       "      <td>2/19/2016</td>\n",
       "      <td>8.4</td>\n",
       "      <td>The May Fair Hotel</td>\n",
       "      <td>United Kingdom</td>\n",
       "      <td>Leaving</td>\n",
       "      <td>3</td>\n",
       "      <td>1994</td>\n",
       "      <td>Staff were amazing</td>\n",
       "      <td>4</td>\n",
       "      <td>7</td>\n",
       "      <td>10.0</td>\n",
       "      <td>[' Leisure trip ', ' Couple ', ' Studio Suite ...</td>\n",
       "      <td>531 day</td>\n",
       "      <td>51.507894</td>\n",
       "      <td>-0.143671</td>\n",
       "    </tr>\n",
       "    <tr>\n",
       "      <th>1</th>\n",
       "      <td>130 134 Southampton Row Camden London WC1B 5AF...</td>\n",
       "      <td>299</td>\n",
       "      <td>1/12/2017</td>\n",
       "      <td>8.3</td>\n",
       "      <td>Mercure London Bloomsbury Hotel</td>\n",
       "      <td>United Kingdom</td>\n",
       "      <td>poor breakfast</td>\n",
       "      <td>3</td>\n",
       "      <td>1361</td>\n",
       "      <td>location</td>\n",
       "      <td>2</td>\n",
       "      <td>14</td>\n",
       "      <td>6.3</td>\n",
       "      <td>[' Business trip ', ' Couple ', ' Standard Dou...</td>\n",
       "      <td>203 day</td>\n",
       "      <td>51.521009</td>\n",
       "      <td>-0.123097</td>\n",
       "    </tr>\n",
       "    <tr>\n",
       "      <th>2</th>\n",
       "      <td>151 bis Rue de Rennes 6th arr 75006 Paris France</td>\n",
       "      <td>32</td>\n",
       "      <td>10/18/2016</td>\n",
       "      <td>8.9</td>\n",
       "      <td>Legend Saint Germain by Elegancia</td>\n",
       "      <td>China</td>\n",
       "      <td>No kettle in room</td>\n",
       "      <td>6</td>\n",
       "      <td>406</td>\n",
       "      <td>No Positive</td>\n",
       "      <td>0</td>\n",
       "      <td>14</td>\n",
       "      <td>7.5</td>\n",
       "      <td>[' Leisure trip ', ' Solo traveler ', ' Modern...</td>\n",
       "      <td>289 day</td>\n",
       "      <td>48.845377</td>\n",
       "      <td>2.325643</td>\n",
       "    </tr>\n",
       "  </tbody>\n",
       "</table>\n",
       "</div>"
      ],
      "text/plain": [
       "                                       hotel_address  \\\n",
       "0  Stratton Street Mayfair Westminster Borough Lo...   \n",
       "1  130 134 Southampton Row Camden London WC1B 5AF...   \n",
       "2   151 bis Rue de Rennes 6th arr 75006 Paris France   \n",
       "\n",
       "   additional_number_of_scoring review_date  average_score  \\\n",
       "0                           581   2/19/2016            8.4   \n",
       "1                           299   1/12/2017            8.3   \n",
       "2                            32  10/18/2016            8.9   \n",
       "\n",
       "                          hotel_name reviewer_nationality  \\\n",
       "0                 The May Fair Hotel      United Kingdom    \n",
       "1    Mercure London Bloomsbury Hotel      United Kingdom    \n",
       "2  Legend Saint Germain by Elegancia               China    \n",
       "\n",
       "       negative_review  review_total_negative_word_counts  \\\n",
       "0             Leaving                                   3   \n",
       "1       poor breakfast                                  3   \n",
       "2   No kettle in room                                   6   \n",
       "\n",
       "   total_number_of_reviews      positive_review  \\\n",
       "0                     1994   Staff were amazing   \n",
       "1                     1361             location   \n",
       "2                      406          No Positive   \n",
       "\n",
       "   review_total_positive_word_counts  \\\n",
       "0                                  4   \n",
       "1                                  2   \n",
       "2                                  0   \n",
       "\n",
       "   total_number_of_reviews_reviewer_has_given  reviewer_score  \\\n",
       "0                                           7            10.0   \n",
       "1                                          14             6.3   \n",
       "2                                          14             7.5   \n",
       "\n",
       "                                                tags days_since_review  \\\n",
       "0  [' Leisure trip ', ' Couple ', ' Studio Suite ...           531 day   \n",
       "1  [' Business trip ', ' Couple ', ' Standard Dou...           203 day   \n",
       "2  [' Leisure trip ', ' Solo traveler ', ' Modern...           289 day   \n",
       "\n",
       "         lat       lng  \n",
       "0  51.507894 -0.143671  \n",
       "1  51.521009 -0.123097  \n",
       "2  48.845377  2.325643  "
      ]
     },
     "execution_count": 3,
     "metadata": {},
     "output_type": "execute_result"
    }
   ],
   "source": [
    "hotels_df = hotels.copy()\n",
    "hotels_df.head(3)"
   ]
  },
  {
   "cell_type": "code",
   "execution_count": 4,
   "metadata": {},
   "outputs": [
    {
     "name": "stdout",
     "output_type": "stream",
     "text": [
      "<class 'pandas.core.frame.DataFrame'>\n",
      "RangeIndex: 386803 entries, 0 to 386802\n",
      "Data columns (total 17 columns):\n",
      " #   Column                                      Non-Null Count   Dtype  \n",
      "---  ------                                      --------------   -----  \n",
      " 0   hotel_address                               386803 non-null  object \n",
      " 1   additional_number_of_scoring                386803 non-null  int64  \n",
      " 2   review_date                                 386803 non-null  object \n",
      " 3   average_score                               386803 non-null  float64\n",
      " 4   hotel_name                                  386803 non-null  object \n",
      " 5   reviewer_nationality                        386803 non-null  object \n",
      " 6   negative_review                             386803 non-null  object \n",
      " 7   review_total_negative_word_counts           386803 non-null  int64  \n",
      " 8   total_number_of_reviews                     386803 non-null  int64  \n",
      " 9   positive_review                             386803 non-null  object \n",
      " 10  review_total_positive_word_counts           386803 non-null  int64  \n",
      " 11  total_number_of_reviews_reviewer_has_given  386803 non-null  int64  \n",
      " 12  reviewer_score                              386803 non-null  float64\n",
      " 13  tags                                        386803 non-null  object \n",
      " 14  days_since_review                           386803 non-null  object \n",
      " 15  lat                                         384355 non-null  float64\n",
      " 16  lng                                         384355 non-null  float64\n",
      "dtypes: float64(4), int64(5), object(8)\n",
      "memory usage: 50.2+ MB\n"
     ]
    }
   ],
   "source": [
    "hotels_df.info()"
   ]
  },
  {
   "cell_type": "markdown",
   "metadata": {},
   "source": [
    "**00 hotel_address** — адрес отеля {нечисловой};\n",
    "\n",
    "**01 additional_number_of_scoring** — есть также некоторые гости, которые просто поставили оценку сервису, но не оставили отзыв. Это число указывает, сколько там действительных оценок без проверки {числовой};\n",
    "\n",
    "**02 review_date** — дата, когда рецензент разместил соответствующий отзыв {дата};\n",
    "\n",
    "**03 average_score** — средний балл отеля, рассчитанный на основе последнего комментария за последний год {числовой};\n",
    "\n",
    "**04 hotel_name** — название отеля {нечисловой};\n",
    "\n",
    "**05 reviewer_nationality** — страна рецензента {нечисловой};\n",
    "\n",
    "**06 negative_review** — отрицательный отзыв, который рецензент дал отелю {нечисловой};\n",
    "\n",
    "**07 review_total_negative_word_counts** — общее количество слов в отрицательном отзыве {числовой};\n",
    "\n",
    "**08 total_number_of_reviews** — общее количество действительных отзывов об отеле {числовой};\n",
    "\n",
    "**09 positive_review** — положительный отзыв, который рецензент дал отелю {нечисловой};\n",
    "\n",
    "**10 review_total_positive_word_counts** — общее количество слов в положительном отзыве {числовой};\n",
    "\n",
    "**11 total_number_of_reviews_reviewer_has_given** — количество отзывов, которые рецензенты дали в прошлом {числовой};\n",
    "\n",
    "**12 reviewer_score** — оценка, которую рецензент поставил отелю на основе своего опыта {числовой};\n",
    "\n",
    "**13 tags** — теги, которые рецензент дал отелю {нечисловой};\n",
    "\n",
    "**14 days_since_review** — количество дней между датой проверки и датой очистки {нечисловой};\n",
    "\n",
    "**15 lat** — географическая широта отеля {числовой};\n",
    "\n",
    "**16 lng** — географическая долгота отеля {числовой}."
   ]
  },
  {
   "cell_type": "code",
   "execution_count": 5,
   "metadata": {},
   "outputs": [],
   "source": [
    "#Выделим числовые и нечисловые признаки\n",
    "\n",
    "non_numeric_features = [\n",
    "    'hotel_address',\n",
    "    'hotel_name',\n",
    "    'reviewer_nationality',\n",
    "    'negative_review',\n",
    "    'positive_review',\n",
    "    'tags',\n",
    "    'days_since_review'\n",
    "    ]\n",
    "\n",
    "numeric_features = [\n",
    "    'additional_number_of_scoring',\n",
    "    'average_score',\n",
    "    'review_total_negative_word_counts',\n",
    "    'total_number_of_reviews',\n",
    "    'review_total_positive_word_counts',\n",
    "    'total_number_of_reviews_reviewer_has_given',\n",
    "    'reviewer_score',\n",
    "    'lat',\n",
    "    'lng'\n",
    "    ]"
   ]
  },
  {
   "cell_type": "code",
   "execution_count": 6,
   "metadata": {},
   "outputs": [
    {
     "data": {
      "text/html": [
       "<div>\n",
       "<style scoped>\n",
       "    .dataframe tbody tr th:only-of-type {\n",
       "        vertical-align: middle;\n",
       "    }\n",
       "\n",
       "    .dataframe tbody tr th {\n",
       "        vertical-align: top;\n",
       "    }\n",
       "\n",
       "    .dataframe thead th {\n",
       "        text-align: right;\n",
       "    }\n",
       "</style>\n",
       "<table border=\"1\" class=\"dataframe\">\n",
       "  <thead>\n",
       "    <tr style=\"text-align: right;\">\n",
       "      <th></th>\n",
       "      <th>hotel_address</th>\n",
       "      <th>additional_number_of_scoring</th>\n",
       "      <th>review_date</th>\n",
       "      <th>average_score</th>\n",
       "      <th>hotel_name</th>\n",
       "      <th>reviewer_nationality</th>\n",
       "      <th>negative_review</th>\n",
       "      <th>review_total_negative_word_counts</th>\n",
       "      <th>total_number_of_reviews</th>\n",
       "      <th>positive_review</th>\n",
       "      <th>review_total_positive_word_counts</th>\n",
       "      <th>total_number_of_reviews_reviewer_has_given</th>\n",
       "      <th>reviewer_score</th>\n",
       "      <th>tags</th>\n",
       "      <th>days_since_review</th>\n",
       "      <th>lat</th>\n",
       "      <th>lng</th>\n",
       "    </tr>\n",
       "  </thead>\n",
       "  <tbody>\n",
       "    <tr>\n",
       "      <th>0</th>\n",
       "      <td>Stratton Street Mayfair Westminster Borough Lo...</td>\n",
       "      <td>581</td>\n",
       "      <td>2/19/2016</td>\n",
       "      <td>8.4</td>\n",
       "      <td>The May Fair Hotel</td>\n",
       "      <td>United Kingdom</td>\n",
       "      <td>Leaving</td>\n",
       "      <td>3</td>\n",
       "      <td>1994</td>\n",
       "      <td>Staff were amazing</td>\n",
       "      <td>4</td>\n",
       "      <td>7</td>\n",
       "      <td>10.0</td>\n",
       "      <td>[' Leisure trip ', ' Couple ', ' Studio Suite ...</td>\n",
       "      <td>531 day</td>\n",
       "      <td>51.507894</td>\n",
       "      <td>-0.143671</td>\n",
       "    </tr>\n",
       "  </tbody>\n",
       "</table>\n",
       "</div>"
      ],
      "text/plain": [
       "                                       hotel_address  \\\n",
       "0  Stratton Street Mayfair Westminster Borough Lo...   \n",
       "\n",
       "   additional_number_of_scoring review_date  average_score  \\\n",
       "0                           581   2/19/2016            8.4   \n",
       "\n",
       "           hotel_name reviewer_nationality negative_review  \\\n",
       "0  The May Fair Hotel      United Kingdom         Leaving    \n",
       "\n",
       "   review_total_negative_word_counts  total_number_of_reviews  \\\n",
       "0                                  3                     1994   \n",
       "\n",
       "       positive_review  review_total_positive_word_counts  \\\n",
       "0   Staff were amazing                                  4   \n",
       "\n",
       "   total_number_of_reviews_reviewer_has_given  reviewer_score  \\\n",
       "0                                           7            10.0   \n",
       "\n",
       "                                                tags days_since_review  \\\n",
       "0  [' Leisure trip ', ' Couple ', ' Studio Suite ...           531 day   \n",
       "\n",
       "         lat       lng  \n",
       "0  51.507894 -0.143671  "
      ]
     },
     "execution_count": 6,
     "metadata": {},
     "output_type": "execute_result"
    }
   ],
   "source": [
    "#Посмотрим на содержание признаков\n",
    "hotels_df.head(1)"
   ]
  },
  {
   "cell_type": "markdown",
   "metadata": {},
   "source": [
    "**!!!Прианализируем времяной признак**"
   ]
  },
  {
   "cell_type": "code",
   "execution_count": 7,
   "metadata": {},
   "outputs": [
    {
     "name": "stdout",
     "output_type": "stream",
     "text": [
      "Число дней в данных: 731\n",
      "Число дней в данных после преобразования в datetime: 731\n",
      "В данных приведен времяной провежуток с 2015-08-04 по 2017-08-03\n"
     ]
    }
   ],
   "source": [
    "#Выясним, сколько дат и в каком промежутке присутствуют в данных\n",
    "print(f\"Число дней в данных: {hotels_df['review_date'].nunique()}\")\n",
    "\n",
    "#Преобразуем данные к типу datetime\n",
    "hotels_df['review_date'] = pd.to_datetime(hotels_df['review_date'])\n",
    "\n",
    "#Выясним, сколько теперь дат и в каком промежутке присутствуют в данных\n",
    "print(f\"Число дней в данных после преобразования в datetime: {hotels_df['review_date'].nunique()}\")\n",
    "\n",
    "print(f\"В данных приведен времяной провежуток с {hotels_df['review_date'].dt.date.min()} по {hotels_df['review_date'].dt.date.max()}\")"
   ]
  },
  {
   "cell_type": "code",
   "execution_count": 8,
   "metadata": {},
   "outputs": [
    {
     "name": "stdout",
     "output_type": "stream",
     "text": [
      "Дата самого раннего отзыва: 2015-08-04\n",
      "Дата самого последнего отзыва: 2017-08-03\n"
     ]
    }
   ],
   "source": [
    "#Найдем, когда были оставлены самый первый и последний отзывы\n",
    "print(f\"Дата самого раннего отзыва: {hotels_df['review_date'].dt.date.min()}\")\n",
    "print(f\"Дата самого последнего отзыва: {hotels_df['review_date'].dt.date.max()}\")"
   ]
  },
  {
   "cell_type": "code",
   "execution_count": 9,
   "metadata": {},
   "outputs": [],
   "source": [
    "#Выделим из признака 'review_date' номер недели\n",
    "hotels_df['week'] = hotels_df['review_date'].dt.isocalendar().week\n",
    "hotels_df['week'] = hotels_df['week'].astype('int64')"
   ]
  },
  {
   "cell_type": "code",
   "execution_count": 10,
   "metadata": {},
   "outputs": [],
   "source": [
    "#Выделим из признака 'review_date' время года\n",
    "#hotels_df['review_date'].dt.month \n",
    "# 1,2,12 - winter (зима)\n",
    "# 3,4,5 - spring (весна)\n",
    "# 6,7,8 - summer (лето)\n",
    "# 9,10,11 - autumn (осень)\n",
    "\n",
    "hotels_df['is_winter'] = hotels_df['review_date'].dt.month.apply(lambda x: 1 if x in [1,2,12] else 0)\n",
    "hotels_df['is_spring'] = hotels_df['review_date'].dt.month.apply(lambda x: 1 if x in [3,4,5] else 0)\n",
    "hotels_df['is_summer'] = hotels_df['review_date'].dt.month.apply(lambda x: 1 if x in [6,7,8] else 0)\n",
    "hotels_df['is_autumn'] = hotels_df['review_date'].dt.month.apply(lambda x: 1 if x in [9,10,11] else 0)\n",
    "\n",
    "#Проверим результат\n",
    "hotels_df[['review_date','week','is_winter','is_spring','is_summer','is_autumn']]\n",
    "\n",
    "#Удалим признак 'review_date'\n",
    "hotels_df = hotels_df.drop(['review_date'], axis=1)"
   ]
  },
  {
   "cell_type": "markdown",
   "metadata": {},
   "source": [
    "**!!!Проанализируем не числовые признаки**\n",
    "\n",
    "'hotel_address',\n",
    "\n",
    "'hotel_name',\n",
    "\n",
    "'reviewer_nationality',\n",
    "    \n",
    "'negative_review',\n",
    "    \n",
    "'positive_review',\n",
    "    \n",
    "'tags',\n",
    "    \n",
    "'days_since_review'.\n",
    "\n",
    "После преобразования их в числовые, будем удалять"
   ]
  },
  {
   "cell_type": "code",
   "execution_count": 11,
   "metadata": {},
   "outputs": [
    {
     "name": "stdout",
     "output_type": "stream",
     "text": [
      "Число адресов отелей:  1493\n",
      "Число названий отелей:  1492\n"
     ]
    }
   ],
   "source": [
    "#Найдем число учавствующих отелей и их адресов (должны совпадать)\n",
    "print('Число адресов отелей: ', hotels_df['hotel_address'].nunique())\n",
    "print('Число названий отелей: ', hotels_df['hotel_name'].nunique())"
   ]
  },
  {
   "cell_type": "markdown",
   "metadata": {},
   "source": [
    "*Из полученного результата делаем вывод, что либо какой-то один отель занимает 2 адресса, либо есть опечатка в адресе в какой-то строке.*"
   ]
  },
  {
   "cell_type": "code",
   "execution_count": 12,
   "metadata": {},
   "outputs": [
    {
     "name": "stdout",
     "output_type": "stream",
     "text": [
      "Число стран:  225\n"
     ]
    }
   ],
   "source": [
    "#Рассмотрим страны резидентов\n",
    "print('Число стран: ', hotels_df['reviewer_nationality'].nunique())"
   ]
  },
  {
   "cell_type": "code",
   "execution_count": 13,
   "metadata": {},
   "outputs": [
    {
     "data": {
      "text/html": [
       "<div>\n",
       "<style scoped>\n",
       "    .dataframe tbody tr th:only-of-type {\n",
       "        vertical-align: middle;\n",
       "    }\n",
       "\n",
       "    .dataframe tbody tr th {\n",
       "        vertical-align: top;\n",
       "    }\n",
       "\n",
       "    .dataframe thead th {\n",
       "        text-align: right;\n",
       "    }\n",
       "</style>\n",
       "<table border=\"1\" class=\"dataframe\">\n",
       "  <thead>\n",
       "    <tr style=\"text-align: right;\">\n",
       "      <th></th>\n",
       "      <th>additional_number_of_scoring</th>\n",
       "      <th>average_score</th>\n",
       "      <th>negative_review</th>\n",
       "      <th>review_total_negative_word_counts</th>\n",
       "      <th>total_number_of_reviews</th>\n",
       "      <th>positive_review</th>\n",
       "      <th>review_total_positive_word_counts</th>\n",
       "      <th>total_number_of_reviews_reviewer_has_given</th>\n",
       "      <th>reviewer_score</th>\n",
       "      <th>tags</th>\n",
       "      <th>days_since_review</th>\n",
       "      <th>lat</th>\n",
       "      <th>lng</th>\n",
       "      <th>week</th>\n",
       "      <th>is_winter</th>\n",
       "      <th>is_spring</th>\n",
       "      <th>is_summer</th>\n",
       "      <th>is_autumn</th>\n",
       "      <th>hotel_address_n</th>\n",
       "      <th>reviewer_nationality_n</th>\n",
       "    </tr>\n",
       "  </thead>\n",
       "  <tbody>\n",
       "    <tr>\n",
       "      <th>0</th>\n",
       "      <td>581</td>\n",
       "      <td>8.4</td>\n",
       "      <td>Leaving</td>\n",
       "      <td>3</td>\n",
       "      <td>1994</td>\n",
       "      <td>Staff were amazing</td>\n",
       "      <td>4</td>\n",
       "      <td>7</td>\n",
       "      <td>10.0</td>\n",
       "      <td>[' Leisure trip ', ' Couple ', ' Studio Suite ...</td>\n",
       "      <td>531 day</td>\n",
       "      <td>51.507894</td>\n",
       "      <td>-0.143671</td>\n",
       "      <td>7</td>\n",
       "      <td>1</td>\n",
       "      <td>0</td>\n",
       "      <td>0</td>\n",
       "      <td>0</td>\n",
       "      <td>1</td>\n",
       "      <td>1</td>\n",
       "    </tr>\n",
       "  </tbody>\n",
       "</table>\n",
       "</div>"
      ],
      "text/plain": [
       "   additional_number_of_scoring  average_score negative_review  \\\n",
       "0                           581            8.4        Leaving    \n",
       "\n",
       "   review_total_negative_word_counts  total_number_of_reviews  \\\n",
       "0                                  3                     1994   \n",
       "\n",
       "       positive_review  review_total_positive_word_counts  \\\n",
       "0   Staff were amazing                                  4   \n",
       "\n",
       "   total_number_of_reviews_reviewer_has_given  reviewer_score  \\\n",
       "0                                           7            10.0   \n",
       "\n",
       "                                                tags days_since_review  \\\n",
       "0  [' Leisure trip ', ' Couple ', ' Studio Suite ...           531 day   \n",
       "\n",
       "         lat       lng  week  is_winter  is_spring  is_summer  is_autumn  \\\n",
       "0  51.507894 -0.143671     7          1          0          0          0   \n",
       "\n",
       "   hotel_address_n  reviewer_nationality_n  \n",
       "0                1                       1  "
      ]
     },
     "execution_count": 13,
     "metadata": {},
     "output_type": "execute_result"
    }
   ],
   "source": [
    "#Закодируем адреса и страны в числовой вид, чтобы модель могла учитывать эти признаки\n",
    "\n",
    "ord_encoder = ce.OrdinalEncoder()\n",
    "data_bin = ord_encoder.fit_transform(hotels_df[['hotel_address', 'reviewer_nationality']])\n",
    "data_bin.rename(columns={'hotel_address': 'hotel_address_n', 'reviewer_nationality': 'reviewer_nationality_n'}, inplace=True)\n",
    "hotels_df = pd.concat([hotels_df, data_bin], axis=1)\n",
    "\n",
    "#Удалим признаки 'hotel_address', 'hotel_name', 'reviewer_nationality'\n",
    "hotels_df = hotels_df.drop(['hotel_address','hotel_name','reviewer_nationality'], axis=1)\n",
    "\n",
    "hotels_df.head(1)\n"
   ]
  },
  {
   "cell_type": "code",
   "execution_count": 15,
   "metadata": {},
   "outputs": [
    {
     "name": "stdout",
     "output_type": "stream",
     "text": [
      "Число негативных отзывов: 248828\n"
     ]
    },
    {
     "data": {
      "text/plain": [
       "No Negative    95907\n",
       " Nothing       10737\n",
       " Nothing        3154\n",
       " nothing        1660\n",
       " N A             802\n",
       " None            737\n",
       "                 606\n",
       " N a             384\n",
       " Breakfast       296\n",
       " Small room      283\n",
       "Name: negative_review, dtype: int64"
      ]
     },
     "execution_count": 15,
     "metadata": {},
     "output_type": "execute_result"
    }
   ],
   "source": [
    "#Рассмотрим количество негативных отзывов\n",
    "print(f\"Число негативных отзывов: {hotels_df['negative_review'].nunique()}\")\n",
    "hotels_df['negative_review'].value_counts().head(10)"
   ]
  },
  {
   "cell_type": "code",
   "execution_count": 16,
   "metadata": {},
   "outputs": [
    {
     "data": {
      "text/html": [
       "<div>\n",
       "<style scoped>\n",
       "    .dataframe tbody tr th:only-of-type {\n",
       "        vertical-align: middle;\n",
       "    }\n",
       "\n",
       "    .dataframe tbody tr th {\n",
       "        vertical-align: top;\n",
       "    }\n",
       "\n",
       "    .dataframe thead th {\n",
       "        text-align: right;\n",
       "    }\n",
       "</style>\n",
       "<table border=\"1\" class=\"dataframe\">\n",
       "  <thead>\n",
       "    <tr style=\"text-align: right;\">\n",
       "      <th></th>\n",
       "      <th>additional_number_of_scoring</th>\n",
       "      <th>average_score</th>\n",
       "      <th>review_total_negative_word_counts</th>\n",
       "      <th>total_number_of_reviews</th>\n",
       "      <th>positive_review</th>\n",
       "      <th>review_total_positive_word_counts</th>\n",
       "      <th>total_number_of_reviews_reviewer_has_given</th>\n",
       "      <th>reviewer_score</th>\n",
       "      <th>tags</th>\n",
       "      <th>days_since_review</th>\n",
       "      <th>...</th>\n",
       "      <th>negative_review_8</th>\n",
       "      <th>negative_review_9</th>\n",
       "      <th>negative_review_10</th>\n",
       "      <th>negative_review_11</th>\n",
       "      <th>negative_review_12</th>\n",
       "      <th>negative_review_13</th>\n",
       "      <th>negative_review_14</th>\n",
       "      <th>negative_review_15</th>\n",
       "      <th>negative_review_16</th>\n",
       "      <th>negative_review_17</th>\n",
       "    </tr>\n",
       "  </thead>\n",
       "  <tbody>\n",
       "    <tr>\n",
       "      <th>0</th>\n",
       "      <td>581</td>\n",
       "      <td>8.4</td>\n",
       "      <td>3</td>\n",
       "      <td>1994</td>\n",
       "      <td>Staff were amazing</td>\n",
       "      <td>4</td>\n",
       "      <td>7</td>\n",
       "      <td>10.0</td>\n",
       "      <td>[' Leisure trip ', ' Couple ', ' Studio Suite ...</td>\n",
       "      <td>531 day</td>\n",
       "      <td>...</td>\n",
       "      <td>0</td>\n",
       "      <td>0</td>\n",
       "      <td>0</td>\n",
       "      <td>0</td>\n",
       "      <td>0</td>\n",
       "      <td>0</td>\n",
       "      <td>0</td>\n",
       "      <td>0</td>\n",
       "      <td>0</td>\n",
       "      <td>1</td>\n",
       "    </tr>\n",
       "  </tbody>\n",
       "</table>\n",
       "<p>1 rows × 37 columns</p>\n",
       "</div>"
      ],
      "text/plain": [
       "   additional_number_of_scoring  average_score  \\\n",
       "0                           581            8.4   \n",
       "\n",
       "   review_total_negative_word_counts  total_number_of_reviews  \\\n",
       "0                                  3                     1994   \n",
       "\n",
       "       positive_review  review_total_positive_word_counts  \\\n",
       "0   Staff were amazing                                  4   \n",
       "\n",
       "   total_number_of_reviews_reviewer_has_given  reviewer_score  \\\n",
       "0                                           7            10.0   \n",
       "\n",
       "                                                tags days_since_review  ...  \\\n",
       "0  [' Leisure trip ', ' Couple ', ' Studio Suite ...           531 day  ...   \n",
       "\n",
       "   negative_review_8  negative_review_9  negative_review_10  \\\n",
       "0                  0                  0                   0   \n",
       "\n",
       "   negative_review_11  negative_review_12  negative_review_13  \\\n",
       "0                   0                   0                   0   \n",
       "\n",
       "   negative_review_14  negative_review_15  negative_review_16  \\\n",
       "0                   0                   0                   0   \n",
       "\n",
       "   negative_review_17  \n",
       "0                   1  \n",
       "\n",
       "[1 rows x 37 columns]"
      ]
     },
     "execution_count": 16,
     "metadata": {},
     "output_type": "execute_result"
    }
   ],
   "source": [
    "#Закодируем негативные отзывы\n",
    "\n",
    "bin_encoder = ce.BinaryEncoder(cols=['negative_review'])\n",
    "type_bin = bin_encoder.fit_transform(hotels_df['negative_review'])\n",
    "hotels_df = pd.concat([hotels_df, type_bin], axis=1)\n",
    "\n",
    "#Удалим признак 'negative_review'\n",
    "hotels_df = hotels_df.drop(['negative_review'], axis=1)\n",
    "\n",
    "hotels_df.head(1)"
   ]
  },
  {
   "cell_type": "code",
   "execution_count": 17,
   "metadata": {},
   "outputs": [
    {
     "name": "stdout",
     "output_type": "stream",
     "text": [
      "Число негативных отзывов: 311737\n"
     ]
    },
    {
     "data": {
      "text/plain": [
       "No Positive        26885\n",
       " Location           6833\n",
       " Everything         1697\n",
       " location           1251\n",
       " Nothing             931\n",
       " The location        830\n",
       " Great location      809\n",
       " Good location       690\n",
       " Location            663\n",
       " Breakfast           455\n",
       "Name: positive_review, dtype: int64"
      ]
     },
     "execution_count": 17,
     "metadata": {},
     "output_type": "execute_result"
    }
   ],
   "source": [
    "#Рассмотрим количество позитивных отзывов\n",
    "print(f\"Число негативных отзывов: {hotels_df['positive_review'].nunique()}\")\n",
    "hotels_df['positive_review'].value_counts().head(10)"
   ]
  },
  {
   "cell_type": "code",
   "execution_count": null,
   "metadata": {},
   "outputs": [],
   "source": [
    "#Подготовим данные признаков для преобразования\n",
    "\n",
    "#positive_review = ['No Positive', ' Location', ' Everything', ' location', ' Nothing', ' The location', ' Great location',\n",
    "#                   ' Good location', ' Location', ' Breakfast', ' Everything',' Friendly staff',' Staff',' Excellent location',\n",
    "#                   ' Great location', ' Location and staff', ' everything', ' Good location', ' Nothing', ' nothing']\n",
    "#hotels_df['positive_review'] = hotels_df['positive_review'].apply(lambda x: x if x in positive_review else 'other')\n",
    "#hotels_df['positive_review'].value_counts()"
   ]
  },
  {
   "cell_type": "code",
   "execution_count": 18,
   "metadata": {},
   "outputs": [
    {
     "data": {
      "text/html": [
       "<div>\n",
       "<style scoped>\n",
       "    .dataframe tbody tr th:only-of-type {\n",
       "        vertical-align: middle;\n",
       "    }\n",
       "\n",
       "    .dataframe tbody tr th {\n",
       "        vertical-align: top;\n",
       "    }\n",
       "\n",
       "    .dataframe thead th {\n",
       "        text-align: right;\n",
       "    }\n",
       "</style>\n",
       "<table border=\"1\" class=\"dataframe\">\n",
       "  <thead>\n",
       "    <tr style=\"text-align: right;\">\n",
       "      <th></th>\n",
       "      <th>additional_number_of_scoring</th>\n",
       "      <th>average_score</th>\n",
       "      <th>review_total_negative_word_counts</th>\n",
       "      <th>total_number_of_reviews</th>\n",
       "      <th>review_total_positive_word_counts</th>\n",
       "      <th>total_number_of_reviews_reviewer_has_given</th>\n",
       "      <th>reviewer_score</th>\n",
       "      <th>tags</th>\n",
       "      <th>days_since_review</th>\n",
       "      <th>lat</th>\n",
       "      <th>...</th>\n",
       "      <th>positive_review_9</th>\n",
       "      <th>positive_review_10</th>\n",
       "      <th>positive_review_11</th>\n",
       "      <th>positive_review_12</th>\n",
       "      <th>positive_review_13</th>\n",
       "      <th>positive_review_14</th>\n",
       "      <th>positive_review_15</th>\n",
       "      <th>positive_review_16</th>\n",
       "      <th>positive_review_17</th>\n",
       "      <th>positive_review_18</th>\n",
       "    </tr>\n",
       "  </thead>\n",
       "  <tbody>\n",
       "    <tr>\n",
       "      <th>0</th>\n",
       "      <td>581</td>\n",
       "      <td>8.4</td>\n",
       "      <td>3</td>\n",
       "      <td>1994</td>\n",
       "      <td>4</td>\n",
       "      <td>7</td>\n",
       "      <td>10.0</td>\n",
       "      <td>[' Leisure trip ', ' Couple ', ' Studio Suite ...</td>\n",
       "      <td>531 day</td>\n",
       "      <td>51.507894</td>\n",
       "      <td>...</td>\n",
       "      <td>0</td>\n",
       "      <td>0</td>\n",
       "      <td>0</td>\n",
       "      <td>0</td>\n",
       "      <td>0</td>\n",
       "      <td>0</td>\n",
       "      <td>0</td>\n",
       "      <td>0</td>\n",
       "      <td>0</td>\n",
       "      <td>1</td>\n",
       "    </tr>\n",
       "    <tr>\n",
       "      <th>1</th>\n",
       "      <td>299</td>\n",
       "      <td>8.3</td>\n",
       "      <td>3</td>\n",
       "      <td>1361</td>\n",
       "      <td>2</td>\n",
       "      <td>14</td>\n",
       "      <td>6.3</td>\n",
       "      <td>[' Business trip ', ' Couple ', ' Standard Dou...</td>\n",
       "      <td>203 day</td>\n",
       "      <td>51.521009</td>\n",
       "      <td>...</td>\n",
       "      <td>0</td>\n",
       "      <td>0</td>\n",
       "      <td>0</td>\n",
       "      <td>0</td>\n",
       "      <td>0</td>\n",
       "      <td>0</td>\n",
       "      <td>0</td>\n",
       "      <td>0</td>\n",
       "      <td>1</td>\n",
       "      <td>0</td>\n",
       "    </tr>\n",
       "    <tr>\n",
       "      <th>2</th>\n",
       "      <td>32</td>\n",
       "      <td>8.9</td>\n",
       "      <td>6</td>\n",
       "      <td>406</td>\n",
       "      <td>0</td>\n",
       "      <td>14</td>\n",
       "      <td>7.5</td>\n",
       "      <td>[' Leisure trip ', ' Solo traveler ', ' Modern...</td>\n",
       "      <td>289 day</td>\n",
       "      <td>48.845377</td>\n",
       "      <td>...</td>\n",
       "      <td>0</td>\n",
       "      <td>0</td>\n",
       "      <td>0</td>\n",
       "      <td>0</td>\n",
       "      <td>0</td>\n",
       "      <td>0</td>\n",
       "      <td>0</td>\n",
       "      <td>0</td>\n",
       "      <td>1</td>\n",
       "      <td>1</td>\n",
       "    </tr>\n",
       "  </tbody>\n",
       "</table>\n",
       "<p>3 rows × 55 columns</p>\n",
       "</div>"
      ],
      "text/plain": [
       "   additional_number_of_scoring  average_score  \\\n",
       "0                           581            8.4   \n",
       "1                           299            8.3   \n",
       "2                            32            8.9   \n",
       "\n",
       "   review_total_negative_word_counts  total_number_of_reviews  \\\n",
       "0                                  3                     1994   \n",
       "1                                  3                     1361   \n",
       "2                                  6                      406   \n",
       "\n",
       "   review_total_positive_word_counts  \\\n",
       "0                                  4   \n",
       "1                                  2   \n",
       "2                                  0   \n",
       "\n",
       "   total_number_of_reviews_reviewer_has_given  reviewer_score  \\\n",
       "0                                           7            10.0   \n",
       "1                                          14             6.3   \n",
       "2                                          14             7.5   \n",
       "\n",
       "                                                tags days_since_review  \\\n",
       "0  [' Leisure trip ', ' Couple ', ' Studio Suite ...           531 day   \n",
       "1  [' Business trip ', ' Couple ', ' Standard Dou...           203 day   \n",
       "2  [' Leisure trip ', ' Solo traveler ', ' Modern...           289 day   \n",
       "\n",
       "         lat  ...  positive_review_9  positive_review_10  positive_review_11  \\\n",
       "0  51.507894  ...                  0                   0                   0   \n",
       "1  51.521009  ...                  0                   0                   0   \n",
       "2  48.845377  ...                  0                   0                   0   \n",
       "\n",
       "   positive_review_12  positive_review_13  positive_review_14  \\\n",
       "0                   0                   0                   0   \n",
       "1                   0                   0                   0   \n",
       "2                   0                   0                   0   \n",
       "\n",
       "   positive_review_15  positive_review_16  positive_review_17  \\\n",
       "0                   0                   0                   0   \n",
       "1                   0                   0                   1   \n",
       "2                   0                   0                   1   \n",
       "\n",
       "   positive_review_18  \n",
       "0                   1  \n",
       "1                   0  \n",
       "2                   1  \n",
       "\n",
       "[3 rows x 55 columns]"
      ]
     },
     "execution_count": 18,
     "metadata": {},
     "output_type": "execute_result"
    }
   ],
   "source": [
    "#Закодируем позитивные отзывы\n",
    "\n",
    "bin_encoder = ce.BinaryEncoder(cols=['positive_review']) # указываем столбец для кодирования\n",
    "type_bin = bin_encoder.fit_transform(hotels_df['positive_review'])\n",
    "hotels_df = pd.concat([hotels_df, type_bin], axis=1)\n",
    "\n",
    "#Удалим признак 'positive_review'\n",
    "hotels_df = hotels_df.drop(['positive_review'], axis=1)\n",
    "\n",
    "hotels_df.head(3)"
   ]
  },
  {
   "cell_type": "code",
   "execution_count": 19,
   "metadata": {},
   "outputs": [
    {
     "data": {
      "text/plain": [
       "[' Leisure trip ', ' Couple ', ' Double Room ', ' Stayed 1 night ', ' Submitted from a mobile device ']             3853\n",
       "[' Leisure trip ', ' Couple ', ' Standard Double Room ', ' Stayed 1 night ', ' Submitted from a mobile device ']    3673\n",
       "[' Leisure trip ', ' Couple ', ' Superior Double Room ', ' Stayed 1 night ', ' Submitted from a mobile device ']    3274\n",
       "Name: tags, dtype: int64"
      ]
     },
     "execution_count": 19,
     "metadata": {},
     "output_type": "execute_result"
    }
   ],
   "source": [
    "#Проанализируем теги\n",
    "hotels_df['tags'].value_counts().head(3)"
   ]
  },
  {
   "cell_type": "code",
   "execution_count": 20,
   "metadata": {},
   "outputs": [
    {
     "name": "stdout",
     "output_type": "stream",
     "text": [
      "Число тегов равно: 2368\n"
     ]
    }
   ],
   "source": [
    "def re_func(num_tags):\n",
    "    found = re.findall(\"'[^\\'](.+?)[^\\']'\", num_tags)\n",
    "    return found\n",
    "\n",
    "\n",
    "hotels_df['tags_n'] = hotels_df['tags'].apply(re_func)\n",
    "hotels_df = hotels_df.explode('tags_n')\n",
    "\n",
    "#Удалим признак 'tags'\n",
    "hotels_df = hotels_df.drop(['tags'], axis=1)\n",
    "\n",
    "print(f\"Число тегов равно: {hotels_df['tags_n'].nunique()}\")"
   ]
  },
  {
   "cell_type": "code",
   "execution_count": 21,
   "metadata": {},
   "outputs": [
    {
     "data": {
      "text/plain": [
       "Leisure trip                      313593\n",
       "Submitted from a mobile device    230778\n",
       "Couple                            189212\n",
       "Stayed 1 night                    145373\n",
       "Stayed 2 nights                   100263\n",
       "Name: tags_n, dtype: int64"
      ]
     },
     "execution_count": 21,
     "metadata": {},
     "output_type": "execute_result"
    }
   ],
   "source": [
    "hotels_df['tags_n'].value_counts().head(5)"
   ]
  },
  {
   "cell_type": "markdown",
   "metadata": {},
   "source": [
    "Закодируем тэги"
   ]
  },
  {
   "cell_type": "code",
   "execution_count": 22,
   "metadata": {},
   "outputs": [
    {
     "data": {
      "text/html": [
       "<div>\n",
       "<style scoped>\n",
       "    .dataframe tbody tr th:only-of-type {\n",
       "        vertical-align: middle;\n",
       "    }\n",
       "\n",
       "    .dataframe tbody tr th {\n",
       "        vertical-align: top;\n",
       "    }\n",
       "\n",
       "    .dataframe thead th {\n",
       "        text-align: right;\n",
       "    }\n",
       "</style>\n",
       "<table border=\"1\" class=\"dataframe\">\n",
       "  <thead>\n",
       "    <tr style=\"text-align: right;\">\n",
       "      <th></th>\n",
       "      <th>additional_number_of_scoring</th>\n",
       "      <th>average_score</th>\n",
       "      <th>review_total_negative_word_counts</th>\n",
       "      <th>total_number_of_reviews</th>\n",
       "      <th>review_total_positive_word_counts</th>\n",
       "      <th>total_number_of_reviews_reviewer_has_given</th>\n",
       "      <th>reviewer_score</th>\n",
       "      <th>days_since_review</th>\n",
       "      <th>lat</th>\n",
       "      <th>lng</th>\n",
       "      <th>...</th>\n",
       "      <th>tags_n_2</th>\n",
       "      <th>tags_n_3</th>\n",
       "      <th>tags_n_4</th>\n",
       "      <th>tags_n_5</th>\n",
       "      <th>tags_n_6</th>\n",
       "      <th>tags_n_7</th>\n",
       "      <th>tags_n_8</th>\n",
       "      <th>tags_n_9</th>\n",
       "      <th>tags_n_10</th>\n",
       "      <th>tags_n_11</th>\n",
       "    </tr>\n",
       "  </thead>\n",
       "  <tbody>\n",
       "    <tr>\n",
       "      <th>0</th>\n",
       "      <td>581</td>\n",
       "      <td>8.4</td>\n",
       "      <td>3</td>\n",
       "      <td>1994</td>\n",
       "      <td>4</td>\n",
       "      <td>7</td>\n",
       "      <td>10.0</td>\n",
       "      <td>531 day</td>\n",
       "      <td>51.507894</td>\n",
       "      <td>-0.143671</td>\n",
       "      <td>...</td>\n",
       "      <td>0</td>\n",
       "      <td>0</td>\n",
       "      <td>0</td>\n",
       "      <td>0</td>\n",
       "      <td>0</td>\n",
       "      <td>0</td>\n",
       "      <td>0</td>\n",
       "      <td>0</td>\n",
       "      <td>0</td>\n",
       "      <td>1</td>\n",
       "    </tr>\n",
       "    <tr>\n",
       "      <th>0</th>\n",
       "      <td>581</td>\n",
       "      <td>8.4</td>\n",
       "      <td>3</td>\n",
       "      <td>1994</td>\n",
       "      <td>4</td>\n",
       "      <td>7</td>\n",
       "      <td>10.0</td>\n",
       "      <td>531 day</td>\n",
       "      <td>51.507894</td>\n",
       "      <td>-0.143671</td>\n",
       "      <td>...</td>\n",
       "      <td>0</td>\n",
       "      <td>0</td>\n",
       "      <td>0</td>\n",
       "      <td>0</td>\n",
       "      <td>0</td>\n",
       "      <td>0</td>\n",
       "      <td>0</td>\n",
       "      <td>0</td>\n",
       "      <td>1</td>\n",
       "      <td>0</td>\n",
       "    </tr>\n",
       "    <tr>\n",
       "      <th>0</th>\n",
       "      <td>581</td>\n",
       "      <td>8.4</td>\n",
       "      <td>3</td>\n",
       "      <td>1994</td>\n",
       "      <td>4</td>\n",
       "      <td>7</td>\n",
       "      <td>10.0</td>\n",
       "      <td>531 day</td>\n",
       "      <td>51.507894</td>\n",
       "      <td>-0.143671</td>\n",
       "      <td>...</td>\n",
       "      <td>0</td>\n",
       "      <td>0</td>\n",
       "      <td>0</td>\n",
       "      <td>0</td>\n",
       "      <td>0</td>\n",
       "      <td>0</td>\n",
       "      <td>0</td>\n",
       "      <td>0</td>\n",
       "      <td>1</td>\n",
       "      <td>1</td>\n",
       "    </tr>\n",
       "  </tbody>\n",
       "</table>\n",
       "<p>3 rows × 66 columns</p>\n",
       "</div>"
      ],
      "text/plain": [
       "   additional_number_of_scoring  average_score  \\\n",
       "0                           581            8.4   \n",
       "0                           581            8.4   \n",
       "0                           581            8.4   \n",
       "\n",
       "   review_total_negative_word_counts  total_number_of_reviews  \\\n",
       "0                                  3                     1994   \n",
       "0                                  3                     1994   \n",
       "0                                  3                     1994   \n",
       "\n",
       "   review_total_positive_word_counts  \\\n",
       "0                                  4   \n",
       "0                                  4   \n",
       "0                                  4   \n",
       "\n",
       "   total_number_of_reviews_reviewer_has_given  reviewer_score  \\\n",
       "0                                           7            10.0   \n",
       "0                                           7            10.0   \n",
       "0                                           7            10.0   \n",
       "\n",
       "  days_since_review        lat       lng  ...  tags_n_2  tags_n_3  tags_n_4  \\\n",
       "0           531 day  51.507894 -0.143671  ...         0         0         0   \n",
       "0           531 day  51.507894 -0.143671  ...         0         0         0   \n",
       "0           531 day  51.507894 -0.143671  ...         0         0         0   \n",
       "\n",
       "   tags_n_5  tags_n_6  tags_n_7  tags_n_8  tags_n_9  tags_n_10  tags_n_11  \n",
       "0         0         0         0         0         0          0          1  \n",
       "0         0         0         0         0         0          1          0  \n",
       "0         0         0         0         0         0          1          1  \n",
       "\n",
       "[3 rows x 66 columns]"
      ]
     },
     "execution_count": 22,
     "metadata": {},
     "output_type": "execute_result"
    }
   ],
   "source": [
    "bin_encoder = ce.BinaryEncoder(cols=['tags_n']) # указываем столбец для кодирования\n",
    "type_bin = bin_encoder.fit_transform(hotels_df['tags_n'])\n",
    "hotels_df = pd.concat([hotels_df, type_bin], axis=1)\n",
    "\n",
    "#Удалим признак 'tags_n'\n",
    "hotels_df = hotels_df.drop(['tags_n'], axis=1)\n",
    "\n",
    "hotels_df.head(3)"
   ]
  },
  {
   "cell_type": "code",
   "execution_count": 23,
   "metadata": {},
   "outputs": [
    {
     "data": {
      "text/plain": [
       "1 days     8809\n",
       "322 day    8095\n",
       "120 day    7793\n",
       "338 day    6776\n",
       "534 day    6711\n",
       "           ... \n",
       "121 day     681\n",
       "615 day     651\n",
       "122 day     651\n",
       "124 day     558\n",
       "123 day     481\n",
       "Name: days_since_review, Length: 731, dtype: int64"
      ]
     },
     "execution_count": 23,
     "metadata": {},
     "output_type": "execute_result"
    }
   ],
   "source": [
    "#Рассмотрим количество дней между датой проверки и датой очистки\n",
    "hotels_df['days_since_review'].value_counts()"
   ]
  },
  {
   "cell_type": "code",
   "execution_count": 24,
   "metadata": {},
   "outputs": [
    {
     "data": {
      "text/plain": [
       "0         531\n",
       "0         531\n",
       "0         531\n",
       "0         531\n",
       "0         531\n",
       "         ... \n",
       "386801     74\n",
       "386802    363\n",
       "386802    363\n",
       "386802    363\n",
       "386802    363\n",
       "Name: days_since_review, Length: 1767522, dtype: int64"
      ]
     },
     "execution_count": 24,
     "metadata": {},
     "output_type": "execute_result"
    }
   ],
   "source": [
    "#Преобразуем признак 'days_since_review' в числовой вид\n",
    "def to_integer(x):\n",
    "    a = x.split()\n",
    "    return np.int64(a[0])\n",
    "\n",
    "hotels_df['days_since_review'] = hotels_df['days_since_review'].apply(to_integer)\n",
    "hotels_df['days_since_review']"
   ]
  },
  {
   "cell_type": "markdown",
   "metadata": {},
   "source": [
    "**!!!Проанализируем числовые признаки**"
   ]
  },
  {
   "cell_type": "code",
   "execution_count": 25,
   "metadata": {},
   "outputs": [
    {
     "data": {
      "text/plain": [
       "lat    11017\n",
       "lng    11017\n",
       "dtype: int64"
      ]
     },
     "metadata": {},
     "output_type": "display_data"
    }
   ],
   "source": [
    "#Для начала избавимся от пропусков. Найдем пропуски в данных\n",
    "NaN_df = hotels_df.isnull().sum()\n",
    "display(NaN_df[NaN_df > 0])"
   ]
  },
  {
   "cell_type": "code",
   "execution_count": 31,
   "metadata": {},
   "outputs": [
    {
     "name": "stdout",
     "output_type": "stream",
     "text": [
      "Процент пропущенных значений:' 2.85 %\n"
     ]
    }
   ],
   "source": [
    "#Найдём процент пропусков относительно общего числа\n",
    "print(\"Процент пропущенных значений:'\", round((11017/hotels.shape[0])*100,2),'%')"
   ]
  },
  {
   "cell_type": "markdown",
   "metadata": {},
   "source": [
    "Присутствуют пропуски в признаках \"географическая широта и долгота отеля\". Можно заполнить пропуски медианными или средними значениями, но так как это координаты, их не разумно заполнять чем-то средним.\n",
    "\n",
    "В таком случае, лучше пожертвовать 2,85 процентами данных, чем вносить неизмеримую погрешность.\n",
    "\n",
    "Самым точным же путем будет поиск во внешних источниках названий и координат отелей, но, так как их 11017 шт., то производить это действие, ради малой доли данных не рационально.\n",
    "\n",
    "Вывод: Нужно удалить строки, в которых содержатся пропуски."
   ]
  },
  {
   "cell_type": "code",
   "execution_count": 32,
   "metadata": {},
   "outputs": [],
   "source": [
    "hotels_df.dropna(how='any', axis=0, inplace=True);"
   ]
  },
  {
   "cell_type": "code",
   "execution_count": 33,
   "metadata": {},
   "outputs": [
    {
     "data": {
      "text/plain": [
       "Series([], dtype: int64)"
      ]
     },
     "metadata": {},
     "output_type": "display_data"
    }
   ],
   "source": [
    "#Проверим, удалились ли строки с пропусками\n",
    "NaN_df = hotels_df.isnull().sum()\n",
    "display(NaN_df[NaN_df > 0])"
   ]
  },
  {
   "cell_type": "markdown",
   "metadata": {},
   "source": [
    "Как мы видим, строки с пропусками удалились"
   ]
  },
  {
   "cell_type": "code",
   "execution_count": 34,
   "metadata": {},
   "outputs": [
    {
     "data": {
      "text/html": [
       "<div>\n",
       "<style scoped>\n",
       "    .dataframe tbody tr th:only-of-type {\n",
       "        vertical-align: middle;\n",
       "    }\n",
       "\n",
       "    .dataframe tbody tr th {\n",
       "        vertical-align: top;\n",
       "    }\n",
       "\n",
       "    .dataframe thead th {\n",
       "        text-align: right;\n",
       "    }\n",
       "</style>\n",
       "<table border=\"1\" class=\"dataframe\">\n",
       "  <thead>\n",
       "    <tr style=\"text-align: right;\">\n",
       "      <th></th>\n",
       "      <th>additional_number_of_scoring</th>\n",
       "      <th>average_score</th>\n",
       "      <th>review_total_negative_word_counts</th>\n",
       "      <th>total_number_of_reviews</th>\n",
       "      <th>review_total_positive_word_counts</th>\n",
       "      <th>total_number_of_reviews_reviewer_has_given</th>\n",
       "      <th>reviewer_score</th>\n",
       "      <th>lat</th>\n",
       "      <th>lng</th>\n",
       "    </tr>\n",
       "  </thead>\n",
       "  <tbody>\n",
       "    <tr>\n",
       "      <th>count</th>\n",
       "      <td>1.756505e+06</td>\n",
       "      <td>1.756505e+06</td>\n",
       "      <td>1.756505e+06</td>\n",
       "      <td>1.756505e+06</td>\n",
       "      <td>1.756505e+06</td>\n",
       "      <td>1.756505e+06</td>\n",
       "      <td>1.756505e+06</td>\n",
       "      <td>1.756505e+06</td>\n",
       "      <td>1.756505e+06</td>\n",
       "    </tr>\n",
       "    <tr>\n",
       "      <th>mean</th>\n",
       "      <td>5.023287e+02</td>\n",
       "      <td>8.398813e+00</td>\n",
       "      <td>1.827610e+01</td>\n",
       "      <td>2.751480e+03</td>\n",
       "      <td>1.753048e+01</td>\n",
       "      <td>7.017133e+00</td>\n",
       "      <td>8.401915e+00</td>\n",
       "      <td>4.944983e+01</td>\n",
       "      <td>2.797368e+00</td>\n",
       "    </tr>\n",
       "    <tr>\n",
       "      <th>std</th>\n",
       "      <td>5.021892e+02</td>\n",
       "      <td>5.488646e-01</td>\n",
       "      <td>2.934022e+01</td>\n",
       "      <td>2.321959e+03</td>\n",
       "      <td>2.140729e+01</td>\n",
       "      <td>1.084631e+01</td>\n",
       "      <td>1.638640e+00</td>\n",
       "      <td>3.469038e+00</td>\n",
       "      <td>4.550756e+00</td>\n",
       "    </tr>\n",
       "    <tr>\n",
       "      <th>min</th>\n",
       "      <td>1.000000e+00</td>\n",
       "      <td>5.200000e+00</td>\n",
       "      <td>0.000000e+00</td>\n",
       "      <td>4.300000e+01</td>\n",
       "      <td>0.000000e+00</td>\n",
       "      <td>1.000000e+00</td>\n",
       "      <td>2.500000e+00</td>\n",
       "      <td>4.132838e+01</td>\n",
       "      <td>-3.697581e-01</td>\n",
       "    </tr>\n",
       "    <tr>\n",
       "      <th>25%</th>\n",
       "      <td>1.700000e+02</td>\n",
       "      <td>8.100000e+00</td>\n",
       "      <td>2.000000e+00</td>\n",
       "      <td>1.161000e+03</td>\n",
       "      <td>5.000000e+00</td>\n",
       "      <td>1.000000e+00</td>\n",
       "      <td>7.500000e+00</td>\n",
       "      <td>4.821466e+01</td>\n",
       "      <td>-1.436492e-01</td>\n",
       "    </tr>\n",
       "    <tr>\n",
       "      <th>50%</th>\n",
       "      <td>3.470000e+02</td>\n",
       "      <td>8.400000e+00</td>\n",
       "      <td>9.000000e+00</td>\n",
       "      <td>2.135000e+03</td>\n",
       "      <td>1.100000e+01</td>\n",
       "      <td>3.000000e+00</td>\n",
       "      <td>8.800000e+00</td>\n",
       "      <td>5.150073e+01</td>\n",
       "      <td>-2.497000e-04</td>\n",
       "    </tr>\n",
       "    <tr>\n",
       "      <th>75%</th>\n",
       "      <td>6.810000e+02</td>\n",
       "      <td>8.800000e+00</td>\n",
       "      <td>2.300000e+01</td>\n",
       "      <td>3.633000e+03</td>\n",
       "      <td>2.200000e+01</td>\n",
       "      <td>8.000000e+00</td>\n",
       "      <td>9.600000e+00</td>\n",
       "      <td>5.151638e+01</td>\n",
       "      <td>4.831098e+00</td>\n",
       "    </tr>\n",
       "    <tr>\n",
       "      <th>max</th>\n",
       "      <td>2.682000e+03</td>\n",
       "      <td>9.800000e+00</td>\n",
       "      <td>4.080000e+02</td>\n",
       "      <td>1.667000e+04</td>\n",
       "      <td>3.950000e+02</td>\n",
       "      <td>3.550000e+02</td>\n",
       "      <td>1.000000e+01</td>\n",
       "      <td>5.240018e+01</td>\n",
       "      <td>1.642923e+01</td>\n",
       "    </tr>\n",
       "  </tbody>\n",
       "</table>\n",
       "</div>"
      ],
      "text/plain": [
       "       additional_number_of_scoring  average_score  \\\n",
       "count                  1.756505e+06   1.756505e+06   \n",
       "mean                   5.023287e+02   8.398813e+00   \n",
       "std                    5.021892e+02   5.488646e-01   \n",
       "min                    1.000000e+00   5.200000e+00   \n",
       "25%                    1.700000e+02   8.100000e+00   \n",
       "50%                    3.470000e+02   8.400000e+00   \n",
       "75%                    6.810000e+02   8.800000e+00   \n",
       "max                    2.682000e+03   9.800000e+00   \n",
       "\n",
       "       review_total_negative_word_counts  total_number_of_reviews  \\\n",
       "count                       1.756505e+06             1.756505e+06   \n",
       "mean                        1.827610e+01             2.751480e+03   \n",
       "std                         2.934022e+01             2.321959e+03   \n",
       "min                         0.000000e+00             4.300000e+01   \n",
       "25%                         2.000000e+00             1.161000e+03   \n",
       "50%                         9.000000e+00             2.135000e+03   \n",
       "75%                         2.300000e+01             3.633000e+03   \n",
       "max                         4.080000e+02             1.667000e+04   \n",
       "\n",
       "       review_total_positive_word_counts  \\\n",
       "count                       1.756505e+06   \n",
       "mean                        1.753048e+01   \n",
       "std                         2.140729e+01   \n",
       "min                         0.000000e+00   \n",
       "25%                         5.000000e+00   \n",
       "50%                         1.100000e+01   \n",
       "75%                         2.200000e+01   \n",
       "max                         3.950000e+02   \n",
       "\n",
       "       total_number_of_reviews_reviewer_has_given  reviewer_score  \\\n",
       "count                                1.756505e+06    1.756505e+06   \n",
       "mean                                 7.017133e+00    8.401915e+00   \n",
       "std                                  1.084631e+01    1.638640e+00   \n",
       "min                                  1.000000e+00    2.500000e+00   \n",
       "25%                                  1.000000e+00    7.500000e+00   \n",
       "50%                                  3.000000e+00    8.800000e+00   \n",
       "75%                                  8.000000e+00    9.600000e+00   \n",
       "max                                  3.550000e+02    1.000000e+01   \n",
       "\n",
       "                lat           lng  \n",
       "count  1.756505e+06  1.756505e+06  \n",
       "mean   4.944983e+01  2.797368e+00  \n",
       "std    3.469038e+00  4.550756e+00  \n",
       "min    4.132838e+01 -3.697581e-01  \n",
       "25%    4.821466e+01 -1.436492e-01  \n",
       "50%    5.150073e+01 -2.497000e-04  \n",
       "75%    5.151638e+01  4.831098e+00  \n",
       "max    5.240018e+01  1.642923e+01  "
      ]
     },
     "execution_count": 34,
     "metadata": {},
     "output_type": "execute_result"
    }
   ],
   "source": [
    "#Получим описательную статистику по числовым признакам\n",
    "hotels_df[numeric_features].describe()"
   ]
  },
  {
   "cell_type": "code",
   "execution_count": 35,
   "metadata": {},
   "outputs": [
    {
     "data": {
      "text/plain": [
       "additional_number_of_scoring                   479\n",
       "average_score                                   34\n",
       "review_total_negative_word_counts              402\n",
       "total_number_of_reviews                       1132\n",
       "review_total_positive_word_counts              353\n",
       "total_number_of_reviews_reviewer_has_given     193\n",
       "reviewer_score                                  37\n",
       "lat                                           1472\n",
       "lng                                           1472\n",
       "dtype: int64"
      ]
     },
     "execution_count": 35,
     "metadata": {},
     "output_type": "execute_result"
    }
   ],
   "source": [
    "#Найдем число уникальных значений в числовых признаках\n",
    "hotels_df[numeric_features].nunique()"
   ]
  },
  {
   "cell_type": "markdown",
   "metadata": {},
   "source": [
    "## !!!Преобразование признаков (стандартизация/нормализация)."
   ]
  },
  {
   "cell_type": "code",
   "execution_count": 37,
   "metadata": {},
   "outputs": [
    {
     "name": "stdout",
     "output_type": "stream",
     "text": [
      "<class 'pandas.core.frame.DataFrame'>\n",
      "Int64Index: 1756505 entries, 0 to 386802\n",
      "Data columns (total 9 columns):\n",
      " #   Column                                      Dtype  \n",
      "---  ------                                      -----  \n",
      " 0   additional_number_of_scoring                int64  \n",
      " 1   average_score                               float64\n",
      " 2   review_total_negative_word_counts           int64  \n",
      " 3   total_number_of_reviews                     int64  \n",
      " 4   review_total_positive_word_counts           int64  \n",
      " 5   total_number_of_reviews_reviewer_has_given  int64  \n",
      " 6   reviewer_score                              float64\n",
      " 7   lat                                         float64\n",
      " 8   lng                                         float64\n",
      "dtypes: float64(4), int64(5)\n",
      "memory usage: 134.0 MB\n"
     ]
    }
   ],
   "source": [
    "#Посмотрим на структуру данных\n",
    "hotels_df[numeric_features].info()"
   ]
  },
  {
   "cell_type": "code",
   "execution_count": 39,
   "metadata": {},
   "outputs": [],
   "source": [
    "#Выдвигаем гипотезы относительно нормального распределения данных\n",
    "H0 = 'Данные распределены нормально'\n",
    "Ha = 'Данные не распределены нормально (мы отвергаем H0)'\n",
    "\n",
    "#Установим уровень значимости в 5%\n",
    "alpha = 0.05"
   ]
  },
  {
   "cell_type": "code",
   "execution_count": 43,
   "metadata": {},
   "outputs": [
    {
     "name": "stdout",
     "output_type": "stream",
     "text": [
      "p=0.000\n",
      "Данные не распределены нормально (мы отвергаем H0)\n"
     ]
    }
   ],
   "source": [
    "#Тест Шапиро-Уилка\n",
    "from scipy.stats import shapiro\n",
    "\n",
    "_, p = shapiro(hotels_df['additional_number_of_scoring'])\n",
    "print('p=%.3f' % p)\n",
    "\n",
    "# Интерпретация \n",
    "\n",
    "if p > alpha:\n",
    "\tprint(H0)\n",
    "else:\n",
    "\tprint(Ha)"
   ]
  },
  {
   "cell_type": "code",
   "execution_count": 50,
   "metadata": {},
   "outputs": [
    {
     "ename": "IndexError",
     "evalue": "invalid index to scalar variable.",
     "output_type": "error",
     "traceback": [
      "\u001b[1;31m---------------------------------------------------------------------------\u001b[0m",
      "\u001b[1;31mIndexError\u001b[0m                                Traceback (most recent call last)",
      "\u001b[1;32m~\\AppData\\Local\\Temp/ipykernel_7496/665732965.py\u001b[0m in \u001b[0;36m<module>\u001b[1;34m\u001b[0m\n\u001b[0;32m      5\u001b[0m \u001b[1;31m#normaltest возвращает двустороннюю вероятность для проверки гипотезы\u001b[0m\u001b[1;33m\u001b[0m\u001b[1;33m\u001b[0m\u001b[1;33m\u001b[0m\u001b[0m\n\u001b[0;32m      6\u001b[0m \u001b[1;33m\u001b[0m\u001b[0m\n\u001b[1;32m----> 7\u001b[1;33m \u001b[0mprint\u001b[0m\u001b[1;33m(\u001b[0m\u001b[1;34m'p=%.3f'\u001b[0m \u001b[1;33m%\u001b[0m \u001b[0mp\u001b[0m\u001b[1;33m[\u001b[0m\u001b[1;36m0\u001b[0m\u001b[1;33m]\u001b[0m\u001b[1;33m)\u001b[0m\u001b[1;33m\u001b[0m\u001b[1;33m\u001b[0m\u001b[0m\n\u001b[0m\u001b[0;32m      8\u001b[0m \u001b[1;33m\u001b[0m\u001b[0m\n\u001b[0;32m      9\u001b[0m \u001b[1;31m# Интерпретация\u001b[0m\u001b[1;33m\u001b[0m\u001b[1;33m\u001b[0m\u001b[1;33m\u001b[0m\u001b[0m\n",
      "\u001b[1;31mIndexError\u001b[0m: invalid index to scalar variable."
     ]
    }
   ],
   "source": [
    "#Тест Д’Агостино\n",
    "from scipy.stats import normaltest\n",
    "\n",
    "_, p = normaltest(hotels_df['additional_number_of_scoring'])\n",
    "#normaltest возвращает двустороннюю вероятность для проверки гипотезы\n",
    "\n",
    "print('p=%.3f' % p[0])\n",
    "\n",
    "# Интерпретация \n",
    "\n",
    "if p[0] > alpha/2:\n",
    "\tprint(H0)\n",
    "else:\n",
    "\tprint(Ha)"
   ]
  },
  {
   "cell_type": "code",
   "execution_count": null,
   "metadata": {},
   "outputs": [],
   "source": []
  },
  {
   "cell_type": "code",
   "execution_count": 22,
   "metadata": {},
   "outputs": [
    {
     "name": "stdout",
     "output_type": "stream",
     "text": [
      "<class 'pandas.core.frame.DataFrame'>\n",
      "Int64Index: 1767522 entries, 0 to 386802\n",
      "Data columns (total 27 columns):\n",
      " #   Column                                      Dtype  \n",
      "---  ------                                      -----  \n",
      " 0   hotel_address                               object \n",
      " 1   additional_number_of_scoring                int64  \n",
      " 2   average_score                               float64\n",
      " 3   hotel_name                                  object \n",
      " 4   reviewer_nationality                        object \n",
      " 5   review_total_negative_word_counts           int64  \n",
      " 6   total_number_of_reviews                     int64  \n",
      " 7   review_total_positive_word_counts           int64  \n",
      " 8   total_number_of_reviews_reviewer_has_given  int64  \n",
      " 9   reviewer_score                              float64\n",
      " 10  days_since_review                           int64  \n",
      " 11  lat                                         float64\n",
      " 12  lng                                         float64\n",
      " 13  week                                        int64  \n",
      " 14  is_winter                                   int64  \n",
      " 15  is_spring                                   int64  \n",
      " 16  is_summer                                   int64  \n",
      " 17  is_autumn                                   int64  \n",
      " 18  negative_review_0                           int64  \n",
      " 19  negative_review_1                           int64  \n",
      " 20  negative_review_2                           int64  \n",
      " 21  positive_review_0                           int64  \n",
      " 22  positive_review_1                           int64  \n",
      " 23  positive_review_2                           int64  \n",
      " 24  positive_review_3                           int64  \n",
      " 25  positive_review_4                           int64  \n",
      " 26  tags_n                                      object \n",
      "dtypes: float64(4), int64(19), object(4)\n",
      "memory usage: 377.6+ MB\n"
     ]
    }
   ],
   "source": [
    "hotels_df.info()"
   ]
  },
  {
   "cell_type": "markdown",
   "metadata": {},
   "source": [
    "## !!!Отбор признаков (анализ мультиколлинеарности)."
   ]
  },
  {
   "cell_type": "code",
   "execution_count": 57,
   "metadata": {},
   "outputs": [
    {
     "data": {
      "text/html": [
       "<div>\n",
       "<style scoped>\n",
       "    .dataframe tbody tr th:only-of-type {\n",
       "        vertical-align: middle;\n",
       "    }\n",
       "\n",
       "    .dataframe tbody tr th {\n",
       "        vertical-align: top;\n",
       "    }\n",
       "\n",
       "    .dataframe thead th {\n",
       "        text-align: right;\n",
       "    }\n",
       "</style>\n",
       "<table border=\"1\" class=\"dataframe\">\n",
       "  <thead>\n",
       "    <tr style=\"text-align: right;\">\n",
       "      <th></th>\n",
       "      <th>additional_number_of_scoring</th>\n",
       "      <th>average_score</th>\n",
       "      <th>review_total_negative_word_counts</th>\n",
       "      <th>total_number_of_reviews</th>\n",
       "      <th>review_total_positive_word_counts</th>\n",
       "      <th>total_number_of_reviews_reviewer_has_given</th>\n",
       "      <th>reviewer_score</th>\n",
       "      <th>lat</th>\n",
       "      <th>lng</th>\n",
       "    </tr>\n",
       "  </thead>\n",
       "  <tbody>\n",
       "    <tr>\n",
       "      <th>additional_number_of_scoring</th>\n",
       "      <td>1.000000</td>\n",
       "      <td>-0.153824</td>\n",
       "      <td>0.029427</td>\n",
       "      <td>0.826068</td>\n",
       "      <td>-0.051572</td>\n",
       "      <td>-0.072681</td>\n",
       "      <td>-0.061649</td>\n",
       "      <td>0.336551</td>\n",
       "      <td>-0.295954</td>\n",
       "    </tr>\n",
       "    <tr>\n",
       "      <th>average_score</th>\n",
       "      <td>-0.153824</td>\n",
       "      <td>1.000000</td>\n",
       "      <td>-0.113737</td>\n",
       "      <td>-0.181456</td>\n",
       "      <td>0.106098</td>\n",
       "      <td>0.036982</td>\n",
       "      <td>0.364493</td>\n",
       "      <td>-0.108099</td>\n",
       "      <td>0.105756</td>\n",
       "    </tr>\n",
       "    <tr>\n",
       "      <th>review_total_negative_word_counts</th>\n",
       "      <td>0.029427</td>\n",
       "      <td>-0.113737</td>\n",
       "      <td>1.000000</td>\n",
       "      <td>0.035277</td>\n",
       "      <td>0.116821</td>\n",
       "      <td>0.001534</td>\n",
       "      <td>-0.382924</td>\n",
       "      <td>0.019536</td>\n",
       "      <td>-0.020945</td>\n",
       "    </tr>\n",
       "    <tr>\n",
       "      <th>total_number_of_reviews</th>\n",
       "      <td>0.826068</td>\n",
       "      <td>-0.181456</td>\n",
       "      <td>0.035277</td>\n",
       "      <td>1.000000</td>\n",
       "      <td>-0.028978</td>\n",
       "      <td>-0.026888</td>\n",
       "      <td>-0.073627</td>\n",
       "      <td>0.101432</td>\n",
       "      <td>-0.015160</td>\n",
       "    </tr>\n",
       "    <tr>\n",
       "      <th>review_total_positive_word_counts</th>\n",
       "      <td>-0.051572</td>\n",
       "      <td>0.106098</td>\n",
       "      <td>0.116821</td>\n",
       "      <td>-0.028978</td>\n",
       "      <td>1.000000</td>\n",
       "      <td>0.026060</td>\n",
       "      <td>0.219568</td>\n",
       "      <td>-0.038657</td>\n",
       "      <td>0.034636</td>\n",
       "    </tr>\n",
       "    <tr>\n",
       "      <th>total_number_of_reviews_reviewer_has_given</th>\n",
       "      <td>-0.072681</td>\n",
       "      <td>0.036982</td>\n",
       "      <td>0.001534</td>\n",
       "      <td>-0.026888</td>\n",
       "      <td>0.026060</td>\n",
       "      <td>1.000000</td>\n",
       "      <td>0.002285</td>\n",
       "      <td>-0.060535</td>\n",
       "      <td>0.109952</td>\n",
       "    </tr>\n",
       "    <tr>\n",
       "      <th>reviewer_score</th>\n",
       "      <td>-0.061649</td>\n",
       "      <td>0.364493</td>\n",
       "      <td>-0.382924</td>\n",
       "      <td>-0.073627</td>\n",
       "      <td>0.219568</td>\n",
       "      <td>0.002285</td>\n",
       "      <td>1.000000</td>\n",
       "      <td>-0.036457</td>\n",
       "      <td>0.033695</td>\n",
       "    </tr>\n",
       "    <tr>\n",
       "      <th>lat</th>\n",
       "      <td>0.336551</td>\n",
       "      <td>-0.108099</td>\n",
       "      <td>0.019536</td>\n",
       "      <td>0.101432</td>\n",
       "      <td>-0.038657</td>\n",
       "      <td>-0.060535</td>\n",
       "      <td>-0.036457</td>\n",
       "      <td>1.000000</td>\n",
       "      <td>-0.304004</td>\n",
       "    </tr>\n",
       "    <tr>\n",
       "      <th>lng</th>\n",
       "      <td>-0.295954</td>\n",
       "      <td>0.105756</td>\n",
       "      <td>-0.020945</td>\n",
       "      <td>-0.015160</td>\n",
       "      <td>0.034636</td>\n",
       "      <td>0.109952</td>\n",
       "      <td>0.033695</td>\n",
       "      <td>-0.304004</td>\n",
       "      <td>1.000000</td>\n",
       "    </tr>\n",
       "  </tbody>\n",
       "</table>\n",
       "</div>"
      ],
      "text/plain": [
       "                                            additional_number_of_scoring  \\\n",
       "additional_number_of_scoring                                    1.000000   \n",
       "average_score                                                  -0.153824   \n",
       "review_total_negative_word_counts                               0.029427   \n",
       "total_number_of_reviews                                         0.826068   \n",
       "review_total_positive_word_counts                              -0.051572   \n",
       "total_number_of_reviews_reviewer_has_given                     -0.072681   \n",
       "reviewer_score                                                 -0.061649   \n",
       "lat                                                             0.336551   \n",
       "lng                                                            -0.295954   \n",
       "\n",
       "                                            average_score  \\\n",
       "additional_number_of_scoring                    -0.153824   \n",
       "average_score                                    1.000000   \n",
       "review_total_negative_word_counts               -0.113737   \n",
       "total_number_of_reviews                         -0.181456   \n",
       "review_total_positive_word_counts                0.106098   \n",
       "total_number_of_reviews_reviewer_has_given       0.036982   \n",
       "reviewer_score                                   0.364493   \n",
       "lat                                             -0.108099   \n",
       "lng                                              0.105756   \n",
       "\n",
       "                                            review_total_negative_word_counts  \\\n",
       "additional_number_of_scoring                                         0.029427   \n",
       "average_score                                                       -0.113737   \n",
       "review_total_negative_word_counts                                    1.000000   \n",
       "total_number_of_reviews                                              0.035277   \n",
       "review_total_positive_word_counts                                    0.116821   \n",
       "total_number_of_reviews_reviewer_has_given                           0.001534   \n",
       "reviewer_score                                                      -0.382924   \n",
       "lat                                                                  0.019536   \n",
       "lng                                                                 -0.020945   \n",
       "\n",
       "                                            total_number_of_reviews  \\\n",
       "additional_number_of_scoring                               0.826068   \n",
       "average_score                                             -0.181456   \n",
       "review_total_negative_word_counts                          0.035277   \n",
       "total_number_of_reviews                                    1.000000   \n",
       "review_total_positive_word_counts                         -0.028978   \n",
       "total_number_of_reviews_reviewer_has_given                -0.026888   \n",
       "reviewer_score                                            -0.073627   \n",
       "lat                                                        0.101432   \n",
       "lng                                                       -0.015160   \n",
       "\n",
       "                                            review_total_positive_word_counts  \\\n",
       "additional_number_of_scoring                                        -0.051572   \n",
       "average_score                                                        0.106098   \n",
       "review_total_negative_word_counts                                    0.116821   \n",
       "total_number_of_reviews                                             -0.028978   \n",
       "review_total_positive_word_counts                                    1.000000   \n",
       "total_number_of_reviews_reviewer_has_given                           0.026060   \n",
       "reviewer_score                                                       0.219568   \n",
       "lat                                                                 -0.038657   \n",
       "lng                                                                  0.034636   \n",
       "\n",
       "                                            total_number_of_reviews_reviewer_has_given  \\\n",
       "additional_number_of_scoring                                                 -0.072681   \n",
       "average_score                                                                 0.036982   \n",
       "review_total_negative_word_counts                                             0.001534   \n",
       "total_number_of_reviews                                                      -0.026888   \n",
       "review_total_positive_word_counts                                             0.026060   \n",
       "total_number_of_reviews_reviewer_has_given                                    1.000000   \n",
       "reviewer_score                                                                0.002285   \n",
       "lat                                                                          -0.060535   \n",
       "lng                                                                           0.109952   \n",
       "\n",
       "                                            reviewer_score       lat       lng  \n",
       "additional_number_of_scoring                     -0.061649  0.336551 -0.295954  \n",
       "average_score                                     0.364493 -0.108099  0.105756  \n",
       "review_total_negative_word_counts                -0.382924  0.019536 -0.020945  \n",
       "total_number_of_reviews                          -0.073627  0.101432 -0.015160  \n",
       "review_total_positive_word_counts                 0.219568 -0.038657  0.034636  \n",
       "total_number_of_reviews_reviewer_has_given        0.002285 -0.060535  0.109952  \n",
       "reviewer_score                                    1.000000 -0.036457  0.033695  \n",
       "lat                                              -0.036457  1.000000 -0.304004  \n",
       "lng                                               0.033695 -0.304004  1.000000  "
      ]
     },
     "execution_count": 57,
     "metadata": {},
     "output_type": "execute_result"
    }
   ],
   "source": [
    "hotels_df[numeric_features].corr()"
   ]
  },
  {
   "cell_type": "code",
   "execution_count": 58,
   "metadata": {},
   "outputs": [
    {
     "data": {
      "text/plain": [
       "<AxesSubplot:>"
      ]
     },
     "execution_count": 58,
     "metadata": {},
     "output_type": "execute_result"
    },
    {
     "data": {
      "image/png": "[encoded data removed]",
      "text/plain": [
       "<Figure size 432x288 with 2 Axes>"
      ]
     },
     "metadata": {
      "needs_background": "light"
     },
     "output_type": "display_data"
    }
   ],
   "source": [
    "sns.heatmap(hotels_df[numeric_features].corr(), annot=True) # включаем отображение коэффициентов"
   ]
  },
  {
   "cell_type": "code",
   "execution_count": null,
   "metadata": {},
   "outputs": [],
   "source": []
  },
  {
   "cell_type": "code",
   "execution_count": null,
   "metadata": {},
   "outputs": [],
   "source": []
  },
  {
   "cell_type": "code",
   "execution_count": null,
   "metadata": {},
   "outputs": [],
   "source": []
  },
  {
   "cell_type": "code",
   "execution_count": null,
   "metadata": {},
   "outputs": [],
   "source": []
  },
  {
   "cell_type": "code",
   "execution_count": null,
   "metadata": {},
   "outputs": [],
   "source": []
  },
  {
   "cell_type": "code",
   "execution_count": null,
   "metadata": {},
   "outputs": [],
   "source": []
  },
  {
   "cell_type": "code",
   "execution_count": null,
   "metadata": {},
   "outputs": [],
   "source": []
  },
  {
   "cell_type": "code",
   "execution_count": null,
   "metadata": {},
   "outputs": [],
   "source": []
  },
  {
   "cell_type": "code",
   "execution_count": null,
   "metadata": {},
   "outputs": [],
   "source": []
  },
  {
   "cell_type": "code",
   "execution_count": null,
   "metadata": {},
   "outputs": [],
   "source": []
  },
  {
   "cell_type": "code",
   "execution_count": null,
   "metadata": {},
   "outputs": [],
   "source": []
  },
  {
   "cell_type": "code",
   "execution_count": null,
   "metadata": {},
   "outputs": [],
   "source": []
  },
  {
   "cell_type": "code",
   "execution_count": null,
   "metadata": {},
   "outputs": [],
   "source": []
  },
  {
   "cell_type": "code",
   "execution_count": 51,
   "metadata": {},
   "outputs": [
    {
     "ename": "MemoryError",
     "evalue": "Unable to allocate 804. MiB for an array with shape (60, 1756505) and data type int64",
     "output_type": "error",
     "traceback": [
      "\u001b[1;31m---------------------------------------------------------------------------\u001b[0m",
      "\u001b[1;31mMemoryError\u001b[0m                               Traceback (most recent call last)",
      "\u001b[1;32m~\\AppData\\Local\\Temp/ipykernel_7496/3861645571.py\u001b[0m in \u001b[0;36m<module>\u001b[1;34m\u001b[0m\n\u001b[0;32m      1\u001b[0m \u001b[1;31m# Разбиваем датафрейм на части, необходимые для обучения и тестирования модели\u001b[0m\u001b[1;33m\u001b[0m\u001b[1;33m\u001b[0m\u001b[1;33m\u001b[0m\u001b[0m\n\u001b[0;32m      2\u001b[0m \u001b[1;31m# Х - данные с информацией об отелях, у - целевая переменная (рейтинги отелей)\u001b[0m\u001b[1;33m\u001b[0m\u001b[1;33m\u001b[0m\u001b[1;33m\u001b[0m\u001b[0m\n\u001b[1;32m----> 3\u001b[1;33m \u001b[0mX\u001b[0m \u001b[1;33m=\u001b[0m \u001b[0mhotels_df\u001b[0m\u001b[1;33m.\u001b[0m\u001b[0mcopy\u001b[0m\u001b[1;33m(\u001b[0m\u001b[1;33m)\u001b[0m\u001b[1;33m\u001b[0m\u001b[1;33m\u001b[0m\u001b[0m\n\u001b[0m\u001b[0;32m      4\u001b[0m \u001b[0my\u001b[0m \u001b[1;33m=\u001b[0m \u001b[0mhotels_df\u001b[0m\u001b[1;33m[\u001b[0m\u001b[1;34m'reviewer_score'\u001b[0m\u001b[1;33m]\u001b[0m\u001b[1;33m\u001b[0m\u001b[1;33m\u001b[0m\u001b[0m\n",
      "\u001b[1;32m~\\.conda\\envs\\sf\\lib\\site-packages\\pandas\\core\\generic.py\u001b[0m in \u001b[0;36mcopy\u001b[1;34m(self, deep)\u001b[0m\n\u001b[0;32m   5931\u001b[0m         \u001b[0mdtype\u001b[0m\u001b[1;33m:\u001b[0m \u001b[0mobject\u001b[0m\u001b[1;33m\u001b[0m\u001b[1;33m\u001b[0m\u001b[0m\n\u001b[0;32m   5932\u001b[0m         \"\"\"\n\u001b[1;32m-> 5933\u001b[1;33m         \u001b[0mdata\u001b[0m \u001b[1;33m=\u001b[0m \u001b[0mself\u001b[0m\u001b[1;33m.\u001b[0m\u001b[0m_mgr\u001b[0m\u001b[1;33m.\u001b[0m\u001b[0mcopy\u001b[0m\u001b[1;33m(\u001b[0m\u001b[0mdeep\u001b[0m\u001b[1;33m=\u001b[0m\u001b[0mdeep\u001b[0m\u001b[1;33m)\u001b[0m\u001b[1;33m\u001b[0m\u001b[1;33m\u001b[0m\u001b[0m\n\u001b[0m\u001b[0;32m   5934\u001b[0m         \u001b[0mself\u001b[0m\u001b[1;33m.\u001b[0m\u001b[0m_clear_item_cache\u001b[0m\u001b[1;33m(\u001b[0m\u001b[1;33m)\u001b[0m\u001b[1;33m\u001b[0m\u001b[1;33m\u001b[0m\u001b[0m\n\u001b[0;32m   5935\u001b[0m         \u001b[1;32mreturn\u001b[0m \u001b[0mself\u001b[0m\u001b[1;33m.\u001b[0m\u001b[0m_constructor\u001b[0m\u001b[1;33m(\u001b[0m\u001b[0mdata\u001b[0m\u001b[1;33m)\u001b[0m\u001b[1;33m.\u001b[0m\u001b[0m__finalize__\u001b[0m\u001b[1;33m(\u001b[0m\u001b[0mself\u001b[0m\u001b[1;33m,\u001b[0m \u001b[0mmethod\u001b[0m\u001b[1;33m=\u001b[0m\u001b[1;34m\"copy\"\u001b[0m\u001b[1;33m)\u001b[0m\u001b[1;33m\u001b[0m\u001b[1;33m\u001b[0m\u001b[0m\n",
      "\u001b[1;32m~\\.conda\\envs\\sf\\lib\\site-packages\\pandas\\core\\internals\\managers.py\u001b[0m in \u001b[0;36mcopy\u001b[1;34m(self, deep)\u001b[0m\n\u001b[0;32m    597\u001b[0m             \u001b[0mnew_axes\u001b[0m \u001b[1;33m=\u001b[0m \u001b[0mlist\u001b[0m\u001b[1;33m(\u001b[0m\u001b[0mself\u001b[0m\u001b[1;33m.\u001b[0m\u001b[0maxes\u001b[0m\u001b[1;33m)\u001b[0m\u001b[1;33m\u001b[0m\u001b[1;33m\u001b[0m\u001b[0m\n\u001b[0;32m    598\u001b[0m \u001b[1;33m\u001b[0m\u001b[0m\n\u001b[1;32m--> 599\u001b[1;33m         \u001b[0mres\u001b[0m \u001b[1;33m=\u001b[0m \u001b[0mself\u001b[0m\u001b[1;33m.\u001b[0m\u001b[0mapply\u001b[0m\u001b[1;33m(\u001b[0m\u001b[1;34m\"copy\"\u001b[0m\u001b[1;33m,\u001b[0m \u001b[0mdeep\u001b[0m\u001b[1;33m=\u001b[0m\u001b[0mdeep\u001b[0m\u001b[1;33m)\u001b[0m\u001b[1;33m\u001b[0m\u001b[1;33m\u001b[0m\u001b[0m\n\u001b[0m\u001b[0;32m    600\u001b[0m         \u001b[0mres\u001b[0m\u001b[1;33m.\u001b[0m\u001b[0maxes\u001b[0m \u001b[1;33m=\u001b[0m \u001b[0mnew_axes\u001b[0m\u001b[1;33m\u001b[0m\u001b[1;33m\u001b[0m\u001b[0m\n\u001b[0;32m    601\u001b[0m \u001b[1;33m\u001b[0m\u001b[0m\n",
      "\u001b[1;32m~\\.conda\\envs\\sf\\lib\\site-packages\\pandas\\core\\internals\\managers.py\u001b[0m in \u001b[0;36mapply\u001b[1;34m(self, f, align_keys, ignore_failures, **kwargs)\u001b[0m\n\u001b[0;32m    325\u001b[0m                     \u001b[0mapplied\u001b[0m \u001b[1;33m=\u001b[0m \u001b[0mb\u001b[0m\u001b[1;33m.\u001b[0m\u001b[0mapply\u001b[0m\u001b[1;33m(\u001b[0m\u001b[0mf\u001b[0m\u001b[1;33m,\u001b[0m \u001b[1;33m**\u001b[0m\u001b[0mkwargs\u001b[0m\u001b[1;33m)\u001b[0m\u001b[1;33m\u001b[0m\u001b[1;33m\u001b[0m\u001b[0m\n\u001b[0;32m    326\u001b[0m                 \u001b[1;32melse\u001b[0m\u001b[1;33m:\u001b[0m\u001b[1;33m\u001b[0m\u001b[1;33m\u001b[0m\u001b[0m\n\u001b[1;32m--> 327\u001b[1;33m                     \u001b[0mapplied\u001b[0m \u001b[1;33m=\u001b[0m \u001b[0mgetattr\u001b[0m\u001b[1;33m(\u001b[0m\u001b[0mb\u001b[0m\u001b[1;33m,\u001b[0m \u001b[0mf\u001b[0m\u001b[1;33m)\u001b[0m\u001b[1;33m(\u001b[0m\u001b[1;33m**\u001b[0m\u001b[0mkwargs\u001b[0m\u001b[1;33m)\u001b[0m\u001b[1;33m\u001b[0m\u001b[1;33m\u001b[0m\u001b[0m\n\u001b[0m\u001b[0;32m    328\u001b[0m             \u001b[1;32mexcept\u001b[0m \u001b[1;33m(\u001b[0m\u001b[0mTypeError\u001b[0m\u001b[1;33m,\u001b[0m \u001b[0mNotImplementedError\u001b[0m\u001b[1;33m)\u001b[0m\u001b[1;33m:\u001b[0m\u001b[1;33m\u001b[0m\u001b[1;33m\u001b[0m\u001b[0m\n\u001b[0;32m    329\u001b[0m                 \u001b[1;32mif\u001b[0m \u001b[1;32mnot\u001b[0m \u001b[0mignore_failures\u001b[0m\u001b[1;33m:\u001b[0m\u001b[1;33m\u001b[0m\u001b[1;33m\u001b[0m\u001b[0m\n",
      "\u001b[1;32m~\\.conda\\envs\\sf\\lib\\site-packages\\pandas\\core\\internals\\blocks.py\u001b[0m in \u001b[0;36mcopy\u001b[1;34m(self, deep)\u001b[0m\n\u001b[0;32m    649\u001b[0m         \u001b[0mvalues\u001b[0m \u001b[1;33m=\u001b[0m \u001b[0mself\u001b[0m\u001b[1;33m.\u001b[0m\u001b[0mvalues\u001b[0m\u001b[1;33m\u001b[0m\u001b[1;33m\u001b[0m\u001b[0m\n\u001b[0;32m    650\u001b[0m         \u001b[1;32mif\u001b[0m \u001b[0mdeep\u001b[0m\u001b[1;33m:\u001b[0m\u001b[1;33m\u001b[0m\u001b[1;33m\u001b[0m\u001b[0m\n\u001b[1;32m--> 651\u001b[1;33m             \u001b[0mvalues\u001b[0m \u001b[1;33m=\u001b[0m \u001b[0mvalues\u001b[0m\u001b[1;33m.\u001b[0m\u001b[0mcopy\u001b[0m\u001b[1;33m(\u001b[0m\u001b[1;33m)\u001b[0m\u001b[1;33m\u001b[0m\u001b[1;33m\u001b[0m\u001b[0m\n\u001b[0m\u001b[0;32m    652\u001b[0m         \u001b[1;32mreturn\u001b[0m \u001b[0mself\u001b[0m\u001b[1;33m.\u001b[0m\u001b[0mmake_block_same_class\u001b[0m\u001b[1;33m(\u001b[0m\u001b[0mvalues\u001b[0m\u001b[1;33m)\u001b[0m\u001b[1;33m\u001b[0m\u001b[1;33m\u001b[0m\u001b[0m\n\u001b[0;32m    653\u001b[0m \u001b[1;33m\u001b[0m\u001b[0m\n",
      "\u001b[1;31mMemoryError\u001b[0m: Unable to allocate 804. MiB for an array with shape (60, 1756505) and data type int64"
     ]
    }
   ],
   "source": [
    "# Разбиваем датафрейм на части, необходимые для обучения и тестирования модели  \n",
    "# Х - данные с информацией об отелях, у - целевая переменная (рейтинги отелей)  \n",
    "X = hotels_df.copy()\n",
    "y = hotels_df['reviewer_score'] "
   ]
  },
  {
   "cell_type": "code",
   "execution_count": 26,
   "metadata": {},
   "outputs": [
    {
     "name": "stdout",
     "output_type": "stream",
     "text": [
      "<class 'pandas.core.frame.DataFrame'>\n",
      "Int64Index: 1767522 entries, 0 to 386802\n",
      "Data columns (total 22 columns):\n",
      " #   Column                                      Dtype  \n",
      "---  ------                                      -----  \n",
      " 0   additional_number_of_scoring                int64  \n",
      " 1   average_score                               float64\n",
      " 2   review_total_negative_word_counts           int64  \n",
      " 3   total_number_of_reviews                     int64  \n",
      " 4   review_total_positive_word_counts           int64  \n",
      " 5   total_number_of_reviews_reviewer_has_given  int64  \n",
      " 6   days_since_review                           int64  \n",
      " 7   lat                                         float64\n",
      " 8   lng                                         float64\n",
      " 9   week                                        int64  \n",
      " 10  is_winter                                   int64  \n",
      " 11  is_spring                                   int64  \n",
      " 12  is_summer                                   int64  \n",
      " 13  is_autumn                                   int64  \n",
      " 14  negative_review_0                           int64  \n",
      " 15  negative_review_1                           int64  \n",
      " 16  negative_review_2                           int64  \n",
      " 17  positive_review_0                           int64  \n",
      " 18  positive_review_1                           int64  \n",
      " 19  positive_review_2                           int64  \n",
      " 20  positive_review_3                           int64  \n",
      " 21  positive_review_4                           int64  \n",
      "dtypes: float64(3), int64(19)\n",
      "memory usage: 310.2 MB\n"
     ]
    }
   ],
   "source": [
    "X.info()"
   ]
  },
  {
   "cell_type": "code",
   "execution_count": 27,
   "metadata": {},
   "outputs": [],
   "source": [
    "# Загружаем специальный инструмент для разбивки:  \n",
    "from sklearn.model_selection import train_test_split  "
   ]
  },
  {
   "cell_type": "code",
   "execution_count": 28,
   "metadata": {},
   "outputs": [],
   "source": [
    "# Наборы данных с меткой \"train\" будут использоваться для обучения модели, \"test\" - для тестирования.  \n",
    "# Для тестирования мы будем использовать 25% от исходного датасета.  \n",
    "X_train, X_test, y_train, y_test = train_test_split(X, y, test_size=0.25, random_state=42)"
   ]
  },
  {
   "cell_type": "code",
   "execution_count": 29,
   "metadata": {},
   "outputs": [],
   "source": [
    "# Импортируем необходимые библиотеки:  \n",
    "from sklearn.ensemble import RandomForestRegressor # инструмент для создания и обучения модели  \n",
    "from sklearn import metrics # инструменты для оценки точности модели  "
   ]
  },
  {
   "cell_type": "code",
   "execution_count": 30,
   "metadata": {},
   "outputs": [],
   "source": [
    "# Создаём модель  \n",
    "regr = RandomForestRegressor(n_estimators=100) "
   ]
  },
  {
   "cell_type": "code",
   "execution_count": 31,
   "metadata": {},
   "outputs": [
    {
     "data": {
      "text/plain": [
       "RandomForestRegressor()"
      ]
     },
     "execution_count": 31,
     "metadata": {},
     "output_type": "execute_result"
    }
   ],
   "source": [
    "# Обучаем модель на тестовом наборе данных  \n",
    "regr.fit(X_train, y_train) "
   ]
  },
  {
   "cell_type": "code",
   "execution_count": 32,
   "metadata": {},
   "outputs": [],
   "source": [
    "# Используем обученную модель для предсказания рейтинга отелей в тестовой выборке.  \n",
    "# Предсказанные значения записываем в переменную y_pred  \n",
    "y_pred = regr.predict(X_test) "
   ]
  },
  {
   "cell_type": "code",
   "execution_count": 33,
   "metadata": {},
   "outputs": [
    {
     "name": "stdout",
     "output_type": "stream",
     "text": [
      "MAPE: 0.01439710441689621\n"
     ]
    }
   ],
   "source": [
    "# Сравниваем предсказанные значения (y_pred) с реальными (y_test), и смотрим насколько они отличаются  \n",
    "# Метрика называется Mean Absolute Percentage Error (MAPE) и показывает среднюю абсолютную процентную ошибку предсказанных значений от фактических.  \n",
    "print('MAPE:', metrics.mean_absolute_percentage_error(y_test, y_pred))"
   ]
  },
  {
   "cell_type": "markdown",
   "metadata": {},
   "source": [
    "Небольшой бонус:\n"
   ]
  },
  {
   "cell_type": "code",
   "execution_count": null,
   "metadata": {},
   "outputs": [],
   "source": [
    "# # убираем признаки которые еще не успели обработать, \n",
    "# # модель на признаках с dtypes \"object\" обучаться не будет, просто выберим их и удалим\n",
    "# object_columns = [s for s in hotels.columns if hotels[s].dtypes == 'object']\n",
    "# hotels.drop(object_columns, axis = 1, inplace=True)\n",
    "\n",
    "# # заполняем пропуски самым простым способом\n",
    "# hotels = hotels.fillna(0)"
   ]
  }
 ],
 "metadata": {
  "kernelspec": {
   "display_name": "Python 3",
   "language": "python",
   "name": "python3"
  },
  "language_info": {
   "codemirror_mode": {
    "name": "ipython",
    "version": 3
   },
   "file_extension": ".py",
   "mimetype": "text/x-python",
   "name": "python",
   "nbconvert_exporter": "python",
   "pygments_lexer": "ipython3",
   "version": "3.8.11"
  }
 },
 "nbformat": 4,
 "nbformat_minor": 2
}
